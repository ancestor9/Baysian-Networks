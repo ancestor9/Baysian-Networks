{
 "cells": [
  {
   "cell_type": "markdown",
   "id": "11cc46f9",
   "metadata": {},
   "source": [
    "# <font color='blue'> Monty Hall Problem"
   ]
  },
  {
   "cell_type": "code",
   "execution_count": 1,
   "id": "0dc4d5fc",
   "metadata": {},
   "outputs": [],
   "source": [
    "from IPython.core.interactiveshell import InteractiveShell # 모든 명령어 출력\n",
    "InteractiveShell.ast_node_interactivity = 'all'\n",
    "import warnings\n",
    "warnings.filterwarnings('ignore')\n",
    "\n",
    "import numpy as np\n",
    "import pandas as pd\n",
    "import matplotlib.pyplot as plt\n",
    "import seaborn as sns"
   ]
  },
  {
   "cell_type": "markdown",
   "id": "b5d5ee04",
   "metadata": {},
   "source": [
    "## 2.1. Problem Description:\n",
    "#### In search of a new car, the player picks a door, say 1. The game host then opens one of the other doors, say 3, to reveal a goat and offers to let the player switch from door 1 to door 2.\n",
    "<img src='https://upload.wikimedia.org/wikipedia/commons/thumb/3/3f/Monty_open_door.svg/330px-Monty_open_door.svg.png'>\n",
    "https://en.wikipedia.org/wiki/Monty_Hall_problem"
   ]
  },
  {
   "cell_type": "code",
   "execution_count": 2,
   "id": "da4d1ae5",
   "metadata": {},
   "outputs": [
    {
     "data": {
      "text/plain": [
       "[<TabularCPD representing P(C:3) at 0x1d91833c220>,\n",
       " <TabularCPD representing P(P:3) at 0x1d9182e8850>,\n",
       " <TabularCPD representing P(H:3 | C:3, P:3) at 0x1d9182e5460>]"
      ]
     },
     "execution_count": 2,
     "metadata": {},
     "output_type": "execute_result"
    }
   ],
   "source": [
    "from pgmpy.models import BayesianNetwork\n",
    "from pgmpy.factors.discrete import TabularCPD\n",
    "\n",
    "# Defining the network structure\n",
    "model = BayesianNetwork([(\"C\", \"H\"), (\"P\", \"H\")])\n",
    "\n",
    "# Defining the CPDs:\n",
    "cpd_c = TabularCPD(\"C\", 3, [[0.33], [0.33], [0.33]])\n",
    "cpd_p = TabularCPD(\"P\", 3, [[0.33], [0.33], [0.33]])\n",
    "cpd_h = TabularCPD(\n",
    "    \"H\",\n",
    "    3,\n",
    "    [\n",
    "        [0, 0, 0, 0, 0.5, 1, 0, 1, 0.5],\n",
    "        [0.5, 0, 1, 0, 0, 0, 1, 0, 0.5],\n",
    "        [0.5, 1, 0, 1, 0.5, 0, 0, 0, 0],\n",
    "    ],\n",
    "    evidence=[\"C\", \"P\"],\n",
    "    evidence_card=[3, 3],\n",
    ")\n",
    "\n",
    "# Associating the CPDs with the network structure.\n",
    "model.add_cpds(cpd_c, cpd_p, cpd_h)\n",
    "\n",
    "# Some other methods\n",
    "model.get_cpds()"
   ]
  },
  {
   "cell_type": "markdown",
   "id": "dcdd694d",
   "metadata": {},
   "source": [
    "<img src='https://pgmpy.org/_images/examples_Monty_Hall_Problem_3_0.png' width=400 height=400>\n",
    "\n",
    "\n",
    "\n",
    "P=prize(new car), C=contestor, H= true"
   ]
  },
  {
   "cell_type": "code",
   "execution_count": 3,
   "id": "cfa6b2d5",
   "metadata": {},
   "outputs": [
    {
     "data": {
      "text/html": [
       "<div>\n",
       "<style scoped>\n",
       "    .dataframe tbody tr th:only-of-type {\n",
       "        vertical-align: middle;\n",
       "    }\n",
       "\n",
       "    .dataframe tbody tr th {\n",
       "        vertical-align: top;\n",
       "    }\n",
       "\n",
       "    .dataframe thead tr th {\n",
       "        text-align: left;\n",
       "    }\n",
       "\n",
       "    .dataframe thead tr:last-of-type th {\n",
       "        text-align: right;\n",
       "    }\n",
       "</style>\n",
       "<table border=\"1\" class=\"dataframe\">\n",
       "  <thead>\n",
       "    <tr>\n",
       "      <th></th>\n",
       "      <th colspan=\"3\" halign=\"left\">door_1</th>\n",
       "      <th colspan=\"3\" halign=\"left\">door_2</th>\n",
       "      <th colspan=\"3\" halign=\"left\">door_3</th>\n",
       "    </tr>\n",
       "    <tr>\n",
       "      <th></th>\n",
       "      <th>door_1</th>\n",
       "      <th>door_2</th>\n",
       "      <th>door_3</th>\n",
       "      <th>door_1</th>\n",
       "      <th>door_2</th>\n",
       "      <th>door_3</th>\n",
       "      <th>door_1</th>\n",
       "      <th>door_2</th>\n",
       "      <th>door_3</th>\n",
       "    </tr>\n",
       "    <tr>\n",
       "      <th>사회자(Host)가 아래 문을 열 확률</th>\n",
       "      <th></th>\n",
       "      <th></th>\n",
       "      <th></th>\n",
       "      <th></th>\n",
       "      <th></th>\n",
       "      <th></th>\n",
       "      <th></th>\n",
       "      <th></th>\n",
       "      <th></th>\n",
       "    </tr>\n",
       "  </thead>\n",
       "  <tbody>\n",
       "    <tr>\n",
       "      <th>Host=1</th>\n",
       "      <td>0.0</td>\n",
       "      <td>0.0</td>\n",
       "      <td>0.0</td>\n",
       "      <td>0.0</td>\n",
       "      <td>0.5</td>\n",
       "      <td>1.0</td>\n",
       "      <td>0.0</td>\n",
       "      <td>1.0</td>\n",
       "      <td>0.5</td>\n",
       "    </tr>\n",
       "    <tr>\n",
       "      <th>Host=2</th>\n",
       "      <td>0.5</td>\n",
       "      <td>0.0</td>\n",
       "      <td>1.0</td>\n",
       "      <td>0.0</td>\n",
       "      <td>0.0</td>\n",
       "      <td>0.0</td>\n",
       "      <td>1.0</td>\n",
       "      <td>0.0</td>\n",
       "      <td>0.5</td>\n",
       "    </tr>\n",
       "    <tr>\n",
       "      <th>Host=3</th>\n",
       "      <td>0.5</td>\n",
       "      <td>1.0</td>\n",
       "      <td>0.0</td>\n",
       "      <td>1.0</td>\n",
       "      <td>0.5</td>\n",
       "      <td>0.0</td>\n",
       "      <td>0.0</td>\n",
       "      <td>0.0</td>\n",
       "      <td>0.0</td>\n",
       "    </tr>\n",
       "  </tbody>\n",
       "</table>\n",
       "</div>"
      ],
      "text/plain": [
       "                      door_1               door_2               door_3         \\\n",
       "                      door_1 door_2 door_3 door_1 door_2 door_3 door_1 door_2   \n",
       "사회자(Host)가 아래 문을 열 확률                                                           \n",
       "Host=1                   0.0    0.0    0.0    0.0    0.5    1.0    0.0    1.0   \n",
       "Host=2                   0.5    0.0    1.0    0.0    0.0    0.0    1.0    0.0   \n",
       "Host=3                   0.5    1.0    0.0    1.0    0.5    0.0    0.0    0.0   \n",
       "\n",
       "                              \n",
       "                      door_3  \n",
       "사회자(Host)가 아래 문을 열 확률         \n",
       "Host=1                   0.5  \n",
       "Host=2                   0.5  \n",
       "Host=3                   0.0  "
      ]
     },
     "execution_count": 3,
     "metadata": {},
     "output_type": "execute_result"
    }
   ],
   "source": [
    "c = ['door_1']*3 + ['door_2']*3 + ['door_3']*3\n",
    "p = ['door_1', 'door_2', 'door_3']*3\n",
    "\n",
    "data = pd.DataFrame(cpd_h.get_values(), \n",
    "             index= ['Host=1', 'Host=2', 'Host=3'],\n",
    "             columns = [c, p])\n",
    "data.index.name ='사회자(Host)가 아래 문을 열 확률'\n",
    "data"
   ]
  },
  {
   "cell_type": "markdown",
   "id": "e2a9b3cc",
   "metadata": {},
   "source": [
    "### 맨 윗줄 도전자가 '1'번 선택했는데 신차가 '1'번에 있으면 '1'번을 열 확률은 '0', '2'번 혹은 '3'번을 열 확률은 각각 '0.5'  --> 표 첫번째 컬럼 (0.0, 0.5, 0.5)\n",
    "### 맨 윗줄 도전자가 '1'번 선택했는데 신차가 '2'번에 있으면 '1'번을 열 확률은 '0', '2'번은 신차가 있으니 열수가 없고 '3'번을 열 확률은 '1.0'  --> 표 두번째 컬럼 (0.0, 0.0, 1.0)"
   ]
  },
  {
   "cell_type": "code",
   "execution_count": 4,
   "id": "e266548c",
   "metadata": {},
   "outputs": [
    {
     "data": {
      "text/plain": [
       "True"
      ]
     },
     "execution_count": 4,
     "metadata": {},
     "output_type": "execute_result"
    }
   ],
   "source": [
    "# check_model check for the model structure and the associated CPD and returns True if everything is correct otherwise throws an exception\n",
    "model.check_model()"
   ]
  },
  {
   "cell_type": "markdown",
   "id": "67a03f6f",
   "metadata": {},
   "source": [
    "## 도전자가 '0'번 문을 열고 사회자가 '2'번문을 열면 도전자가 '1'으로 선택을 변경하면 상금을 탈 사후확률이 66.77%로 증가하게됨\n",
    "## 변경하지 않으면 33.33%"
   ]
  },
  {
   "cell_type": "code",
   "execution_count": 5,
   "id": "3c72a1ae",
   "metadata": {},
   "outputs": [
    {
     "name": "stdout",
     "output_type": "stream",
     "text": [
      "+------+----------+\n",
      "| P    |   phi(P) |\n",
      "+======+==========+\n",
      "| P(0) |   0.3333 |\n",
      "+------+----------+\n",
      "| P(1) |   0.6667 |\n",
      "+------+----------+\n",
      "| P(2) |   0.0000 |\n",
      "+------+----------+\n"
     ]
    }
   ],
   "source": [
    "# Infering the posterior probability\n",
    "from pgmpy.inference import VariableElimination\n",
    "\n",
    "infer = VariableElimination(model)\n",
    "posterior_p = infer.query([\"P\"], evidence={\"C\": 0, \"H\": 2})\n",
    "print(posterior_p)"
   ]
  },
  {
   "cell_type": "code",
   "execution_count": null,
   "id": "537f3ed9",
   "metadata": {},
   "outputs": [],
   "source": []
  },
  {
   "cell_type": "markdown",
   "id": "d82bf610",
   "metadata": {},
   "source": [
    "# End"
   ]
  }
 ],
 "metadata": {
  "kernelspec": {
   "display_name": "Python 3",
   "language": "python",
   "name": "python3"
  },
  "language_info": {
   "codemirror_mode": {
    "name": "ipython",
    "version": 3
   },
   "file_extension": ".py",
   "mimetype": "text/x-python",
   "name": "python",
   "nbconvert_exporter": "python",
   "pygments_lexer": "ipython3",
   "version": "3.8.8"
  }
 },
 "nbformat": 4,
 "nbformat_minor": 5
}
