{
 "cells": [
  {
   "cell_type": "markdown",
   "metadata": {
    "_cell_guid": "b71b09ab-194a-4403-a88e-3b0a4ee394bc",
    "_uuid": "5c6114baaa7d4fb333ed0ef1bffc0a63b91c4a9e"
   },
   "source": [
    "# Alone in the woods\n",
    "You shouldn't have taken that bet. \n",
    "\n",
    "You'll never say that to anyone if you'll ever get out of this forest - but now you should probably focus on that _getting out of the forest_ part.\n",
    "\n",
    "Yes, you're an awesome navigator, but so deep in an unknown forest, where you can hardly see the sun, even your great skills are can't give you a clue about where you're headed.\n",
    "_\"I have a map\"_, you said before taking the first step into the woods. True, but you lost it when you almost drowned in that river four days ago. The map didn't said how deep it was.\n",
    "\n",
    "But you're here now, and you can still win that bet - if you'll get out here soon. But you're out of food, and you haven't seen a single fruit tree since you day one - and boy, you're a lousy hunter. \n",
    "But hey, there are mushrooms all around. hundreds, if not thousands. You can eat those - if you'd only know which ones you can. Well, can you?\n",
    "\n",
    "_\"This bet isn't worth this\"_ you think. Yes, that's probably right.\n",
    "\n",
    "https://www.kaggle.com/code/akshay22071995/alone-in-the-woods-using-theil-s-u-for-survival/notebook"
   ]
  },
  {
   "cell_type": "markdown",
   "metadata": {},
   "source": [
    "<img src='https://media.istockphoto.com/id/536676562/photo/little-hikers-picking-mushrooms-in-forest.jpg?b=1&s=170667a&w=0&k=20&c=IRsYwwFJFSgZG9UIdsw0e4q7g5CfVvdlBTMlDFMv_zI='>"
   ]
  },
  {
   "cell_type": "code",
   "execution_count": 13,
   "metadata": {
    "_cell_guid": "96c622a8-355f-4df2-b449-6de86c9244c1",
    "_uuid": "194abeed5e2efbe79c1c4c6cb2575324cc95a34a"
   },
   "outputs": [],
   "source": [
    "import math\n",
    "from collections import Counter\n",
    "import numpy as np\n",
    "import seaborn as sns\n",
    "import pandas as pd\n",
    "import scipy.stats as ss\n",
    "import matplotlib.pyplot as plt\n",
    "import sklearn.preprocessing as sp\n",
    "from sklearn.tree import DecisionTreeClassifier\n",
    "from sklearn.model_selection import train_test_split\n",
    "from sklearn.metrics import classification_report, confusion_matrix, accuracy_score\n",
    "from subprocess import check_output\n",
    "\n",
    "#print(check_output([\"ls\", \"../input\"]).decode(\"utf8\"))\n",
    "#data = pd.read_csv('../input/mushrooms.csv')\n",
    "#data.head()"
   ]
  },
  {
   "cell_type": "code",
   "execution_count": 45,
   "metadata": {},
   "outputs": [
    {
     "data": {
      "text/html": [
       "<div>\n",
       "<style scoped>\n",
       "    .dataframe tbody tr th:only-of-type {\n",
       "        vertical-align: middle;\n",
       "    }\n",
       "\n",
       "    .dataframe tbody tr th {\n",
       "        vertical-align: top;\n",
       "    }\n",
       "\n",
       "    .dataframe thead th {\n",
       "        text-align: right;\n",
       "    }\n",
       "</style>\n",
       "<table border=\"1\" class=\"dataframe\">\n",
       "  <thead>\n",
       "    <tr style=\"text-align: right;\">\n",
       "      <th></th>\n",
       "      <th>cap-shape</th>\n",
       "      <th>cap-surface</th>\n",
       "      <th>cap-color</th>\n",
       "      <th>bruises%3F</th>\n",
       "      <th>odor</th>\n",
       "      <th>gill-attachment</th>\n",
       "      <th>gill-spacing</th>\n",
       "      <th>gill-size</th>\n",
       "      <th>gill-color</th>\n",
       "      <th>stalk-shape</th>\n",
       "      <th>...</th>\n",
       "      <th>stalk-color-above-ring</th>\n",
       "      <th>stalk-color-below-ring</th>\n",
       "      <th>veil-type</th>\n",
       "      <th>veil-color</th>\n",
       "      <th>ring-number</th>\n",
       "      <th>ring-type</th>\n",
       "      <th>spore-print-color</th>\n",
       "      <th>population</th>\n",
       "      <th>habitat</th>\n",
       "      <th>class</th>\n",
       "    </tr>\n",
       "  </thead>\n",
       "  <tbody>\n",
       "    <tr>\n",
       "      <th>0</th>\n",
       "      <td>x</td>\n",
       "      <td>s</td>\n",
       "      <td>n</td>\n",
       "      <td>t</td>\n",
       "      <td>p</td>\n",
       "      <td>f</td>\n",
       "      <td>c</td>\n",
       "      <td>n</td>\n",
       "      <td>k</td>\n",
       "      <td>e</td>\n",
       "      <td>...</td>\n",
       "      <td>w</td>\n",
       "      <td>w</td>\n",
       "      <td>p</td>\n",
       "      <td>w</td>\n",
       "      <td>o</td>\n",
       "      <td>p</td>\n",
       "      <td>k</td>\n",
       "      <td>s</td>\n",
       "      <td>u</td>\n",
       "      <td>p</td>\n",
       "    </tr>\n",
       "    <tr>\n",
       "      <th>1</th>\n",
       "      <td>x</td>\n",
       "      <td>s</td>\n",
       "      <td>y</td>\n",
       "      <td>t</td>\n",
       "      <td>a</td>\n",
       "      <td>f</td>\n",
       "      <td>c</td>\n",
       "      <td>b</td>\n",
       "      <td>k</td>\n",
       "      <td>e</td>\n",
       "      <td>...</td>\n",
       "      <td>w</td>\n",
       "      <td>w</td>\n",
       "      <td>p</td>\n",
       "      <td>w</td>\n",
       "      <td>o</td>\n",
       "      <td>p</td>\n",
       "      <td>n</td>\n",
       "      <td>n</td>\n",
       "      <td>g</td>\n",
       "      <td>e</td>\n",
       "    </tr>\n",
       "    <tr>\n",
       "      <th>2</th>\n",
       "      <td>b</td>\n",
       "      <td>s</td>\n",
       "      <td>w</td>\n",
       "      <td>t</td>\n",
       "      <td>l</td>\n",
       "      <td>f</td>\n",
       "      <td>c</td>\n",
       "      <td>b</td>\n",
       "      <td>n</td>\n",
       "      <td>e</td>\n",
       "      <td>...</td>\n",
       "      <td>w</td>\n",
       "      <td>w</td>\n",
       "      <td>p</td>\n",
       "      <td>w</td>\n",
       "      <td>o</td>\n",
       "      <td>p</td>\n",
       "      <td>n</td>\n",
       "      <td>n</td>\n",
       "      <td>m</td>\n",
       "      <td>e</td>\n",
       "    </tr>\n",
       "    <tr>\n",
       "      <th>3</th>\n",
       "      <td>x</td>\n",
       "      <td>y</td>\n",
       "      <td>w</td>\n",
       "      <td>t</td>\n",
       "      <td>p</td>\n",
       "      <td>f</td>\n",
       "      <td>c</td>\n",
       "      <td>n</td>\n",
       "      <td>n</td>\n",
       "      <td>e</td>\n",
       "      <td>...</td>\n",
       "      <td>w</td>\n",
       "      <td>w</td>\n",
       "      <td>p</td>\n",
       "      <td>w</td>\n",
       "      <td>o</td>\n",
       "      <td>p</td>\n",
       "      <td>k</td>\n",
       "      <td>s</td>\n",
       "      <td>u</td>\n",
       "      <td>p</td>\n",
       "    </tr>\n",
       "    <tr>\n",
       "      <th>4</th>\n",
       "      <td>x</td>\n",
       "      <td>s</td>\n",
       "      <td>g</td>\n",
       "      <td>f</td>\n",
       "      <td>n</td>\n",
       "      <td>f</td>\n",
       "      <td>w</td>\n",
       "      <td>b</td>\n",
       "      <td>k</td>\n",
       "      <td>t</td>\n",
       "      <td>...</td>\n",
       "      <td>w</td>\n",
       "      <td>w</td>\n",
       "      <td>p</td>\n",
       "      <td>w</td>\n",
       "      <td>o</td>\n",
       "      <td>e</td>\n",
       "      <td>n</td>\n",
       "      <td>a</td>\n",
       "      <td>g</td>\n",
       "      <td>e</td>\n",
       "    </tr>\n",
       "  </tbody>\n",
       "</table>\n",
       "<p>5 rows × 23 columns</p>\n",
       "</div>"
      ],
      "text/plain": [
       "  cap-shape cap-surface cap-color bruises%3F odor gill-attachment  \\\n",
       "0         x           s         n          t    p               f   \n",
       "1         x           s         y          t    a               f   \n",
       "2         b           s         w          t    l               f   \n",
       "3         x           y         w          t    p               f   \n",
       "4         x           s         g          f    n               f   \n",
       "\n",
       "  gill-spacing gill-size gill-color stalk-shape  ... stalk-color-above-ring  \\\n",
       "0            c         n          k           e  ...                      w   \n",
       "1            c         b          k           e  ...                      w   \n",
       "2            c         b          n           e  ...                      w   \n",
       "3            c         n          n           e  ...                      w   \n",
       "4            w         b          k           t  ...                      w   \n",
       "\n",
       "  stalk-color-below-ring veil-type veil-color ring-number ring-type  \\\n",
       "0                      w         p          w           o         p   \n",
       "1                      w         p          w           o         p   \n",
       "2                      w         p          w           o         p   \n",
       "3                      w         p          w           o         p   \n",
       "4                      w         p          w           o         e   \n",
       "\n",
       "  spore-print-color population habitat class  \n",
       "0                 k          s       u     p  \n",
       "1                 n          n       g     e  \n",
       "2                 n          n       m     e  \n",
       "3                 k          s       u     p  \n",
       "4                 n          a       g     e  \n",
       "\n",
       "[5 rows x 23 columns]"
      ]
     },
     "execution_count": 45,
     "metadata": {},
     "output_type": "execute_result"
    }
   ],
   "source": [
    "from sklearn.datasets import fetch_openml\n",
    "import pandas as pd\n",
    "data = pd.merge(fetch_openml(name='mushroom').data, fetch_openml(name='mushroom').target, left_index=True, right_index=True)\n",
    "data.head()"
   ]
  },
  {
   "cell_type": "markdown",
   "metadata": {
    "_cell_guid": "80296527-b137-480f-ae34-3a25f5b6bec8",
    "_uuid": "62e2ed0ab9682b741ba254fc8179da6e64c1ac23",
    "collapsed": true
   },
   "source": [
    "Let's see how many mushrooms we know about, and what do we know about them:"
   ]
  },
  {
   "cell_type": "code",
   "execution_count": 46,
   "metadata": {
    "_cell_guid": "45c07fda-3294-4942-af7c-da2d7a3c59a8",
    "_uuid": "5d25d429f593cc9fa5b4347dabc6fe7ed76785ed"
   },
   "outputs": [
    {
     "data": {
      "text/plain": [
       "(8124, 23)"
      ]
     },
     "execution_count": 46,
     "metadata": {},
     "output_type": "execute_result"
    }
   ],
   "source": [
    "data.shape"
   ]
  },
  {
   "cell_type": "markdown",
   "metadata": {
    "_cell_guid": "a031afff-12d2-41c4-ae97-8e4397022d1e",
    "_uuid": "b7466d4ba38dc7f928ec97ac2faeb5e186dcdad7"
   },
   "source": [
    "Ok, so we know about 8124 mushrooms, with 22 different attributes (23 includes the `class` column). That's a lot! You can't possibly memorise all this data. Let's try to break it down. What else do we now of our data?"
   ]
  },
  {
   "cell_type": "code",
   "execution_count": 47,
   "metadata": {
    "_cell_guid": "b6eabdec-bc06-44d2-8b5f-38dcf29a5df3",
    "_uuid": "83fa9855d21e511b4ab286d546ffabd2c3784f54"
   },
   "outputs": [
    {
     "data": {
      "text/plain": [
       "True"
      ]
     },
     "execution_count": 47,
     "metadata": {},
     "output_type": "execute_result"
    }
   ],
   "source": [
    "data.isnull().values.any()"
   ]
  },
  {
   "cell_type": "code",
   "execution_count": 48,
   "metadata": {
    "scrolled": true
   },
   "outputs": [
    {
     "data": {
      "text/plain": [
       "cap-shape                      0\n",
       "cap-surface                    0\n",
       "cap-color                      0\n",
       "bruises%3F                     0\n",
       "odor                           0\n",
       "gill-attachment                0\n",
       "gill-spacing                   0\n",
       "gill-size                      0\n",
       "gill-color                     0\n",
       "stalk-shape                    0\n",
       "stalk-root                  2480\n",
       "stalk-surface-above-ring       0\n",
       "stalk-surface-below-ring       0\n",
       "stalk-color-above-ring         0\n",
       "stalk-color-below-ring         0\n",
       "veil-type                      0\n",
       "veil-color                     0\n",
       "ring-number                    0\n",
       "ring-type                      0\n",
       "spore-print-color              0\n",
       "population                     0\n",
       "habitat                        0\n",
       "class                          0\n",
       "dtype: int64"
      ]
     },
     "execution_count": 48,
     "metadata": {},
     "output_type": "execute_result"
    }
   ],
   "source": [
    "data.isnull().sum()"
   ]
  },
  {
   "cell_type": "code",
   "execution_count": 49,
   "metadata": {},
   "outputs": [
    {
     "data": {
      "text/plain": [
       "0    b\n",
       "Name: stalk-root, dtype: category\n",
       "Categories (6, object): ['b', 'c', 'e', 'r', 'u', 'z']"
      ]
     },
     "execution_count": 49,
     "metadata": {},
     "output_type": "execute_result"
    }
   ],
   "source": [
    "data['stalk-root'].mode()"
   ]
  },
  {
   "cell_type": "code",
   "execution_count": 50,
   "metadata": {},
   "outputs": [],
   "source": [
    "data['stalk-root'] = data['stalk-root'].fillna('b')"
   ]
  },
  {
   "cell_type": "markdown",
   "metadata": {
    "_cell_guid": "5d2ab83f-b19c-4298-80a4-12ce32ac3f68",
    "_uuid": "61b4d7c5e45ccfffdcad9c8d0ed5c691165d96b1"
   },
   "source": [
    "Good, no missing data points. What's the varience of each of the features?"
   ]
  },
  {
   "cell_type": "code",
   "execution_count": 51,
   "metadata": {
    "_cell_guid": "4c8ab02a-1a6a-4a7b-b283-fb3dfb3940fb",
    "_uuid": "55b9fa2b66fd5513dcc1680603313c3c1efd7a8a",
    "scrolled": false
   },
   "outputs": [
    {
     "name": "stdout",
     "output_type": "stream",
     "text": [
      "cap-shape: 6 distinct values -  ['b' 'c' 'f' 'k' 's' 'x']\n",
      "cap-surface: 4 distinct values -  ['f' 'g' 's' 'y']\n",
      "cap-color: 10 distinct values -  ['b' 'c' 'e' 'g' 'n' 'p' 'r' 'u' 'w' 'y']\n",
      "bruises%3F: 2 distinct values -  ['f' 't']\n",
      "odor: 9 distinct values -  ['a' 'c' 'f' 'l' 'm' 'n' 'p' 's' 'y']\n",
      "gill-attachment: 2 distinct values -  ['a' 'f']\n",
      "gill-spacing: 2 distinct values -  ['c' 'w']\n",
      "gill-size: 2 distinct values -  ['b' 'n']\n",
      "gill-color: 12 distinct values -  ['b' 'e' 'g' 'h' 'k' 'n' 'o' 'p' 'r' 'u' 'w' 'y']\n",
      "stalk-shape: 2 distinct values -  ['e' 't']\n",
      "stalk-root: 4 distinct values -  ['b' 'c' 'e' 'r']\n",
      "stalk-surface-above-ring: 4 distinct values -  ['f' 'k' 's' 'y']\n",
      "stalk-surface-below-ring: 4 distinct values -  ['f' 'k' 's' 'y']\n",
      "stalk-color-above-ring: 9 distinct values -  ['b' 'c' 'e' 'g' 'n' 'o' 'p' 'w' 'y']\n",
      "stalk-color-below-ring: 9 distinct values -  ['b' 'c' 'e' 'g' 'n' 'o' 'p' 'w' 'y']\n",
      "veil-type: 1 distinct values -  ['p']\n",
      "veil-color: 4 distinct values -  ['n' 'o' 'w' 'y']\n",
      "ring-number: 3 distinct values -  ['n' 'o' 't']\n",
      "ring-type: 5 distinct values -  ['e' 'f' 'l' 'n' 'p']\n",
      "spore-print-color: 9 distinct values -  ['b' 'h' 'k' 'n' 'o' 'r' 'u' 'w' 'y']\n",
      "population: 6 distinct values -  ['a' 'c' 'n' 's' 'v' 'y']\n",
      "habitat: 7 distinct values -  ['d' 'g' 'l' 'm' 'p' 'u' 'w']\n",
      "class: 2 distinct values -  ['e' 'p']\n"
     ]
    }
   ],
   "source": [
    "for feature in data.columns:\n",
    "    uniq = np.unique(data[feature])\n",
    "    print('{}: {} distinct values -  {}'.format(feature,len(uniq),uniq))"
   ]
  },
  {
   "cell_type": "code",
   "execution_count": 52,
   "metadata": {
    "_cell_guid": "7f53c15c-1b31-49d7-8bde-2d56f1d83eec",
    "_uuid": "f093bdb24b13b468ffb2297c2d47606029203fce"
   },
   "outputs": [
    {
     "name": "stdout",
     "output_type": "stream",
     "text": [
      "Max depth: 1 - accuracy: 0.880846873461349\n",
      "Max depth: 2 - accuracy: 0.9431314623338257\n",
      "Max depth: 3 - accuracy: 0.9869522402757263\n",
      "Max depth: 4 - accuracy: 0.9980305268340719\n",
      "Max depth: 5 - accuracy: 0.9980305268340719\n",
      "              precision    recall  f1-score   support\n",
      "\n",
      "           e       1.00      1.00      1.00      2085\n",
      "           p       1.00      1.00      1.00      1977\n",
      "\n",
      "    accuracy                           1.00      4062\n",
      "   macro avg       1.00      1.00      1.00      4062\n",
      "weighted avg       1.00      1.00      1.00      4062\n",
      "\n",
      "[[2085    0]\n",
      " [   8 1969]]\n"
     ]
    }
   ],
   "source": [
    "X = data.drop(['class'],axis=1)\n",
    "y = data['class'].tolist()\n",
    "ohe.fit(X)\n",
    "X = ohe.transform(X).toarray()\n",
    "X_train, X_test, y_train, y_test = train_test_split(X, y, test_size=0.5, random_state=42)\n",
    "\n",
    "for i in range(1,6):\n",
    "    tree = DecisionTreeClassifier(max_depth=i, random_state=42)\n",
    "    tree.fit(X_train,y_train)\n",
    "    y_pred = tree.predict(X_test)\n",
    "    print(\"Max depth: {} - accuracy:\".format(i), accuracy_score(y_test, y_pred, normalize=True))\n",
    "    \n",
    "print(classification_report(y_test, y_pred))\n",
    "print(confusion_matrix(y_test, y_pred))"
   ]
  },
  {
   "cell_type": "markdown",
   "metadata": {
    "_cell_guid": "36161164-a9e8-4080-a6e5-6363e2465c18",
    "_uuid": "5030e4ccfc5a7ef82ea4a8995c97266a39d698f4",
    "collapsed": true
   },
   "source": [
    "Hmmm.. that's interesting - it seems as all known mushrooms have the same `veil-type`. We can drop this feature then, it won't help us."
   ]
  },
  {
   "cell_type": "code",
   "execution_count": 30,
   "metadata": {
    "_cell_guid": "b2ca8f41-1a54-40f1-9e31-2f74e1f08f22",
    "_uuid": "ae8e15d2fdbd1e0268ada90b12c2b3f25da7cccb"
   },
   "outputs": [],
   "source": [
    "data = data.drop(['veil-type'], axis=1)"
   ]
  },
  {
   "cell_type": "markdown",
   "metadata": {
    "_cell_guid": "5c858a9d-d7a3-4b7d-8476-8c30b30d6ddf",
    "_uuid": "f9ceb272fea3d261906dc5dee870e5c1ee0014ba",
    "collapsed": true
   },
   "source": [
    "Beore we continue, let's check if there are any duplicates in our data - meaning, do we know of two or more mushrooms with exactly the same features?"
   ]
  },
  {
   "cell_type": "code",
   "execution_count": 31,
   "metadata": {
    "_cell_guid": "2d06c236-dd72-4258-9b04-8fa064589d43",
    "_uuid": "ce05a243a59786db76fb95c13aa622656ae92c8b"
   },
   "outputs": [
    {
     "name": "stdout",
     "output_type": "stream",
     "text": [
      "Known mushrooms: 8124\n",
      "Unique mushrooms: 8124\n"
     ]
    }
   ],
   "source": [
    "print('Known mushrooms: {}\\nUnique mushrooms: {}'.format(len(data.index),len(data.drop_duplicates().index)))"
   ]
  },
  {
   "cell_type": "markdown",
   "metadata": {
    "_cell_guid": "1e703ca2-a4aa-417e-ba2f-1aede00fbda3",
    "_uuid": "8450a576db8820c87a8d1173763e453b9fc42ba9"
   },
   "source": [
    "No, good. Wait! Are there any mushrooms with the same features but different classes?"
   ]
  },
  {
   "cell_type": "code",
   "execution_count": 32,
   "metadata": {
    "_cell_guid": "503d9d8d-0403-4222-b705-d49e50dbd7d6",
    "_uuid": "6374e3a2d6578d993b765eeb6444074996a850b6"
   },
   "outputs": [
    {
     "name": "stdout",
     "output_type": "stream",
     "text": [
      "Known mushrooms: 8124\n",
      "Mushrooms with same features: 8124\n"
     ]
    }
   ],
   "source": [
    "print('Known mushrooms: {}\\nMushrooms with same features: {}'.format(\n",
    "    len(data.index),len(data.drop_duplicates(subset=data.drop(['class'],axis=1).columns).index)))"
   ]
  },
  {
   "cell_type": "markdown",
   "metadata": {
    "_cell_guid": "6a2c832b-700e-48e7-8327-6b1d7e836e44",
    "_uuid": "83c07a3f27cf66270fcb2a03589034ecc11f81f6"
   },
   "source": [
    "Ok, that's good. That's really good. Being unable to distinguish mushrooms can be deadly. \n",
    "\n",
    "Time to start diving deeper into the data. Let's see if there's a feature that can a better notion about the mushromm's class. More formealy, we want to know if there's a certain feature that maximizes the information about the class. For this, we will use **[Theil's U](https://en.wikipedia.org/wiki/Uncertainty_coefficient)**, also known as the _Uncertainty Coefficient_. Formaly marked as `U(x|y)`, this coefficient provides a value in the range of `[0,1]`, where 0 means that feature `y` provides no information about feature `x`, and 1 means that feature `y` provides full information abpout features `x`'s value."
   ]
  },
  {
   "cell_type": "code",
   "execution_count": 33,
   "metadata": {
    "_cell_guid": "a0c5d239-4628-4e67-8e32-675564b88fe7",
    "_uuid": "006455066cc56b468b6aedf57f0ac4780ccd4eee"
   },
   "outputs": [],
   "source": [
    "def conditional_entropy(x,y):\n",
    "    # entropy of x given y\n",
    "    y_counter = Counter(y)\n",
    "    xy_counter = Counter(list(zip(x,y)))\n",
    "    total_occurrences = sum(y_counter.values())\n",
    "    entropy = 0\n",
    "    for xy in xy_counter.keys():\n",
    "        p_xy = xy_counter[xy] / total_occurrences\n",
    "        p_y = y_counter[xy[1]] / total_occurrences\n",
    "        entropy += p_xy * math.log(p_y/p_xy)\n",
    "    return entropy\n",
    "\n",
    "def theil_u(x,y):\n",
    "    s_xy = conditional_entropy(x,y)\n",
    "    x_counter = Counter(x)\n",
    "    total_occurrences = sum(x_counter.values())\n",
    "    p_x = list(map(lambda n: n/total_occurrences, x_counter.values()))\n",
    "    s_x = ss.entropy(p_x)\n",
    "    if s_x == 0:\n",
    "        return 1\n",
    "    else:\n",
    "        return (s_x - s_xy) / s_x"
   ]
  },
  {
   "cell_type": "code",
   "execution_count": 34,
   "metadata": {
    "_cell_guid": "1494b62a-4509-4544-aedf-3ed3d8ed2223",
    "_uuid": "ca2b1793af856bb09f21d6d44724a9e2cbe70cea"
   },
   "outputs": [
    {
     "data": {
      "image/png": "[encoded data removed]",
      "text/plain": [
       "<Figure size 1440x72 with 2 Axes>"
      ]
     },
     "metadata": {
      "needs_background": "light"
     },
     "output_type": "display_data"
    }
   ],
   "source": [
    "theilu = pd.DataFrame(index=['class'],columns=data.columns)\n",
    "columns = data.columns\n",
    "for j in range(0,len(columns)):\n",
    "    u = theil_u(data['class'].tolist(),data[columns[j]].tolist())\n",
    "    theilu.loc[:,columns[j]] = u\n",
    "theilu.fillna(value=np.nan,inplace=True)\n",
    "plt.figure(figsize=(20,1))\n",
    "sns.heatmap(theilu,annot=True,fmt='.2f')\n",
    "plt.show()"
   ]
  },
  {
   "cell_type": "markdown",
   "metadata": {
    "_cell_guid": "770f092b-0de4-4d6a-90de-7545f35b3ccc",
    "_uuid": "e8b17aa236961a858ca062753fffa8f5d017da39"
   },
   "source": [
    "Seems like `odor` can be useful. Lets' take a look at that:"
   ]
  },
  {
   "cell_type": "code",
   "execution_count": 35,
   "metadata": {
    "_cell_guid": "b9ba861b-1d37-4f6c-9f63-ce1b1858d310",
    "_uuid": "5d17dda2f6c7eadea872e335ac54fb1c487522ae"
   },
   "outputs": [
    {
     "data": {
      "image/png": "[encoded data removed]",
      "text/plain": [
       "<Figure size 1080x576 with 1 Axes>"
      ]
     },
     "metadata": {},
     "output_type": "display_data"
    }
   ],
   "source": [
    "sns.set(rc={'figure.figsize':(15,8)})\n",
    "ax=sns.countplot(x='odor',hue='class',data=data)\n",
    "for p in ax.patches:\n",
    "    patch_height = p.get_height()\n",
    "    if np.isnan(patch_height):\n",
    "        patch_height = 0\n",
    "    ax.annotate('{}'.format(int(patch_height)), (p.get_x()+0.05, patch_height+10))\n",
    "plt.show()"
   ]
  },
  {
   "cell_type": "markdown",
   "metadata": {
    "_cell_guid": "a839c62c-5059-4d4b-8e42-a17b70a4a15e",
    "_uuid": "0d66a65531e13ca6e0c937730417a26cfda77615"
   },
   "source": [
    "Ok, that's great! We can tell if a mushroom is ediable or not just by smelling it! But what about all those mushrooms with no odor (`odor='n'`)? Let's do the same trick again, but this time only for the data of these mushrooms: "
   ]
  },
  {
   "cell_type": "code",
   "execution_count": 36,
   "metadata": {
    "_cell_guid": "b4bb1457-3eb5-4aff-b84a-37ad740490d7",
    "_uuid": "32104121ac1056092c45ec751d442f94652d002d"
   },
   "outputs": [
    {
     "data": {
      "image/png": "[encoded data removed]",
      "text/plain": [
       "<Figure size 1440x72 with 2 Axes>"
      ]
     },
     "metadata": {},
     "output_type": "display_data"
    }
   ],
   "source": [
    "no_odor = data[data['odor'].isin(['n'])]\n",
    "for j in range(0,len(columns)):\n",
    "    u = theil_u(no_odor['class'].tolist(),no_odor[columns[j]].tolist())\n",
    "    theilu.loc[:,columns[j]] = u\n",
    "theilu.fillna(value=np.nan,inplace=True)\n",
    "plt.figure(figsize=(20,1))\n",
    "sns.heatmap(theilu,annot=True,fmt='.2f')\n",
    "plt.show()"
   ]
  },
  {
   "cell_type": "markdown",
   "metadata": {
    "_cell_guid": "f5e444c9-21c2-4682-b465-fb2050be3a15",
    "_uuid": "1a77d871d68e17ff679e48f11aee21c27e2b412d"
   },
   "source": [
    "Now the `spore-print-color` seems like a helpful feature: "
   ]
  },
  {
   "cell_type": "code",
   "execution_count": 37,
   "metadata": {
    "_cell_guid": "11f22cb5-e278-483d-a30f-8fe2202501b3",
    "_uuid": "b5c1322478e024ec81b3be4d19365a09c31f32e4"
   },
   "outputs": [
    {
     "data": {
      "image/png": "[encoded data removed]",
      "text/plain": [
       "<Figure size 1080x576 with 1 Axes>"
      ]
     },
     "metadata": {},
     "output_type": "display_data"
    }
   ],
   "source": [
    "sns.set(rc={'figure.figsize':(15,8)})\n",
    "ax=sns.countplot(x='spore-print-color',hue='class',data=no_odor)\n",
    "for p in ax.patches:\n",
    "    patch_height = p.get_height()\n",
    "    if np.isnan(patch_height):\n",
    "        patch_height = 0\n",
    "    ax.annotate('{}'.format(int(patch_height)), (p.get_x()+0.05, patch_height+10))\n",
    "plt.show()"
   ]
  },
  {
   "cell_type": "markdown",
   "metadata": {
    "_cell_guid": "b45eaccd-0dbf-461f-b510-9d9b9836e252",
    "_uuid": "00139b6001fb9e86fb5f1648579d9239671367a4"
   },
   "source": [
    "Great success! We can tell odorless mushrooms apart by their spore color - unless it's white, then it's still ambiguous.\n",
    "\n",
    "Let's see how many mushrooms are we already able telling if they're ediable or not:"
   ]
  },
  {
   "cell_type": "code",
   "execution_count": 38,
   "metadata": {
    "_cell_guid": "9d6f0694-059d-48e8-b5c4-dc2d3b594f6e",
    "_uuid": "03096e615d14cdc79b5321aa37312e95b7f4759f"
   },
   "outputs": [
    {
     "data": {
      "text/plain": [
       "0.9231905465288035"
      ]
     },
     "execution_count": 38,
     "metadata": {},
     "output_type": "execute_result"
    }
   ],
   "source": [
    "no_odor_w = no_odor[no_odor['spore-print-color'].isin(['w'])]\n",
    "(len(data.index) - len(no_odor_w.index)) / len(data.index)"
   ]
  },
  {
   "cell_type": "markdown",
   "metadata": {
    "_cell_guid": "561832b2-f0b3-442c-bcb6-3c1036c1fe36",
    "_uuid": "8f3c5c1daa86a0e006cdb1ffa2cb9ec8f3155e7e"
   },
   "source": [
    "So we can now determine the class of 92% of the mushrooms we know of. \n",
    "\n",
    "**Let's summarize our findings:**\n",
    "* if the mushroom smells like almond (`a`) or anise (`l`), it's ediable.\n",
    "* if it has no odor, check its spore color - if it's not green (`r`), it's ediable. If it's white, we're not sure.\n",
    "\n",
    "### A little ML to speed things up:\n",
    "We can keep going like this, but 92% percent classified mushroom is enough to help you find some food in the woods - and you only to remeber two things.\n",
    "\n",
    "For the remaining 8%, let's use a Decision Tree (well, you are in the forest, aren't you?). The tree will pretty mush do what we did so far - ask the right questions to slice the data in the best way for classifications. Let's see how many branches it needs to get to perfect classification. For this, we'll need to factorize the remaining data and use one-hot encoding."
   ]
  },
  {
   "cell_type": "code",
   "execution_count": 39,
   "metadata": {
    "_cell_guid": "7f53c15c-1b31-49d7-8bde-2d56f1d83eec",
    "_uuid": "f093bdb24b13b468ffb2297c2d47606029203fce"
   },
   "outputs": [
    {
     "name": "stdout",
     "output_type": "stream",
     "text": [
      "Max depth: 1 - accuracy: 0.967948717948718\n",
      "Max depth: 2 - accuracy: 0.9935897435897436\n",
      "Max depth: 3 - accuracy: 0.9935897435897436\n",
      "Max depth: 4 - accuracy: 0.9935897435897436\n",
      "Max depth: 5 - accuracy: 1.0\n"
     ]
    }
   ],
   "source": [
    "factorized_nw = no_odor_w.copy()\n",
    "for column in factorized_nw.columns.values:\n",
    "    f, _ = pd.factorize(factorized_nw[column])\n",
    "    factorized_nw.loc[:,column] = f\n",
    "ohe = sp.OneHotEncoder()\n",
    "X = factorized_nw.drop(['class'],axis=1)\n",
    "y = factorized_nw['class'].tolist()\n",
    "ohe.fit(X)\n",
    "X = ohe.transform(X).toarray()\n",
    "X_train, X_test, y_train, y_test = train_test_split(X, y, test_size=0.5, random_state=42)\n",
    "\n",
    "for i in range(1,6):\n",
    "    tree = DecisionTreeClassifier(max_depth=i, random_state=42)\n",
    "    tree.fit(X_train,y_train)\n",
    "    y_pred = tree.predict(X_test)\n",
    "    print(\"Max depth: {} - accuracy:\".format(i), accuracy_score(y_test, y_pred, normalize=True))"
   ]
  },
  {
   "cell_type": "markdown",
   "metadata": {
    "_cell_guid": "f1432764-0b36-4a29-a4ab-0f6888a43c4c",
    "_uuid": "4cdcb7c9178f8701f29479b82795c9a68794db47"
   },
   "source": [
    "Seems like we got we wanted, and we only used 50% of the data for training - so we have half of the data as our test set. Let's see some more numbers:"
   ]
  },
  {
   "cell_type": "code",
   "execution_count": 40,
   "metadata": {
    "_cell_guid": "cceacc35-fb6d-4926-b78f-c2c3ef58f168",
    "_uuid": "a869da5b5d37b935797e91c91d2420936eceb174"
   },
   "outputs": [
    {
     "name": "stdout",
     "output_type": "stream",
     "text": [
      "              precision    recall  f1-score   support\n",
      "\n",
      "           0       1.00      1.00      1.00       291\n",
      "           1       1.00      1.00      1.00        21\n",
      "\n",
      "    accuracy                           1.00       312\n",
      "   macro avg       1.00      1.00      1.00       312\n",
      "weighted avg       1.00      1.00      1.00       312\n",
      "\n",
      "[[291   0]\n",
      " [  0  21]]\n"
     ]
    }
   ],
   "source": [
    "print(classification_report(y_test, y_pred))\n",
    "print(confusion_matrix(y_test, y_pred))"
   ]
  },
  {
   "cell_type": "markdown",
   "metadata": {
    "_cell_guid": "431904b4-2b64-46d6-ad6c-a878fbf6a45a",
    "_uuid": "24d4f97213401bd766395670f5c98fbea17af84a"
   },
   "source": [
    "Amazing! We got it all classified. Come on, now - no more excuses, you got this bet now! **Good luck, and bon appetit!**"
   ]
  },
  {
   "cell_type": "code",
   "execution_count": null,
   "metadata": {},
   "outputs": [],
   "source": []
  }
 ],
 "metadata": {
  "kernelspec": {
   "display_name": "Python 3",
   "language": "python",
   "name": "python3"
  },
  "language_info": {
   "codemirror_mode": {
    "name": "ipython",
    "version": 3
   },
   "file_extension": ".py",
   "mimetype": "text/x-python",
   "name": "python",
   "nbconvert_exporter": "python",
   "pygments_lexer": "ipython3",
   "version": "3.8.8"
  }
 },
 "nbformat": 4,
 "nbformat_minor": 1
}
