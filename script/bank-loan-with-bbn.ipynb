{
 "cells": [
  {
   "cell_type": "code",
   "execution_count": 1,
   "id": "f812fec0",
   "metadata": {
    "execution": {
     "iopub.execute_input": "2021-11-29T07:07:27.434846Z",
     "iopub.status.busy": "2021-11-29T07:07:27.433504Z",
     "iopub.status.idle": "2021-11-29T07:07:27.436865Z",
     "shell.execute_reply": "2021-11-29T07:07:27.437387Z",
     "shell.execute_reply.started": "2021-11-29T06:38:21.149554Z"
    },
    "id": "qVkR02aVKqyj",
    "papermill": {
     "duration": 0.050288,
     "end_time": "2021-11-29T07:07:27.437638",
     "exception": false,
     "start_time": "2021-11-29T07:07:27.387350",
     "status": "completed"
    },
    "tags": []
   },
   "outputs": [],
   "source": [
    "#!pip install -U pandas-profiling"
   ]
  },
  {
   "cell_type": "code",
   "execution_count": 2,
   "id": "bdfdf31f",
   "metadata": {
    "execution": {
     "iopub.execute_input": "2021-11-29T07:07:27.522971Z",
     "iopub.status.busy": "2021-11-29T07:07:27.522213Z",
     "iopub.status.idle": "2021-11-29T07:08:27.070739Z",
     "shell.execute_reply": "2021-11-29T07:08:27.069502Z",
     "shell.execute_reply.started": "2021-11-29T07:01:15.120090Z"
    },
    "id": "myOHB26inRZ1",
    "papermill": {
     "duration": 59.591956,
     "end_time": "2021-11-29T07:08:27.070905",
     "exception": false,
     "start_time": "2021-11-29T07:07:27.478949",
     "status": "completed"
    },
    "tags": []
   },
   "outputs": [
    {
     "name": "stdout",
     "output_type": "stream",
     "text": [
      "Collecting package metadata (current_repodata.json): - \b\b\\ \b\b| \b\b/ \b\b- \b\b\\ \b\b| \b\b/ \b\b- \b\b\\ \b\b| \b\b/ \b\b- \b\b\\ \b\b| \b\b/ \b\b- \b\b\\ \b\b| \b\b/ \b\b- \b\b\\ \b\b| \b\b/ \b\b- \b\b\\ \b\b| \b\b/ \b\b- \b\b\\ \b\b| \b\b/ \b\b- \b\b\\ \b\b| \b\b/ \b\b- \b\b\\ \b\b| \b\b/ \b\b- \b\b\\ \b\b| \b\b/ \b\b- \b\b\\ \b\b| \b\b/ \b\b- \b\b\\ \b\b| \b\b/ \b\b- \b\b\\ \b\b| \b\b/ \b\b- \b\b\\ \b\b| \b\b/ \b\b- \b\b\\ \b\b| \b\b/ \b\b- \b\b\\ \b\b| \b\b/ \b\b- \b\b\\ \b\b| \b\b/ \b\b- \b\b\\ \b\b| \b\b/ \b\b- \b\b\\ \b\b| \b\b/ \b\b- \b\b\\ \b\b| \b\b/ \b\b- \b\b\\ \b\b| \b\b/ \b\b- \b\b\\ \b\b| \b\b/ \b\b- \b\b\\ \b\b| \b\b/ \b\b- \b\b\\ \b\b| \b\b/ \b\b- \b\b\\ \b\b| \b\b/ \b\b- \b\b\\ \b\b| \b\b/ \b\b- \b\b\\ \b\b| \b\b/ \b\b- \b\b\\ \b\b| \b\b/ \b\b- \b\b\\ \b\b| \b\b/ \b\b- \b\b\\ \b\b| \b\b/ \b\b- \b\b\\ \b\b| \b\b/ \b\b- \b\b\\ \b\b| \b\b/ \b\b- \b\b\\ \b\b| \b\b/ \b\b- \b\b\\ \b\bdone\r\n",
      "Solving environment: / \b\b- \b\b\\ \b\b| \b\b/ \b\b- \b\b\\ \b\b| \b\b/ \b\b- \b\b\\ \b\b| \b\b/ \b\b- \b\b\\ \b\b| \b\b/ \b\b- \b\b\\ \b\b| \b\b/ \b\b- \b\b\\ \b\b| \b\b/ \b\b- \b\b\\ \b\b| \b\b/ \b\b- \b\b\\ \b\b| \b\b/ \b\b- \b\b\\ \b\b| \b\b/ \b\b- \b\b\\ \b\b| \b\b/ \b\b- \b\b\\ \b\b| \b\b/ \b\b- \b\b\\ \b\b| \b\b/ \b\b- \b\b\\ \b\b| \b\b/ \b\b- \b\b\\ \b\b| \b\b/ \b\b- \b\b\\ \b\b| \b\b/ \b\b- \b\b\\ \b\b| \b\b/ \b\b- \b\b\\ \b\b| \b\b/ \b\b- \b\b\\ \b\b| \b\b/ \b\b- \b\b\\ \b\b| \b\b/ \b\b- \b\b\\ \b\b| \b\bdone\r\n",
      "\r\n",
      "## Package Plan ##\r\n",
      "\r\n",
      "  environment location: /opt/conda\r\n",
      "\r\n",
      "  added / updated specs:\r\n",
      "    - pomegranate\r\n",
      "    - pygraphviz\r\n",
      "\r\n",
      "\r\n",
      "The following packages will be downloaded:\r\n",
      "\r\n",
      "    package                    |            build\r\n",
      "    ---------------------------|-----------------\r\n",
      "    certifi-2021.10.8          |   py37h89c1867_1         145 KB  conda-forge\r\n",
      "    conda-4.11.0               |   py37h89c1867_0        16.9 MB  conda-forge\r\n",
      "    pomegranate-0.13.3         |   py37hc928c03_1         3.4 MB  conda-forge\r\n",
      "    pygraphviz-1.7             |   py37ha333112_1         125 KB  conda-forge\r\n",
      "    ------------------------------------------------------------\r\n",
      "                                           Total:        20.5 MB\r\n",
      "\r\n",
      "The following NEW packages will be INSTALLED:\r\n",
      "\r\n",
      "  pomegranate        conda-forge/linux-64::pomegranate-0.13.3-py37hc928c03_1\r\n",
      "  pygraphviz         conda-forge/linux-64::pygraphviz-1.7-py37ha333112_1\r\n",
      "\r\n",
      "The following packages will be UPDATED:\r\n",
      "\r\n",
      "  certifi                          2021.10.8-py37h89c1867_0 --> 2021.10.8-py37h89c1867_1\r\n",
      "  conda                               4.10.3-py37h89c1867_2 --> 4.11.0-py37h89c1867_0\r\n",
      "\r\n",
      "\r\n",
      "\r\n",
      "Downloading and Extracting Packages\r\n",
      "pomegranate-0.13.3   | 3.4 MB    | ##################################### | 100% \r\n",
      "pygraphviz-1.7       | 125 KB    | ##################################### | 100% \r\n",
      "certifi-2021.10.8    | 145 KB    | ##################################### | 100% \r\n",
      "conda-4.11.0         | 16.9 MB   | ##################################### | 100% \r\n",
      "Preparing transaction: - \b\bdone\r\n",
      "Verifying transaction: | \b\b/ \b\b- \b\bdone\r\n",
      "Executing transaction: | \b\b/ \b\b- \b\b\\ \b\b| \b\b/ \b\b- \b\b\\ \b\b| \b\b/ \b\b- \b\b\\ \b\b| \b\b/ \b\b- \b\b\\ \b\b| \b\b/ \b\b- \b\b\\ \b\b| \b\b/ \b\b- \b\b\\ \b\b| \b\b/ \b\bdone\r\n"
     ]
    }
   ],
   "source": [
    "!conda install -y pygraphviz pomegranate"
   ]
  },
  {
   "cell_type": "markdown",
   "id": "ea815731",
   "metadata": {
    "id": "4wAFVeOIui_5",
    "papermill": {
     "duration": 0.11807,
     "end_time": "2021-11-29T07:08:27.306902",
     "exception": false,
     "start_time": "2021-11-29T07:08:27.188832",
     "status": "completed"
    },
    "tags": []
   },
   "source": [
    "# Bank Loan Modelling"
   ]
  },
  {
   "cell_type": "code",
   "execution_count": 3,
   "id": "9caa862c",
   "metadata": {
    "execution": {
     "iopub.execute_input": "2021-11-29T07:08:27.614573Z",
     "iopub.status.busy": "2021-11-29T07:08:27.613918Z",
     "iopub.status.idle": "2021-11-29T07:08:29.800582Z",
     "shell.execute_reply": "2021-11-29T07:08:29.799520Z",
     "shell.execute_reply.started": "2021-11-29T07:02:35.709091Z"
    },
    "id": "x1_rVyauulUx",
    "papermill": {
     "duration": 2.317633,
     "end_time": "2021-11-29T07:08:29.800748",
     "exception": false,
     "start_time": "2021-11-29T07:08:27.483115",
     "status": "completed"
    },
    "tags": []
   },
   "outputs": [],
   "source": [
    "#importing libs\n",
    "import numpy as np \n",
    "import pandas as pd \n",
    "import pandas_profiling\n",
    "from pandas_profiling import ProfileReport\n",
    "import matplotlib\n",
    "import matplotlib.pyplot as plt \n",
    "import seaborn as sns #data visualization\n",
    "import warnings\n",
    "import pygraphviz\n",
    "import math\n",
    "\n",
    "from sklearn import preprocessing\n",
    "\n",
    "# Train Test Split\n",
    "from sklearn.model_selection import train_test_split\n",
    "\n",
    "# Models\n",
    "from sklearn.tree import DecisionTreeClassifier\n",
    "from pomegranate import *\n",
    "\n",
    "# Metrics\n",
    "from sklearn.metrics import accuracy_score, classification_report, roc_curve\n",
    "from sklearn import tree\n",
    "from sklearn.tree import plot_tree \n",
    "from sklearn.tree import _tree\n",
    "\n",
    "# Cross Validation\n",
    "from sklearn.metrics import accuracy_score, confusion_matrix, classification_report, recall_score, precision_score, f1_score\n",
    "\n",
    "warnings.filterwarnings(\"ignore\")\n",
    "%matplotlib inline"
   ]
  },
  {
   "cell_type": "code",
   "execution_count": 4,
   "id": "24b36f7d",
   "metadata": {
    "execution": {
     "iopub.execute_input": "2021-11-29T07:08:30.044948Z",
     "iopub.status.busy": "2021-11-29T07:08:30.044286Z",
     "iopub.status.idle": "2021-11-29T07:08:30.065264Z",
     "shell.execute_reply": "2021-11-29T07:08:30.064625Z",
     "shell.execute_reply.started": "2021-11-29T07:02:38.973187Z"
    },
    "id": "007BIdWKvRta",
    "papermill": {
     "duration": 0.144416,
     "end_time": "2021-11-29T07:08:30.065409",
     "exception": false,
     "start_time": "2021-11-29T07:08:29.920993",
     "status": "completed"
    },
    "tags": []
   },
   "outputs": [],
   "source": [
    "df = pd.read_csv('../input/bank-loan-modelling/bank_loan_modelling.csv')"
   ]
  },
  {
   "cell_type": "code",
   "execution_count": 5,
   "id": "a5167d2d",
   "metadata": {
    "execution": {
     "iopub.execute_input": "2021-11-29T07:08:30.313399Z",
     "iopub.status.busy": "2021-11-29T07:08:30.312528Z",
     "iopub.status.idle": "2021-11-29T07:08:30.316110Z",
     "shell.execute_reply": "2021-11-29T07:08:30.316593Z",
     "shell.execute_reply.started": "2021-11-29T07:02:41.149288Z"
    },
    "id": "g9QLUFPzRXv8",
    "outputId": "57c49c72-c5b7-4751-edb8-5fd346cac66e",
    "papermill": {
     "duration": 0.130324,
     "end_time": "2021-11-29T07:08:30.316767",
     "exception": false,
     "start_time": "2021-11-29T07:08:30.186443",
     "status": "completed"
    },
    "tags": []
   },
   "outputs": [
    {
     "data": {
      "text/plain": [
       "(5000, 8)"
      ]
     },
     "execution_count": 5,
     "metadata": {},
     "output_type": "execute_result"
    }
   ],
   "source": [
    "df.shape"
   ]
  },
  {
   "cell_type": "code",
   "execution_count": 6,
   "id": "901d44ba",
   "metadata": {
    "execution": {
     "iopub.execute_input": "2021-11-29T07:08:30.561648Z",
     "iopub.status.busy": "2021-11-29T07:08:30.561002Z",
     "iopub.status.idle": "2021-11-29T07:08:30.573666Z",
     "shell.execute_reply": "2021-11-29T07:08:30.573018Z",
     "shell.execute_reply.started": "2021-11-29T07:02:43.554258Z"
    },
    "id": "0yFB2QiWvjkg",
    "outputId": "e15a730d-c214-4210-d83f-be11ff239ac3",
    "papermill": {
     "duration": 0.138223,
     "end_time": "2021-11-29T07:08:30.573821",
     "exception": false,
     "start_time": "2021-11-29T07:08:30.435598",
     "status": "completed"
    },
    "tags": []
   },
   "outputs": [
    {
     "data": {
      "text/html": [
       "<div>\n",
       "<style scoped>\n",
       "    .dataframe tbody tr th:only-of-type {\n",
       "        vertical-align: middle;\n",
       "    }\n",
       "\n",
       "    .dataframe tbody tr th {\n",
       "        vertical-align: top;\n",
       "    }\n",
       "\n",
       "    .dataframe thead th {\n",
       "        text-align: right;\n",
       "    }\n",
       "</style>\n",
       "<table border=\"1\" class=\"dataframe\">\n",
       "  <thead>\n",
       "    <tr style=\"text-align: right;\">\n",
       "      <th></th>\n",
       "      <th>Age</th>\n",
       "      <th>Experience</th>\n",
       "      <th>Income</th>\n",
       "      <th>Family</th>\n",
       "      <th>CCAvg</th>\n",
       "      <th>Education</th>\n",
       "      <th>Personal Loan</th>\n",
       "      <th>Online</th>\n",
       "    </tr>\n",
       "  </thead>\n",
       "  <tbody>\n",
       "    <tr>\n",
       "      <th>0</th>\n",
       "      <td>25</td>\n",
       "      <td>1</td>\n",
       "      <td>49</td>\n",
       "      <td>4</td>\n",
       "      <td>1.6</td>\n",
       "      <td>1</td>\n",
       "      <td>0</td>\n",
       "      <td>0</td>\n",
       "    </tr>\n",
       "    <tr>\n",
       "      <th>1</th>\n",
       "      <td>45</td>\n",
       "      <td>19</td>\n",
       "      <td>34</td>\n",
       "      <td>3</td>\n",
       "      <td>1.5</td>\n",
       "      <td>1</td>\n",
       "      <td>0</td>\n",
       "      <td>0</td>\n",
       "    </tr>\n",
       "    <tr>\n",
       "      <th>2</th>\n",
       "      <td>39</td>\n",
       "      <td>15</td>\n",
       "      <td>11</td>\n",
       "      <td>1</td>\n",
       "      <td>1.0</td>\n",
       "      <td>1</td>\n",
       "      <td>0</td>\n",
       "      <td>0</td>\n",
       "    </tr>\n",
       "    <tr>\n",
       "      <th>3</th>\n",
       "      <td>35</td>\n",
       "      <td>9</td>\n",
       "      <td>100</td>\n",
       "      <td>1</td>\n",
       "      <td>2.7</td>\n",
       "      <td>2</td>\n",
       "      <td>0</td>\n",
       "      <td>0</td>\n",
       "    </tr>\n",
       "    <tr>\n",
       "      <th>4</th>\n",
       "      <td>35</td>\n",
       "      <td>8</td>\n",
       "      <td>45</td>\n",
       "      <td>4</td>\n",
       "      <td>1.0</td>\n",
       "      <td>2</td>\n",
       "      <td>0</td>\n",
       "      <td>0</td>\n",
       "    </tr>\n",
       "  </tbody>\n",
       "</table>\n",
       "</div>"
      ],
      "text/plain": [
       "   Age  Experience  Income  Family  CCAvg  Education  Personal Loan  Online\n",
       "0   25           1      49       4    1.6          1              0       0\n",
       "1   45          19      34       3    1.5          1              0       0\n",
       "2   39          15      11       1    1.0          1              0       0\n",
       "3   35           9     100       1    2.7          2              0       0\n",
       "4   35           8      45       4    1.0          2              0       0"
      ]
     },
     "execution_count": 6,
     "metadata": {},
     "output_type": "execute_result"
    }
   ],
   "source": [
    "df.head(5)"
   ]
  },
  {
   "cell_type": "code",
   "execution_count": 7,
   "id": "7564abb8",
   "metadata": {
    "execution": {
     "iopub.execute_input": "2021-11-29T07:08:30.817070Z",
     "iopub.status.busy": "2021-11-29T07:08:30.816317Z",
     "iopub.status.idle": "2021-11-29T07:08:30.819196Z",
     "shell.execute_reply": "2021-11-29T07:08:30.818588Z",
     "shell.execute_reply.started": "2021-11-29T07:02:46.067173Z"
    },
    "id": "vTJ5pfTCvrzZ",
    "papermill": {
     "duration": 0.126003,
     "end_time": "2021-11-29T07:08:30.819328",
     "exception": false,
     "start_time": "2021-11-29T07:08:30.693325",
     "status": "completed"
    },
    "tags": []
   },
   "outputs": [],
   "source": [
    "# Performing Exploratory Data Analysis using Panda Profiling\n",
    "#profile = ProfileReport(df)\n",
    "# putting Exploratory Data Analysis report to the notebook\n",
    "#profile.to_file(\"Exploratory Data Analysis Report.html\")\n",
    "#profile.to_widgets()"
   ]
  },
  {
   "cell_type": "code",
   "execution_count": 8,
   "id": "014ff1d4",
   "metadata": {
    "execution": {
     "iopub.execute_input": "2021-11-29T07:08:31.075998Z",
     "iopub.status.busy": "2021-11-29T07:08:31.066524Z",
     "iopub.status.idle": "2021-11-29T07:08:31.685748Z",
     "shell.execute_reply": "2021-11-29T07:08:31.685207Z",
     "shell.execute_reply.started": "2021-11-29T07:02:55.266948Z"
    },
    "id": "el5x6xgXUL7U",
    "outputId": "88d5c6dd-0e21-444e-959c-967b48506135",
    "papermill": {
     "duration": 0.746102,
     "end_time": "2021-11-29T07:08:31.685894",
     "exception": false,
     "start_time": "2021-11-29T07:08:30.939792",
     "status": "completed"
    },
    "tags": []
   },
   "outputs": [
    {
     "data": {
      "image/png": "[encoded data removed]",
      "text/plain": [
       "<Figure size 1080x720 with 2 Axes>"
      ]
     },
     "metadata": {
      "needs_background": "light"
     },
     "output_type": "display_data"
    }
   ],
   "source": [
    "fig = plt.figure(figsize=(15,10))\n",
    "sns.heatmap(df.corr(), cmap=\"Spectral\", annot=True)\n",
    "plt.title(\"Correlation Heatmap\")\n",
    "plt.show()"
   ]
  },
  {
   "cell_type": "code",
   "execution_count": 9,
   "id": "3eaa6026",
   "metadata": {
    "execution": {
     "iopub.execute_input": "2021-11-29T07:08:31.934489Z",
     "iopub.status.busy": "2021-11-29T07:08:31.933504Z",
     "iopub.status.idle": "2021-11-29T07:08:31.947924Z",
     "shell.execute_reply": "2021-11-29T07:08:31.948499Z",
     "shell.execute_reply.started": "2021-11-29T07:02:59.141595Z"
    },
    "id": "dmC2uT1XQ3a-",
    "outputId": "d031ffd0-181f-4a5e-df27-b37a7734a2e4",
    "papermill": {
     "duration": 0.141834,
     "end_time": "2021-11-29T07:08:31.948664",
     "exception": false,
     "start_time": "2021-11-29T07:08:31.806830",
     "status": "completed"
    },
    "tags": []
   },
   "outputs": [
    {
     "data": {
      "text/plain": [
       "81"
      ]
     },
     "execution_count": 9,
     "metadata": {},
     "output_type": "execute_result"
    }
   ],
   "source": [
    "df.duplicated().sum()"
   ]
  },
  {
   "cell_type": "code",
   "execution_count": 10,
   "id": "a1c62204",
   "metadata": {
    "execution": {
     "iopub.execute_input": "2021-11-29T07:08:32.197612Z",
     "iopub.status.busy": "2021-11-29T07:08:32.196959Z",
     "iopub.status.idle": "2021-11-29T07:08:32.205291Z",
     "shell.execute_reply": "2021-11-29T07:08:32.204766Z",
     "shell.execute_reply.started": "2021-11-29T07:03:01.192032Z"
    },
    "id": "a2w192NCRPgt",
    "outputId": "c64a4411-71c2-4d9a-a787-18eb2aed5f89",
    "papermill": {
     "duration": 0.135123,
     "end_time": "2021-11-29T07:08:32.205429",
     "exception": false,
     "start_time": "2021-11-29T07:08:32.070306",
     "status": "completed"
    },
    "tags": []
   },
   "outputs": [
    {
     "data": {
      "text/plain": [
       "(4919, 8)"
      ]
     },
     "execution_count": 10,
     "metadata": {},
     "output_type": "execute_result"
    }
   ],
   "source": [
    "df.drop_duplicates(inplace=True)\n",
    "df.shape"
   ]
  },
  {
   "cell_type": "code",
   "execution_count": 11,
   "id": "c24d426b",
   "metadata": {
    "execution": {
     "iopub.execute_input": "2021-11-29T07:08:32.488815Z",
     "iopub.status.busy": "2021-11-29T07:08:32.488118Z",
     "iopub.status.idle": "2021-11-29T07:08:32.497349Z",
     "shell.execute_reply": "2021-11-29T07:08:32.497963Z",
     "shell.execute_reply.started": "2021-11-29T07:03:02.897207Z"
    },
    "id": "I_6_SIRuR2bp",
    "outputId": "9bd56ac0-6609-49f1-a8e4-c3e12357f011",
    "papermill": {
     "duration": 0.150655,
     "end_time": "2021-11-29T07:08:32.498125",
     "exception": false,
     "start_time": "2021-11-29T07:08:32.347470",
     "status": "completed"
    },
    "tags": []
   },
   "outputs": [
    {
     "data": {
      "text/plain": [
       "(4867, 8)"
      ]
     },
     "execution_count": 11,
     "metadata": {},
     "output_type": "execute_result"
    }
   ],
   "source": [
    "df = df[(df[['Experience']] >= 0).all(1)]\n",
    "df.shape"
   ]
  },
  {
   "cell_type": "code",
   "execution_count": 12,
   "id": "1eec875a",
   "metadata": {
    "execution": {
     "iopub.execute_input": "2021-11-29T07:08:32.758188Z",
     "iopub.status.busy": "2021-11-29T07:08:32.757184Z",
     "iopub.status.idle": "2021-11-29T07:08:32.761143Z",
     "shell.execute_reply": "2021-11-29T07:08:32.761757Z",
     "shell.execute_reply.started": "2021-11-29T07:03:04.814340Z"
    },
    "id": "SpRAXEBBpWVf",
    "papermill": {
     "duration": 0.13063,
     "end_time": "2021-11-29T07:08:32.761928",
     "exception": false,
     "start_time": "2021-11-29T07:08:32.631298",
     "status": "completed"
    },
    "tags": []
   },
   "outputs": [],
   "source": [
    "df2 = df.copy()"
   ]
  },
  {
   "cell_type": "code",
   "execution_count": 13,
   "id": "e018b4ff",
   "metadata": {
    "execution": {
     "iopub.execute_input": "2021-11-29T07:08:33.015720Z",
     "iopub.status.busy": "2021-11-29T07:08:33.014768Z",
     "iopub.status.idle": "2021-11-29T07:08:33.021457Z",
     "shell.execute_reply": "2021-11-29T07:08:33.022317Z",
     "shell.execute_reply.started": "2021-11-29T07:03:06.747245Z"
    },
    "id": "JhHv7ZfJiBGw",
    "outputId": "17bc660e-1bcf-414d-e853-3e56a756b5de",
    "papermill": {
     "duration": 0.136208,
     "end_time": "2021-11-29T07:08:33.022526",
     "exception": false,
     "start_time": "2021-11-29T07:08:32.886318",
     "status": "completed"
    },
    "tags": []
   },
   "outputs": [
    {
     "name": "stdout",
     "output_type": "stream",
     "text": [
      "8\n",
      "224\n"
     ]
    }
   ],
   "source": [
    "min_income = df['Income'].min()\n",
    "max_income = df['Income'].max()\n",
    "print(min_income)\n",
    "print(max_income)"
   ]
  },
  {
   "cell_type": "code",
   "execution_count": 14,
   "id": "f52daf47",
   "metadata": {
    "execution": {
     "iopub.execute_input": "2021-11-29T07:08:33.273919Z",
     "iopub.status.busy": "2021-11-29T07:08:33.272680Z",
     "iopub.status.idle": "2021-11-29T07:08:33.278872Z",
     "shell.execute_reply": "2021-11-29T07:08:33.279328Z",
     "shell.execute_reply.started": "2021-11-29T07:03:08.713061Z"
    },
    "id": "b1Z05EULjv3a",
    "outputId": "e8238dcf-f0c2-4402-edff-a24ba057df64",
    "papermill": {
     "duration": 0.133047,
     "end_time": "2021-11-29T07:08:33.279493",
     "exception": false,
     "start_time": "2021-11-29T07:08:33.146446",
     "status": "completed"
    },
    "tags": []
   },
   "outputs": [
    {
     "name": "stdout",
     "output_type": "stream",
     "text": [
      "[  8.   29.6  51.2  72.8  94.4 116.  137.6 159.2 180.8 202.4 224. ]\n"
     ]
    }
   ],
   "source": [
    "bins_income_labels = [1,2,3,4,5,6,7,8,9,10]\n",
    "bins_income = np.linspace(min_income,max_income,11)\n",
    "print(bins_income)"
   ]
  },
  {
   "cell_type": "code",
   "execution_count": 15,
   "id": "a715b152",
   "metadata": {
    "execution": {
     "iopub.execute_input": "2021-11-29T07:08:33.534930Z",
     "iopub.status.busy": "2021-11-29T07:08:33.534308Z",
     "iopub.status.idle": "2021-11-29T07:08:33.551279Z",
     "shell.execute_reply": "2021-11-29T07:08:33.551885Z",
     "shell.execute_reply.started": "2021-11-29T07:03:13.866670Z"
    },
    "id": "58wz7sZbkXiT",
    "outputId": "efe72e8f-6476-44ab-a092-fc4c4201a59b",
    "papermill": {
     "duration": 0.142851,
     "end_time": "2021-11-29T07:08:33.552062",
     "exception": false,
     "start_time": "2021-11-29T07:08:33.409211",
     "status": "completed"
    },
    "tags": []
   },
   "outputs": [
    {
     "data": {
      "text/html": [
       "<div>\n",
       "<style scoped>\n",
       "    .dataframe tbody tr th:only-of-type {\n",
       "        vertical-align: middle;\n",
       "    }\n",
       "\n",
       "    .dataframe tbody tr th {\n",
       "        vertical-align: top;\n",
       "    }\n",
       "\n",
       "    .dataframe thead th {\n",
       "        text-align: right;\n",
       "    }\n",
       "</style>\n",
       "<table border=\"1\" class=\"dataframe\">\n",
       "  <thead>\n",
       "    <tr style=\"text-align: right;\">\n",
       "      <th></th>\n",
       "      <th>Age</th>\n",
       "      <th>Experience</th>\n",
       "      <th>Income</th>\n",
       "      <th>Family</th>\n",
       "      <th>CCAvg</th>\n",
       "      <th>Education</th>\n",
       "      <th>Personal Loan</th>\n",
       "      <th>Online</th>\n",
       "      <th>income_bins</th>\n",
       "    </tr>\n",
       "  </thead>\n",
       "  <tbody>\n",
       "    <tr>\n",
       "      <th>0</th>\n",
       "      <td>25</td>\n",
       "      <td>1</td>\n",
       "      <td>49</td>\n",
       "      <td>4</td>\n",
       "      <td>1.6</td>\n",
       "      <td>1</td>\n",
       "      <td>0</td>\n",
       "      <td>0</td>\n",
       "      <td>2</td>\n",
       "    </tr>\n",
       "    <tr>\n",
       "      <th>1</th>\n",
       "      <td>45</td>\n",
       "      <td>19</td>\n",
       "      <td>34</td>\n",
       "      <td>3</td>\n",
       "      <td>1.5</td>\n",
       "      <td>1</td>\n",
       "      <td>0</td>\n",
       "      <td>0</td>\n",
       "      <td>2</td>\n",
       "    </tr>\n",
       "    <tr>\n",
       "      <th>2</th>\n",
       "      <td>39</td>\n",
       "      <td>15</td>\n",
       "      <td>11</td>\n",
       "      <td>1</td>\n",
       "      <td>1.0</td>\n",
       "      <td>1</td>\n",
       "      <td>0</td>\n",
       "      <td>0</td>\n",
       "      <td>1</td>\n",
       "    </tr>\n",
       "    <tr>\n",
       "      <th>3</th>\n",
       "      <td>35</td>\n",
       "      <td>9</td>\n",
       "      <td>100</td>\n",
       "      <td>1</td>\n",
       "      <td>2.7</td>\n",
       "      <td>2</td>\n",
       "      <td>0</td>\n",
       "      <td>0</td>\n",
       "      <td>5</td>\n",
       "    </tr>\n",
       "    <tr>\n",
       "      <th>4</th>\n",
       "      <td>35</td>\n",
       "      <td>8</td>\n",
       "      <td>45</td>\n",
       "      <td>4</td>\n",
       "      <td>1.0</td>\n",
       "      <td>2</td>\n",
       "      <td>0</td>\n",
       "      <td>0</td>\n",
       "      <td>2</td>\n",
       "    </tr>\n",
       "  </tbody>\n",
       "</table>\n",
       "</div>"
      ],
      "text/plain": [
       "   Age  Experience  Income  Family  CCAvg  Education  Personal Loan  Online  \\\n",
       "0   25           1      49       4    1.6          1              0       0   \n",
       "1   45          19      34       3    1.5          1              0       0   \n",
       "2   39          15      11       1    1.0          1              0       0   \n",
       "3   35           9     100       1    2.7          2              0       0   \n",
       "4   35           8      45       4    1.0          2              0       0   \n",
       "\n",
       "  income_bins  \n",
       "0           2  \n",
       "1           2  \n",
       "2           1  \n",
       "3           5  \n",
       "4           2  "
      ]
     },
     "execution_count": 15,
     "metadata": {},
     "output_type": "execute_result"
    }
   ],
   "source": [
    "df2['income_bins'] = pd.cut(df2['Income'], bins=bins_income, labels=bins_income_labels,include_lowest=True)\n",
    "df2.head(5)"
   ]
  },
  {
   "cell_type": "code",
   "execution_count": 16,
   "id": "f0517c3c",
   "metadata": {
    "execution": {
     "iopub.execute_input": "2021-11-29T07:08:33.801470Z",
     "iopub.status.busy": "2021-11-29T07:08:33.800829Z",
     "iopub.status.idle": "2021-11-29T07:08:34.010613Z",
     "shell.execute_reply": "2021-11-29T07:08:34.010014Z",
     "shell.execute_reply.started": "2021-11-29T07:03:16.421570Z"
    },
    "id": "JO-tQivdlQAN",
    "outputId": "2d6304b0-8f5a-46d0-8c5f-81f4cd3adca5",
    "papermill": {
     "duration": 0.335548,
     "end_time": "2021-11-29T07:08:34.010774",
     "exception": false,
     "start_time": "2021-11-29T07:08:33.675226",
     "status": "completed"
    },
    "tags": []
   },
   "outputs": [
    {
     "data": {
      "text/plain": [
       "(array([ 780., 1114.,  843.,  852.,  368.,  301.,  263.,  197.,  140.,\n",
       "           9.]),\n",
       " array([ 1. ,  1.9,  2.8,  3.7,  4.6,  5.5,  6.4,  7.3,  8.2,  9.1, 10. ]),\n",
       " <BarContainer object of 10 artists>)"
      ]
     },
     "execution_count": 16,
     "metadata": {},
     "output_type": "execute_result"
    },
    {
     "data": {
      "image/png": "[encoded data removed]",
      "text/plain": [
       "<Figure size 432x288 with 1 Axes>"
      ]
     },
     "metadata": {
      "needs_background": "light"
     },
     "output_type": "display_data"
    }
   ],
   "source": [
    "plt.hist(df2['income_bins'])"
   ]
  },
  {
   "cell_type": "code",
   "execution_count": 17,
   "id": "8275323f",
   "metadata": {
    "execution": {
     "iopub.execute_input": "2021-11-29T07:08:34.264431Z",
     "iopub.status.busy": "2021-11-29T07:08:34.263831Z",
     "iopub.status.idle": "2021-11-29T07:08:34.270772Z",
     "shell.execute_reply": "2021-11-29T07:08:34.269762Z",
     "shell.execute_reply.started": "2021-11-29T07:03:18.843677Z"
    },
    "id": "GYloKlZOl-k0",
    "outputId": "3aafa9f8-86a6-451e-c197-f1c5a3cbbd1f",
    "papermill": {
     "duration": 0.134822,
     "end_time": "2021-11-29T07:08:34.271022",
     "exception": false,
     "start_time": "2021-11-29T07:08:34.136200",
     "status": "completed"
    },
    "tags": []
   },
   "outputs": [
    {
     "name": "stdout",
     "output_type": "stream",
     "text": [
      "0.0\n",
      "10.0\n"
     ]
    }
   ],
   "source": [
    "min_CCAvg = df['CCAvg'].min()\n",
    "max_CCAvg = df['CCAvg'].max()\n",
    "print(min_CCAvg)\n",
    "print(max_CCAvg)"
   ]
  },
  {
   "cell_type": "code",
   "execution_count": 18,
   "id": "65e57fc5",
   "metadata": {
    "execution": {
     "iopub.execute_input": "2021-11-29T07:08:34.554202Z",
     "iopub.status.busy": "2021-11-29T07:08:34.553414Z",
     "iopub.status.idle": "2021-11-29T07:08:34.557244Z",
     "shell.execute_reply": "2021-11-29T07:08:34.556606Z",
     "shell.execute_reply.started": "2021-11-29T07:03:21.469237Z"
    },
    "id": "_hvaRYTCmoOy",
    "outputId": "2a32ffa4-6fb8-42d5-ca14-6f06c5550c51",
    "papermill": {
     "duration": 0.134347,
     "end_time": "2021-11-29T07:08:34.557378",
     "exception": false,
     "start_time": "2021-11-29T07:08:34.423031",
     "status": "completed"
    },
    "tags": []
   },
   "outputs": [
    {
     "name": "stdout",
     "output_type": "stream",
     "text": [
      "[ 0.  1.  2.  3.  4.  5.  6.  7.  8.  9. 10.]\n"
     ]
    }
   ],
   "source": [
    "bins_CCAvg_labels = [1,2,3,4,5,6,7,8,9,10]\n",
    "bins_CCAvg = np.linspace(min_CCAvg,max_CCAvg,11)\n",
    "print(bins_CCAvg)"
   ]
  },
  {
   "cell_type": "code",
   "execution_count": 19,
   "id": "7949b201",
   "metadata": {
    "execution": {
     "iopub.execute_input": "2021-11-29T07:08:34.814404Z",
     "iopub.status.busy": "2021-11-29T07:08:34.813620Z",
     "iopub.status.idle": "2021-11-29T07:08:34.827030Z",
     "shell.execute_reply": "2021-11-29T07:08:34.827631Z",
     "shell.execute_reply.started": "2021-11-29T07:03:24.328792Z"
    },
    "id": "ZaW1P3eCm14R",
    "outputId": "ef0d8bc1-8da8-43b7-a0fe-24df8eab10c4",
    "papermill": {
     "duration": 0.145771,
     "end_time": "2021-11-29T07:08:34.827819",
     "exception": false,
     "start_time": "2021-11-29T07:08:34.682048",
     "status": "completed"
    },
    "tags": []
   },
   "outputs": [
    {
     "data": {
      "text/html": [
       "<div>\n",
       "<style scoped>\n",
       "    .dataframe tbody tr th:only-of-type {\n",
       "        vertical-align: middle;\n",
       "    }\n",
       "\n",
       "    .dataframe tbody tr th {\n",
       "        vertical-align: top;\n",
       "    }\n",
       "\n",
       "    .dataframe thead th {\n",
       "        text-align: right;\n",
       "    }\n",
       "</style>\n",
       "<table border=\"1\" class=\"dataframe\">\n",
       "  <thead>\n",
       "    <tr style=\"text-align: right;\">\n",
       "      <th></th>\n",
       "      <th>Age</th>\n",
       "      <th>Experience</th>\n",
       "      <th>Income</th>\n",
       "      <th>Family</th>\n",
       "      <th>CCAvg</th>\n",
       "      <th>Education</th>\n",
       "      <th>Personal Loan</th>\n",
       "      <th>Online</th>\n",
       "      <th>income_bins</th>\n",
       "      <th>CCAvg_bins</th>\n",
       "    </tr>\n",
       "  </thead>\n",
       "  <tbody>\n",
       "    <tr>\n",
       "      <th>0</th>\n",
       "      <td>25</td>\n",
       "      <td>1</td>\n",
       "      <td>49</td>\n",
       "      <td>4</td>\n",
       "      <td>1.6</td>\n",
       "      <td>1</td>\n",
       "      <td>0</td>\n",
       "      <td>0</td>\n",
       "      <td>2</td>\n",
       "      <td>2</td>\n",
       "    </tr>\n",
       "    <tr>\n",
       "      <th>1</th>\n",
       "      <td>45</td>\n",
       "      <td>19</td>\n",
       "      <td>34</td>\n",
       "      <td>3</td>\n",
       "      <td>1.5</td>\n",
       "      <td>1</td>\n",
       "      <td>0</td>\n",
       "      <td>0</td>\n",
       "      <td>2</td>\n",
       "      <td>2</td>\n",
       "    </tr>\n",
       "    <tr>\n",
       "      <th>2</th>\n",
       "      <td>39</td>\n",
       "      <td>15</td>\n",
       "      <td>11</td>\n",
       "      <td>1</td>\n",
       "      <td>1.0</td>\n",
       "      <td>1</td>\n",
       "      <td>0</td>\n",
       "      <td>0</td>\n",
       "      <td>1</td>\n",
       "      <td>1</td>\n",
       "    </tr>\n",
       "    <tr>\n",
       "      <th>3</th>\n",
       "      <td>35</td>\n",
       "      <td>9</td>\n",
       "      <td>100</td>\n",
       "      <td>1</td>\n",
       "      <td>2.7</td>\n",
       "      <td>2</td>\n",
       "      <td>0</td>\n",
       "      <td>0</td>\n",
       "      <td>5</td>\n",
       "      <td>3</td>\n",
       "    </tr>\n",
       "    <tr>\n",
       "      <th>4</th>\n",
       "      <td>35</td>\n",
       "      <td>8</td>\n",
       "      <td>45</td>\n",
       "      <td>4</td>\n",
       "      <td>1.0</td>\n",
       "      <td>2</td>\n",
       "      <td>0</td>\n",
       "      <td>0</td>\n",
       "      <td>2</td>\n",
       "      <td>1</td>\n",
       "    </tr>\n",
       "  </tbody>\n",
       "</table>\n",
       "</div>"
      ],
      "text/plain": [
       "   Age  Experience  Income  Family  CCAvg  Education  Personal Loan  Online  \\\n",
       "0   25           1      49       4    1.6          1              0       0   \n",
       "1   45          19      34       3    1.5          1              0       0   \n",
       "2   39          15      11       1    1.0          1              0       0   \n",
       "3   35           9     100       1    2.7          2              0       0   \n",
       "4   35           8      45       4    1.0          2              0       0   \n",
       "\n",
       "  income_bins CCAvg_bins  \n",
       "0           2          2  \n",
       "1           2          2  \n",
       "2           1          1  \n",
       "3           5          3  \n",
       "4           2          1  "
      ]
     },
     "execution_count": 19,
     "metadata": {},
     "output_type": "execute_result"
    }
   ],
   "source": [
    "df2['CCAvg_bins'] = pd.cut(df2['CCAvg'], bins=bins_CCAvg, labels=bins_CCAvg_labels, include_lowest=True)\n",
    "df2.head(5)"
   ]
  },
  {
   "cell_type": "code",
   "execution_count": 20,
   "id": "dd16c6fb",
   "metadata": {
    "execution": {
     "iopub.execute_input": "2021-11-29T07:08:35.263406Z",
     "iopub.status.busy": "2021-11-29T07:08:35.088103Z",
     "iopub.status.idle": "2021-11-29T07:08:35.469196Z",
     "shell.execute_reply": "2021-11-29T07:08:35.469640Z",
     "shell.execute_reply.started": "2021-11-29T07:03:27.524011Z"
    },
    "id": "48rqAF97nIJp",
    "outputId": "0b87c781-54e8-405e-daeb-bdb506a70c2f",
    "papermill": {
     "duration": 0.514412,
     "end_time": "2021-11-29T07:08:35.469836",
     "exception": false,
     "start_time": "2021-11-29T07:08:34.955424",
     "status": "completed"
    },
    "tags": []
   },
   "outputs": [
    {
     "data": {
      "text/plain": [
       "(array([1861., 1298.,  868.,  297.,  202.,  105.,  119.,   78.,   35.,\n",
       "           4.]),\n",
       " array([ 1. ,  1.9,  2.8,  3.7,  4.6,  5.5,  6.4,  7.3,  8.2,  9.1, 10. ]),\n",
       " <BarContainer object of 10 artists>)"
      ]
     },
     "execution_count": 20,
     "metadata": {},
     "output_type": "execute_result"
    },
    {
     "data": {
      "image/png": "[encoded data removed]",
      "text/plain": [
       "<Figure size 432x288 with 1 Axes>"
      ]
     },
     "metadata": {
      "needs_background": "light"
     },
     "output_type": "display_data"
    }
   ],
   "source": [
    "plt.hist(df2['CCAvg_bins'])"
   ]
  },
  {
   "cell_type": "code",
   "execution_count": 21,
   "id": "1d495d98",
   "metadata": {
    "execution": {
     "iopub.execute_input": "2021-11-29T07:08:35.728875Z",
     "iopub.status.busy": "2021-11-29T07:08:35.726747Z",
     "iopub.status.idle": "2021-11-29T07:08:35.732388Z",
     "shell.execute_reply": "2021-11-29T07:08:35.732935Z",
     "shell.execute_reply.started": "2021-11-29T07:03:30.234230Z"
    },
    "id": "UI0jLVmsnR1h",
    "outputId": "5640c673-4e36-466c-e90e-36a668a6e12f",
    "papermill": {
     "duration": 0.136738,
     "end_time": "2021-11-29T07:08:35.733109",
     "exception": false,
     "start_time": "2021-11-29T07:08:35.596371",
     "status": "completed"
    },
    "tags": []
   },
   "outputs": [
    {
     "name": "stdout",
     "output_type": "stream",
     "text": [
      "24\n",
      "67\n"
     ]
    }
   ],
   "source": [
    "min_Age = df['Age'].min()\n",
    "max_Age = df['Age'].max()\n",
    "print(min_Age)\n",
    "print(max_Age)"
   ]
  },
  {
   "cell_type": "code",
   "execution_count": 22,
   "id": "466030fb",
   "metadata": {
    "execution": {
     "iopub.execute_input": "2021-11-29T07:08:35.994429Z",
     "iopub.status.busy": "2021-11-29T07:08:35.993767Z",
     "iopub.status.idle": "2021-11-29T07:08:35.996745Z",
     "shell.execute_reply": "2021-11-29T07:08:35.997331Z",
     "shell.execute_reply.started": "2021-11-29T07:03:32.252610Z"
    },
    "id": "yund4ycVn-yg",
    "outputId": "ea188402-d5a2-4f4d-9641-3285a0be2d87",
    "papermill": {
     "duration": 0.137058,
     "end_time": "2021-11-29T07:08:35.997488",
     "exception": false,
     "start_time": "2021-11-29T07:08:35.860430",
     "status": "completed"
    },
    "tags": []
   },
   "outputs": [
    {
     "name": "stdout",
     "output_type": "stream",
     "text": [
      "[15 20 25 30 35 40 45 50 55 60 65 70]\n"
     ]
    }
   ],
   "source": [
    "bins_age_labels = [1,2,3,4,5,6,7,8,9,10,11]\n",
    "bins_age = np.arange(15, 71, 5)\n",
    "print(bins_age)"
   ]
  },
  {
   "cell_type": "code",
   "execution_count": 23,
   "id": "0323082a",
   "metadata": {
    "execution": {
     "iopub.execute_input": "2021-11-29T07:08:36.258422Z",
     "iopub.status.busy": "2021-11-29T07:08:36.257163Z",
     "iopub.status.idle": "2021-11-29T07:08:36.272178Z",
     "shell.execute_reply": "2021-11-29T07:08:36.271626Z",
     "shell.execute_reply.started": "2021-11-29T07:03:33.895766Z"
    },
    "id": "oB9lAetYo_fB",
    "outputId": "e84f02e6-a89a-44f2-e9e9-7ce4366f69c2",
    "papermill": {
     "duration": 0.147427,
     "end_time": "2021-11-29T07:08:36.272329",
     "exception": false,
     "start_time": "2021-11-29T07:08:36.124902",
     "status": "completed"
    },
    "tags": []
   },
   "outputs": [
    {
     "data": {
      "text/html": [
       "<div>\n",
       "<style scoped>\n",
       "    .dataframe tbody tr th:only-of-type {\n",
       "        vertical-align: middle;\n",
       "    }\n",
       "\n",
       "    .dataframe tbody tr th {\n",
       "        vertical-align: top;\n",
       "    }\n",
       "\n",
       "    .dataframe thead th {\n",
       "        text-align: right;\n",
       "    }\n",
       "</style>\n",
       "<table border=\"1\" class=\"dataframe\">\n",
       "  <thead>\n",
       "    <tr style=\"text-align: right;\">\n",
       "      <th></th>\n",
       "      <th>Age</th>\n",
       "      <th>Experience</th>\n",
       "      <th>Income</th>\n",
       "      <th>Family</th>\n",
       "      <th>CCAvg</th>\n",
       "      <th>Education</th>\n",
       "      <th>Personal Loan</th>\n",
       "      <th>Online</th>\n",
       "      <th>income_bins</th>\n",
       "      <th>CCAvg_bins</th>\n",
       "      <th>Age_bins</th>\n",
       "    </tr>\n",
       "  </thead>\n",
       "  <tbody>\n",
       "    <tr>\n",
       "      <th>0</th>\n",
       "      <td>25</td>\n",
       "      <td>1</td>\n",
       "      <td>49</td>\n",
       "      <td>4</td>\n",
       "      <td>1.6</td>\n",
       "      <td>1</td>\n",
       "      <td>0</td>\n",
       "      <td>0</td>\n",
       "      <td>2</td>\n",
       "      <td>2</td>\n",
       "      <td>2</td>\n",
       "    </tr>\n",
       "    <tr>\n",
       "      <th>1</th>\n",
       "      <td>45</td>\n",
       "      <td>19</td>\n",
       "      <td>34</td>\n",
       "      <td>3</td>\n",
       "      <td>1.5</td>\n",
       "      <td>1</td>\n",
       "      <td>0</td>\n",
       "      <td>0</td>\n",
       "      <td>2</td>\n",
       "      <td>2</td>\n",
       "      <td>6</td>\n",
       "    </tr>\n",
       "    <tr>\n",
       "      <th>2</th>\n",
       "      <td>39</td>\n",
       "      <td>15</td>\n",
       "      <td>11</td>\n",
       "      <td>1</td>\n",
       "      <td>1.0</td>\n",
       "      <td>1</td>\n",
       "      <td>0</td>\n",
       "      <td>0</td>\n",
       "      <td>1</td>\n",
       "      <td>1</td>\n",
       "      <td>5</td>\n",
       "    </tr>\n",
       "    <tr>\n",
       "      <th>3</th>\n",
       "      <td>35</td>\n",
       "      <td>9</td>\n",
       "      <td>100</td>\n",
       "      <td>1</td>\n",
       "      <td>2.7</td>\n",
       "      <td>2</td>\n",
       "      <td>0</td>\n",
       "      <td>0</td>\n",
       "      <td>5</td>\n",
       "      <td>3</td>\n",
       "      <td>4</td>\n",
       "    </tr>\n",
       "    <tr>\n",
       "      <th>4</th>\n",
       "      <td>35</td>\n",
       "      <td>8</td>\n",
       "      <td>45</td>\n",
       "      <td>4</td>\n",
       "      <td>1.0</td>\n",
       "      <td>2</td>\n",
       "      <td>0</td>\n",
       "      <td>0</td>\n",
       "      <td>2</td>\n",
       "      <td>1</td>\n",
       "      <td>4</td>\n",
       "    </tr>\n",
       "  </tbody>\n",
       "</table>\n",
       "</div>"
      ],
      "text/plain": [
       "   Age  Experience  Income  Family  CCAvg  Education  Personal Loan  Online  \\\n",
       "0   25           1      49       4    1.6          1              0       0   \n",
       "1   45          19      34       3    1.5          1              0       0   \n",
       "2   39          15      11       1    1.0          1              0       0   \n",
       "3   35           9     100       1    2.7          2              0       0   \n",
       "4   35           8      45       4    1.0          2              0       0   \n",
       "\n",
       "  income_bins CCAvg_bins Age_bins  \n",
       "0           2          2        2  \n",
       "1           2          2        6  \n",
       "2           1          1        5  \n",
       "3           5          3        4  \n",
       "4           2          1        4  "
      ]
     },
     "execution_count": 23,
     "metadata": {},
     "output_type": "execute_result"
    }
   ],
   "source": [
    "df2['Age_bins'] = pd.cut(df2['Age'], bins=bins_age, labels=bins_age_labels, include_lowest=True)\n",
    "df2.head(5)"
   ]
  },
  {
   "cell_type": "code",
   "execution_count": 24,
   "id": "d6ae6004",
   "metadata": {
    "execution": {
     "iopub.execute_input": "2021-11-29T07:08:36.538004Z",
     "iopub.status.busy": "2021-11-29T07:08:36.537369Z",
     "iopub.status.idle": "2021-11-29T07:08:36.541323Z",
     "shell.execute_reply": "2021-11-29T07:08:36.540102Z",
     "shell.execute_reply.started": "2021-11-29T07:03:35.763375Z"
    },
    "id": "DUMqzCc0pjKP",
    "outputId": "b6e79854-5e97-4459-e97c-c4fefe69a2ff",
    "papermill": {
     "duration": 0.137132,
     "end_time": "2021-11-29T07:08:36.541460",
     "exception": false,
     "start_time": "2021-11-29T07:08:36.404328",
     "status": "completed"
    },
    "tags": []
   },
   "outputs": [
    {
     "name": "stdout",
     "output_type": "stream",
     "text": [
      "0\n",
      "43\n"
     ]
    }
   ],
   "source": [
    "#Bin limits for Experience\n",
    "min_Experience = df['Experience'].min()\n",
    "max_Experience = df['Experience'].max()\n",
    "print(min_Experience)\n",
    "print(max_Experience)"
   ]
  },
  {
   "cell_type": "code",
   "execution_count": 25,
   "id": "985e73e9",
   "metadata": {
    "execution": {
     "iopub.execute_input": "2021-11-29T07:08:36.805624Z",
     "iopub.status.busy": "2021-11-29T07:08:36.804847Z",
     "iopub.status.idle": "2021-11-29T07:08:36.807886Z",
     "shell.execute_reply": "2021-11-29T07:08:36.808372Z",
     "shell.execute_reply.started": "2021-11-29T07:03:37.617520Z"
    },
    "id": "fHE73AG6Nk3t",
    "outputId": "bf8abb6f-fab6-4cc1-a61e-db49630e773e",
    "papermill": {
     "duration": 0.13778,
     "end_time": "2021-11-29T07:08:36.808527",
     "exception": false,
     "start_time": "2021-11-29T07:08:36.670747",
     "status": "completed"
    },
    "tags": []
   },
   "outputs": [
    {
     "name": "stdout",
     "output_type": "stream",
     "text": [
      "[ 0  5 10 15 20 25 30 35 40 45]\n"
     ]
    }
   ],
   "source": [
    "#Finding bins for Experience\n",
    "bins_exp_labels = [1,2,3,4,5,6,7,8,9]\n",
    "bins_exp = np.arange(0, 50, 5)\n",
    "print(bins_exp)"
   ]
  },
  {
   "cell_type": "code",
   "execution_count": 26,
   "id": "c3901757",
   "metadata": {
    "execution": {
     "iopub.execute_input": "2021-11-29T07:08:37.071497Z",
     "iopub.status.busy": "2021-11-29T07:08:37.070851Z",
     "iopub.status.idle": "2021-11-29T07:08:37.088430Z",
     "shell.execute_reply": "2021-11-29T07:08:37.087913Z",
     "shell.execute_reply.started": "2021-11-29T07:03:39.353633Z"
    },
    "id": "6ItJoKxnN0pu",
    "outputId": "878b7053-3acf-4fe5-f68f-55cbb4f4807d",
    "papermill": {
     "duration": 0.150531,
     "end_time": "2021-11-29T07:08:37.088574",
     "exception": false,
     "start_time": "2021-11-29T07:08:36.938043",
     "status": "completed"
    },
    "tags": []
   },
   "outputs": [
    {
     "data": {
      "text/html": [
       "<div>\n",
       "<style scoped>\n",
       "    .dataframe tbody tr th:only-of-type {\n",
       "        vertical-align: middle;\n",
       "    }\n",
       "\n",
       "    .dataframe tbody tr th {\n",
       "        vertical-align: top;\n",
       "    }\n",
       "\n",
       "    .dataframe thead th {\n",
       "        text-align: right;\n",
       "    }\n",
       "</style>\n",
       "<table border=\"1\" class=\"dataframe\">\n",
       "  <thead>\n",
       "    <tr style=\"text-align: right;\">\n",
       "      <th></th>\n",
       "      <th>Age</th>\n",
       "      <th>Experience</th>\n",
       "      <th>Income</th>\n",
       "      <th>Family</th>\n",
       "      <th>CCAvg</th>\n",
       "      <th>Education</th>\n",
       "      <th>Personal Loan</th>\n",
       "      <th>Online</th>\n",
       "      <th>income_bins</th>\n",
       "      <th>CCAvg_bins</th>\n",
       "      <th>Age_bins</th>\n",
       "      <th>Exp_bins</th>\n",
       "    </tr>\n",
       "  </thead>\n",
       "  <tbody>\n",
       "    <tr>\n",
       "      <th>0</th>\n",
       "      <td>25</td>\n",
       "      <td>1</td>\n",
       "      <td>49</td>\n",
       "      <td>4</td>\n",
       "      <td>1.6</td>\n",
       "      <td>1</td>\n",
       "      <td>0</td>\n",
       "      <td>0</td>\n",
       "      <td>2</td>\n",
       "      <td>2</td>\n",
       "      <td>2</td>\n",
       "      <td>1</td>\n",
       "    </tr>\n",
       "    <tr>\n",
       "      <th>1</th>\n",
       "      <td>45</td>\n",
       "      <td>19</td>\n",
       "      <td>34</td>\n",
       "      <td>3</td>\n",
       "      <td>1.5</td>\n",
       "      <td>1</td>\n",
       "      <td>0</td>\n",
       "      <td>0</td>\n",
       "      <td>2</td>\n",
       "      <td>2</td>\n",
       "      <td>6</td>\n",
       "      <td>4</td>\n",
       "    </tr>\n",
       "    <tr>\n",
       "      <th>2</th>\n",
       "      <td>39</td>\n",
       "      <td>15</td>\n",
       "      <td>11</td>\n",
       "      <td>1</td>\n",
       "      <td>1.0</td>\n",
       "      <td>1</td>\n",
       "      <td>0</td>\n",
       "      <td>0</td>\n",
       "      <td>1</td>\n",
       "      <td>1</td>\n",
       "      <td>5</td>\n",
       "      <td>3</td>\n",
       "    </tr>\n",
       "    <tr>\n",
       "      <th>3</th>\n",
       "      <td>35</td>\n",
       "      <td>9</td>\n",
       "      <td>100</td>\n",
       "      <td>1</td>\n",
       "      <td>2.7</td>\n",
       "      <td>2</td>\n",
       "      <td>0</td>\n",
       "      <td>0</td>\n",
       "      <td>5</td>\n",
       "      <td>3</td>\n",
       "      <td>4</td>\n",
       "      <td>2</td>\n",
       "    </tr>\n",
       "    <tr>\n",
       "      <th>4</th>\n",
       "      <td>35</td>\n",
       "      <td>8</td>\n",
       "      <td>45</td>\n",
       "      <td>4</td>\n",
       "      <td>1.0</td>\n",
       "      <td>2</td>\n",
       "      <td>0</td>\n",
       "      <td>0</td>\n",
       "      <td>2</td>\n",
       "      <td>1</td>\n",
       "      <td>4</td>\n",
       "      <td>2</td>\n",
       "    </tr>\n",
       "  </tbody>\n",
       "</table>\n",
       "</div>"
      ],
      "text/plain": [
       "   Age  Experience  Income  Family  CCAvg  Education  Personal Loan  Online  \\\n",
       "0   25           1      49       4    1.6          1              0       0   \n",
       "1   45          19      34       3    1.5          1              0       0   \n",
       "2   39          15      11       1    1.0          1              0       0   \n",
       "3   35           9     100       1    2.7          2              0       0   \n",
       "4   35           8      45       4    1.0          2              0       0   \n",
       "\n",
       "  income_bins CCAvg_bins Age_bins Exp_bins  \n",
       "0           2          2        2        1  \n",
       "1           2          2        6        4  \n",
       "2           1          1        5        3  \n",
       "3           5          3        4        2  \n",
       "4           2          1        4        2  "
      ]
     },
     "execution_count": 26,
     "metadata": {},
     "output_type": "execute_result"
    }
   ],
   "source": [
    "#Binning Experience\n",
    "df2['Exp_bins'] = pd.cut(df2['Experience'], bins=bins_exp, labels=bins_exp_labels, include_lowest=True)\n",
    "df2.head(5)"
   ]
  },
  {
   "cell_type": "code",
   "execution_count": 27,
   "id": "edbe9231",
   "metadata": {
    "execution": {
     "iopub.execute_input": "2021-11-29T07:08:37.354648Z",
     "iopub.status.busy": "2021-11-29T07:08:37.354028Z",
     "iopub.status.idle": "2021-11-29T07:08:37.362873Z",
     "shell.execute_reply": "2021-11-29T07:08:37.363401Z",
     "shell.execute_reply.started": "2021-11-29T07:03:41.664031Z"
    },
    "id": "vhikWCQiqmz0",
    "outputId": "f9c9b3c3-e897-4d83-dd65-dc224027a772",
    "papermill": {
     "duration": 0.146016,
     "end_time": "2021-11-29T07:08:37.363562",
     "exception": false,
     "start_time": "2021-11-29T07:08:37.217546",
     "status": "completed"
    },
    "tags": []
   },
   "outputs": [
    {
     "data": {
      "text/html": [
       "<div>\n",
       "<style scoped>\n",
       "    .dataframe tbody tr th:only-of-type {\n",
       "        vertical-align: middle;\n",
       "    }\n",
       "\n",
       "    .dataframe tbody tr th {\n",
       "        vertical-align: top;\n",
       "    }\n",
       "\n",
       "    .dataframe thead th {\n",
       "        text-align: right;\n",
       "    }\n",
       "</style>\n",
       "<table border=\"1\" class=\"dataframe\">\n",
       "  <thead>\n",
       "    <tr style=\"text-align: right;\">\n",
       "      <th></th>\n",
       "      <th>Family</th>\n",
       "      <th>Education</th>\n",
       "      <th>Personal Loan</th>\n",
       "      <th>Online</th>\n",
       "      <th>income_bins</th>\n",
       "      <th>CCAvg_bins</th>\n",
       "      <th>Age_bins</th>\n",
       "      <th>Exp_bins</th>\n",
       "    </tr>\n",
       "  </thead>\n",
       "  <tbody>\n",
       "    <tr>\n",
       "      <th>0</th>\n",
       "      <td>4</td>\n",
       "      <td>1</td>\n",
       "      <td>0</td>\n",
       "      <td>0</td>\n",
       "      <td>2</td>\n",
       "      <td>2</td>\n",
       "      <td>2</td>\n",
       "      <td>1</td>\n",
       "    </tr>\n",
       "    <tr>\n",
       "      <th>1</th>\n",
       "      <td>3</td>\n",
       "      <td>1</td>\n",
       "      <td>0</td>\n",
       "      <td>0</td>\n",
       "      <td>2</td>\n",
       "      <td>2</td>\n",
       "      <td>6</td>\n",
       "      <td>4</td>\n",
       "    </tr>\n",
       "    <tr>\n",
       "      <th>2</th>\n",
       "      <td>1</td>\n",
       "      <td>1</td>\n",
       "      <td>0</td>\n",
       "      <td>0</td>\n",
       "      <td>1</td>\n",
       "      <td>1</td>\n",
       "      <td>5</td>\n",
       "      <td>3</td>\n",
       "    </tr>\n",
       "    <tr>\n",
       "      <th>3</th>\n",
       "      <td>1</td>\n",
       "      <td>2</td>\n",
       "      <td>0</td>\n",
       "      <td>0</td>\n",
       "      <td>5</td>\n",
       "      <td>3</td>\n",
       "      <td>4</td>\n",
       "      <td>2</td>\n",
       "    </tr>\n",
       "    <tr>\n",
       "      <th>4</th>\n",
       "      <td>4</td>\n",
       "      <td>2</td>\n",
       "      <td>0</td>\n",
       "      <td>0</td>\n",
       "      <td>2</td>\n",
       "      <td>1</td>\n",
       "      <td>4</td>\n",
       "      <td>2</td>\n",
       "    </tr>\n",
       "  </tbody>\n",
       "</table>\n",
       "</div>"
      ],
      "text/plain": [
       "   Family  Education  Personal Loan  Online income_bins CCAvg_bins Age_bins  \\\n",
       "0       4          1              0       0           2          2        2   \n",
       "1       3          1              0       0           2          2        6   \n",
       "2       1          1              0       0           1          1        5   \n",
       "3       1          2              0       0           5          3        4   \n",
       "4       4          2              0       0           2          1        4   \n",
       "\n",
       "  Exp_bins  \n",
       "0        1  \n",
       "1        4  \n",
       "2        3  \n",
       "3        2  \n",
       "4        2  "
      ]
     },
     "execution_count": 27,
     "metadata": {},
     "output_type": "execute_result"
    }
   ],
   "source": [
    "#Dropping without numerical variables\n",
    "data_BBN = df2.drop(['Age', 'Experience', 'Income','CCAvg'],axis=1)\n",
    "data_BBN.head()"
   ]
  },
  {
   "cell_type": "code",
   "execution_count": 28,
   "id": "cb0a1de1",
   "metadata": {
    "execution": {
     "iopub.execute_input": "2021-11-29T07:08:37.624713Z",
     "iopub.status.busy": "2021-11-29T07:08:37.624062Z",
     "iopub.status.idle": "2021-11-29T07:08:37.638365Z",
     "shell.execute_reply": "2021-11-29T07:08:37.638854Z",
     "shell.execute_reply.started": "2021-11-29T07:03:45.176291Z"
    },
    "id": "yP94GWBat5UM",
    "papermill": {
     "duration": 0.146534,
     "end_time": "2021-11-29T07:08:37.639017",
     "exception": false,
     "start_time": "2021-11-29T07:08:37.492483",
     "status": "completed"
    },
    "tags": []
   },
   "outputs": [],
   "source": [
    "#Finding discrete probability for independent variable\n",
    "def discreteProb(a, data):\n",
    "  Probs=data.groupby(a).size()/len(data)\n",
    "  C = pd.DataFrame(Probs)\n",
    "  C.columns=['Probability']\n",
    "  return C \n",
    "\n",
    "#finding conditional probability\n",
    "def condProbTable(a , given , data):\n",
    "    final = []\n",
    "    if len(given)!=0:\n",
    "        Given=list(given)\n",
    "        Given.append(a)\n",
    "        Probs=data.groupby(Given).size()/data.groupby(given).size()\n",
    "        A = pd.DataFrame(Probs)\n",
    "        Indexes = A.index\n",
    "        \n",
    "        C=pd.DataFrame()\n",
    "        FirstColName='('\n",
    "        for i in range(0,len( Indexes.names )-1):\n",
    "            FirstColName=FirstColName+Indexes.names[i]+' '\n",
    "            if(i==len(Indexes.names)-2):\n",
    "                FirstColName=FirstColName+')'\n",
    "            else:\n",
    "                FirstColName=FirstColName+', '\n",
    "        C[FirstColName]=[Indexes[i][0:len(given)] for i in range(0,len(Indexes))]\n",
    "        D=C.copy()\n",
    "        C=C.drop_duplicates().reset_index(drop =True)\n",
    "        aValues= [Indexes[i][len(given)] for i in range(0,len(Indexes))]\n",
    "        for i in list(set(aValues)):\n",
    "            C[a+' = '+str(i)] = 0.\n",
    "        for i in range(0,len(C)):\n",
    "            for j in D[D.iloc[:,0]==C.iloc[:,0][i]].index.values:\n",
    "                x=list(C.iloc[i,0])\n",
    "                x.append(aValues[j])\n",
    "                #x.append(A.loc[x])\n",
    "                x=tuple(x)\n",
    "                bc = A.loc[x,0]\n",
    "                if math.isnan(bc):\n",
    "                  bc = 0\n",
    "                new = x + (bc,) \n",
    "                final.append(list(new))\n",
    "                #print(list(new))\n",
    "                \n",
    "                C[a+' = '+str(aValues[j])][i]=A.loc[x]\n",
    "    else:\n",
    "        print(\"Given is none\")   \n",
    "    return final"
   ]
  },
  {
   "cell_type": "code",
   "execution_count": 29,
   "id": "7f40f9b1",
   "metadata": {
    "execution": {
     "iopub.execute_input": "2021-11-29T07:08:37.904099Z",
     "iopub.status.busy": "2021-11-29T07:08:37.902097Z",
     "iopub.status.idle": "2021-11-29T07:08:37.910776Z",
     "shell.execute_reply": "2021-11-29T07:08:37.911319Z",
     "shell.execute_reply.started": "2021-11-29T07:03:48.877809Z"
    },
    "id": "K7yfU9_Qt8Zh",
    "outputId": "2066ec3e-9658-42fd-dab3-d1ca9fc3eeed",
    "papermill": {
     "duration": 0.142058,
     "end_time": "2021-11-29T07:08:37.911485",
     "exception": false,
     "start_time": "2021-11-29T07:08:37.769427",
     "status": "completed"
    },
    "tags": []
   },
   "outputs": [
    {
     "name": "stdout",
     "output_type": "stream",
     "text": [
      "          Probability\n",
      "Age_bins             \n",
      "1            0.000000\n",
      "2            0.009246\n",
      "3            0.106226\n",
      "4            0.131087\n",
      "5            0.118143\n",
      "6            0.132936\n",
      "7            0.124101\n",
      "8            0.130881\n",
      "9            0.135813\n",
      "10           0.104582\n",
      "11           0.006986\n"
     ]
    }
   ],
   "source": [
    "#discrete probability of age\n",
    "age_prob = discreteProb('Age_bins', data=data_BBN)\n",
    "print(age_prob)"
   ]
  },
  {
   "cell_type": "code",
   "execution_count": 30,
   "id": "6bca721a",
   "metadata": {
    "execution": {
     "iopub.execute_input": "2021-11-29T07:08:38.178938Z",
     "iopub.status.busy": "2021-11-29T07:08:38.178299Z",
     "iopub.status.idle": "2021-11-29T07:08:38.184636Z",
     "shell.execute_reply": "2021-11-29T07:08:38.185186Z",
     "shell.execute_reply.started": "2021-11-29T07:03:52.138805Z"
    },
    "id": "eiC-QH14IDAG",
    "outputId": "792641e3-6875-4917-e26c-f14e39daec08",
    "papermill": {
     "duration": 0.142121,
     "end_time": "2021-11-29T07:08:38.185358",
     "exception": false,
     "start_time": "2021-11-29T07:08:38.043237",
     "status": "completed"
    },
    "tags": []
   },
   "outputs": [
    {
     "name": "stdout",
     "output_type": "stream",
     "text": [
      "        Probability\n",
      "Family             \n",
      "1          0.297514\n",
      "2          0.257859\n",
      "3          0.201356\n",
      "4          0.243271\n"
     ]
    }
   ],
   "source": [
    "#discrete probability of family\n",
    "family_prob = discreteProb('Family', data=data_BBN)\n",
    "print(family_prob)"
   ]
  },
  {
   "cell_type": "code",
   "execution_count": 31,
   "id": "9968e3b8",
   "metadata": {
    "execution": {
     "iopub.execute_input": "2021-11-29T07:08:38.452123Z",
     "iopub.status.busy": "2021-11-29T07:08:38.451114Z",
     "iopub.status.idle": "2021-11-29T07:08:38.453752Z",
     "shell.execute_reply": "2021-11-29T07:08:38.453229Z",
     "shell.execute_reply.started": "2021-11-29T07:04:08.215725Z"
    },
    "id": "zBTvAC9RGF9m",
    "papermill": {
     "duration": 0.138159,
     "end_time": "2021-11-29T07:08:38.453886",
     "exception": false,
     "start_time": "2021-11-29T07:08:38.315727",
     "status": "completed"
    },
    "tags": []
   },
   "outputs": [],
   "source": [
    "# Age node has no parents\n",
    "age = Node(DiscreteDistribution({\n",
    "    1\t: 0.000000,\n",
    "    2\t: 0.009246,\n",
    "    3\t: 0.106226,\n",
    "    4\t: 0.131087,\n",
    "    5\t: 0.118143,\n",
    "    6\t: 0.132936,\n",
    "    7\t: 0.124101,\n",
    "    8\t: 0.130881,\n",
    "    9\t: 0.135813,\n",
    "    10\t: 0.104582,\n",
    "    11\t: 0.006986\n",
    "}), name=\"Age\")"
   ]
  },
  {
   "cell_type": "code",
   "execution_count": 32,
   "id": "11dd41b6",
   "metadata": {
    "execution": {
     "iopub.execute_input": "2021-11-29T07:08:38.716938Z",
     "iopub.status.busy": "2021-11-29T07:08:38.716327Z",
     "iopub.status.idle": "2021-11-29T07:08:38.720860Z",
     "shell.execute_reply": "2021-11-29T07:08:38.720320Z",
     "shell.execute_reply.started": "2021-11-29T07:04:10.251763Z"
    },
    "id": "lMp_ong9H1th",
    "papermill": {
     "duration": 0.137548,
     "end_time": "2021-11-29T07:08:38.721037",
     "exception": false,
     "start_time": "2021-11-29T07:08:38.583489",
     "status": "completed"
    },
    "tags": []
   },
   "outputs": [],
   "source": [
    "# Family node has no parents\n",
    "family = Node(DiscreteDistribution({\n",
    "    1  :  0.297514,\n",
    "    2  :  0.257859,\n",
    "    3  :  0.201356,\n",
    "    4  :  0.243271\n",
    "}), name=\"Family\")"
   ]
  },
  {
   "cell_type": "code",
   "execution_count": 33,
   "id": "0ed87fb3",
   "metadata": {
    "execution": {
     "iopub.execute_input": "2021-11-29T07:08:39.003212Z",
     "iopub.status.busy": "2021-11-29T07:08:39.001926Z",
     "iopub.status.idle": "2021-11-29T07:08:40.296586Z",
     "shell.execute_reply": "2021-11-29T07:08:40.296010Z",
     "shell.execute_reply.started": "2021-11-29T07:04:12.555399Z"
    },
    "id": "12W0jz6SIcWZ",
    "papermill": {
     "duration": 1.428162,
     "end_time": "2021-11-29T07:08:40.296749",
     "exception": false,
     "start_time": "2021-11-29T07:08:38.868587",
     "status": "completed"
    },
    "tags": []
   },
   "outputs": [],
   "source": [
    "# Education node is conditional on Age\n",
    "education = Node(ConditionalProbabilityTable(condProbTable('Education', given= ['Age_bins'], data=data_BBN), [age.distribution]), name=\"Education\")\n",
    "\n",
    "# Experince node is conditional on Age\n",
    "experince = Node(ConditionalProbabilityTable(condProbTable('Exp_bins', given= ['Age_bins'], data=data_BBN), [age.distribution]), name=\"Experince\")\n",
    "\n",
    "# Online node is conditional on Education\n",
    "online = Node(ConditionalProbabilityTable(condProbTable('Online', given= ['Education'], data=data_BBN), [education.distribution]), name=\"Online\")\n",
    "\n",
    "# Income node is conditional on Education and Experince\n",
    "income = Node(ConditionalProbabilityTable(condProbTable('income_bins', given= ['Exp_bins', 'Education'], data=data_BBN), [experince.distribution, education.distribution]), name=\"Income\")\n",
    "\n",
    "# CCAvg node is conditional on Income, Online and Family\n",
    "ccavg = Node(ConditionalProbabilityTable(condProbTable('CCAvg_bins', given= ['income_bins', 'Online' , 'Family'], data=data_BBN), [income.distribution, online.distribution, family.distribution]), name=\"CCAvg\")\n",
    "\n",
    "# Personal Loan node is conditional on Income and CCAvg\n",
    "personal_loan = Node(ConditionalProbabilityTable(condProbTable('Personal Loan', given= ['CCAvg_bins', 'income_bins'], data=data_BBN), [ccavg.distribution, income.distribution]), name=\"Personal Loan\")\n"
   ]
  },
  {
   "cell_type": "code",
   "execution_count": 34,
   "id": "ad619fbc",
   "metadata": {
    "execution": {
     "iopub.execute_input": "2021-11-29T07:08:40.563488Z",
     "iopub.status.busy": "2021-11-29T07:08:40.562534Z",
     "iopub.status.idle": "2021-11-29T07:08:40.566589Z",
     "shell.execute_reply": "2021-11-29T07:08:40.567199Z",
     "shell.execute_reply.started": "2021-11-29T07:04:16.907776Z"
    },
    "id": "r-0ZBxllLnKK",
    "papermill": {
     "duration": 0.139338,
     "end_time": "2021-11-29T07:08:40.567360",
     "exception": false,
     "start_time": "2021-11-29T07:08:40.428022",
     "status": "completed"
    },
    "tags": []
   },
   "outputs": [],
   "source": [
    "# Create a Bayesian Network and add states\n",
    "BBNmodel = BayesianNetwork('Loan Prediction')\n",
    "BBNmodel.add_states(age, family, education, experince, online, income, ccavg, personal_loan)"
   ]
  },
  {
   "cell_type": "code",
   "execution_count": 35,
   "id": "67f5fcdc",
   "metadata": {
    "execution": {
     "iopub.execute_input": "2021-11-29T07:08:40.831214Z",
     "iopub.status.busy": "2021-11-29T07:08:40.830261Z",
     "iopub.status.idle": "2021-11-29T07:08:40.835894Z",
     "shell.execute_reply": "2021-11-29T07:08:40.836474Z",
     "shell.execute_reply.started": "2021-11-29T07:04:19.194786Z"
    },
    "id": "7l1TXnSuL_d7",
    "papermill": {
     "duration": 0.138966,
     "end_time": "2021-11-29T07:08:40.836634",
     "exception": false,
     "start_time": "2021-11-29T07:08:40.697668",
     "status": "completed"
    },
    "tags": []
   },
   "outputs": [],
   "source": [
    "# Add edges connecting nodes\n",
    "BBNmodel.add_edge(age, education)\n",
    "BBNmodel.add_edge(education, online)\n",
    "BBNmodel.add_edge(age, experince)\n",
    "BBNmodel.add_edge(experince, income)\n",
    "BBNmodel.add_edge(education, income)\n",
    "BBNmodel.add_edge(online, ccavg)\n",
    "BBNmodel.add_edge(income, ccavg)\n",
    "BBNmodel.add_edge(family, ccavg)\n",
    "BBNmodel.add_edge(ccavg, personal_loan)\n",
    "BBNmodel.add_edge(income, personal_loan)"
   ]
  },
  {
   "cell_type": "code",
   "execution_count": 36,
   "id": "c736aad5",
   "metadata": {
    "execution": {
     "iopub.execute_input": "2021-11-29T07:08:41.101835Z",
     "iopub.status.busy": "2021-11-29T07:08:41.100614Z",
     "iopub.status.idle": "2021-11-29T07:08:41.117774Z",
     "shell.execute_reply": "2021-11-29T07:08:41.118347Z",
     "shell.execute_reply.started": "2021-11-29T07:04:21.569766Z"
    },
    "id": "g_KTobWuNNyk",
    "papermill": {
     "duration": 0.150779,
     "end_time": "2021-11-29T07:08:41.118528",
     "exception": false,
     "start_time": "2021-11-29T07:08:40.967749",
     "status": "completed"
    },
    "tags": []
   },
   "outputs": [],
   "source": [
    "# Finalize model\n",
    "BBNmodel.bake()"
   ]
  },
  {
   "cell_type": "code",
   "execution_count": 37,
   "id": "4bb8782b",
   "metadata": {
    "execution": {
     "iopub.execute_input": "2021-11-29T07:08:41.383897Z",
     "iopub.status.busy": "2021-11-29T07:08:41.383233Z",
     "iopub.status.idle": "2021-11-29T07:08:42.386736Z",
     "shell.execute_reply": "2021-11-29T07:08:42.387530Z",
     "shell.execute_reply.started": "2021-11-29T07:04:23.408126Z"
    },
    "id": "21LQrhJLNQzU",
    "outputId": "798d4b5a-8751-46a4-d778-1f8944b7d74f",
    "papermill": {
     "duration": 1.139472,
     "end_time": "2021-11-29T07:08:42.387715",
     "exception": false,
     "start_time": "2021-11-29T07:08:41.248243",
     "status": "completed"
    },
    "tags": []
   },
   "outputs": [
    {
     "data": {
      "image/png": "[encoded data removed]",
      "text/plain": [
       "<Figure size 432x288 with 1 Axes>"
      ]
     },
     "metadata": {
      "needs_background": "light"
     },
     "output_type": "display_data"
    }
   ],
   "source": [
    "# Ploting model\n",
    "BBNmodel.plot()"
   ]
  },
  {
   "cell_type": "code",
   "execution_count": 38,
   "id": "6d038d5d",
   "metadata": {
    "execution": {
     "iopub.execute_input": "2021-11-29T07:08:42.654486Z",
     "iopub.status.busy": "2021-11-29T07:08:42.653869Z",
     "iopub.status.idle": "2021-11-29T07:08:42.658676Z",
     "shell.execute_reply": "2021-11-29T07:08:42.659256Z",
     "shell.execute_reply.started": "2021-11-29T07:04:28.376501Z"
    },
    "id": "bg2y8GquZX1Y",
    "papermill": {
     "duration": 0.140301,
     "end_time": "2021-11-29T07:08:42.659429",
     "exception": false,
     "start_time": "2021-11-29T07:08:42.519128",
     "status": "completed"
    },
    "tags": []
   },
   "outputs": [],
   "source": [
    "# Print predictions for each node\n",
    "def printPrediction(predictions):\n",
    "  for node, prediction in zip(BBNmodel.states, predictions):\n",
    "      if isinstance(prediction, str):\n",
    "          print(f\"{node.name}: {prediction}\")\n",
    "      else:\n",
    "          print(f\"{node.name}\")\n",
    "          for value, probability in prediction.parameters[0].items():\n",
    "              print(f\"    {value}: {probability:.4f}\")"
   ]
  },
  {
   "cell_type": "code",
   "execution_count": 39,
   "id": "50f84d45",
   "metadata": {
    "execution": {
     "iopub.execute_input": "2021-11-29T07:08:42.927856Z",
     "iopub.status.busy": "2021-11-29T07:08:42.927184Z",
     "iopub.status.idle": "2021-11-29T07:08:42.988525Z",
     "shell.execute_reply": "2021-11-29T07:08:42.987888Z",
     "shell.execute_reply.started": "2021-11-29T07:04:31.713045Z"
    },
    "id": "SLiiJTv0NgJQ",
    "outputId": "b1c07da6-3a7c-4a60-c298-5c25a642af94",
    "papermill": {
     "duration": 0.196665,
     "end_time": "2021-11-29T07:08:42.988661",
     "exception": false,
     "start_time": "2021-11-29T07:08:42.791996",
     "status": "completed"
    },
    "tags": []
   },
   "outputs": [
    {
     "name": "stdout",
     "output_type": "stream",
     "text": [
      "Age\n",
      "    1: 0.0000\n",
      "    2: 0.0092\n",
      "    3: 0.1062\n",
      "    4: 0.1311\n",
      "    5: 0.1181\n",
      "    6: 0.1329\n",
      "    7: 0.1241\n",
      "    8: 0.1309\n",
      "    9: 0.1358\n",
      "    10: 0.1046\n",
      "    11: 0.0070\n",
      "Family: 4\n",
      "Education: 2\n",
      "Experince\n",
      "    1: 0.1237\n",
      "    2: 0.1253\n",
      "    3: 0.1177\n",
      "    4: 0.1360\n",
      "    5: 0.1323\n",
      "    6: 0.1296\n",
      "    7: 0.1303\n",
      "    8: 0.0943\n",
      "    9: 0.0107\n",
      "Online: 1\n",
      "Income\n",
      "    1: 0.0313\n",
      "    2: 0.0625\n",
      "    3: 0.0625\n",
      "    4: 0.0938\n",
      "    5: 0.1094\n",
      "    6: 0.1250\n",
      "    7: 0.1406\n",
      "    8: 0.1406\n",
      "    9: 0.1562\n",
      "    10: 0.0781\n",
      "CCAvg\n",
      "    1: 0.1406\n",
      "    2: 0.1406\n",
      "    3: 0.1406\n",
      "    4: 0.1250\n",
      "    5: 0.1094\n",
      "    6: 0.0938\n",
      "    7: 0.0938\n",
      "    8: 0.0625\n",
      "    9: 0.0625\n",
      "    10: 0.0313\n",
      "Personal Loan\n",
      "    0: 0.6882\n",
      "    1: 0.3118\n"
     ]
    }
   ],
   "source": [
    "# Calculate probability that a customer with 4 people in their family, who uses online internet banking facilities, and has a graduate degree took a personal loan\n",
    "predictions = BBNmodel.predict_proba({\n",
    "    \"Online\" : \"1\",\n",
    "    \"Education\": \"2\",\n",
    "    \"Family\" : \"4\"\n",
    "})\n",
    "\n",
    "# Print predictions\n",
    "printPrediction(predictions)"
   ]
  },
  {
   "cell_type": "markdown",
   "id": "f9243c62",
   "metadata": {
    "id": "SykQNzGNYd7K",
    "papermill": {
     "duration": 0.132438,
     "end_time": "2021-11-29T07:08:43.255626",
     "exception": false,
     "start_time": "2021-11-29T07:08:43.123188",
     "status": "completed"
    },
    "tags": []
   },
   "source": [
    "**Probability for the data with the following properties:**\n",
    "\n",
    "Age\t= 41-45  \n",
    "Family = 2\t\n",
    "Education = 3\t\n",
    "Experience = 16-25\t\n",
    "Personal Loan = 1\n",
    "\n"
   ]
  },
  {
   "cell_type": "code",
   "execution_count": 40,
   "id": "429a1092",
   "metadata": {
    "execution": {
     "iopub.execute_input": "2021-11-29T07:08:43.524327Z",
     "iopub.status.busy": "2021-11-29T07:08:43.523614Z",
     "iopub.status.idle": "2021-11-29T07:08:43.526239Z",
     "shell.execute_reply": "2021-11-29T07:08:43.526757Z",
     "shell.execute_reply.started": "2021-11-29T07:04:46.016967Z"
    },
    "id": "DdYPaY_hNjBY",
    "outputId": "6020717a-dd64-4bc2-8a73-88dfab4728b0",
    "papermill": {
     "duration": 0.139477,
     "end_time": "2021-11-29T07:08:43.526927",
     "exception": false,
     "start_time": "2021-11-29T07:08:43.387450",
     "status": "completed"
    },
    "tags": []
   },
   "outputs": [
    {
     "name": "stdout",
     "output_type": "stream",
     "text": [
      "0.000733260911276661\n"
     ]
    }
   ],
   "source": [
    "# Calculate probability for a given observation (age, family, education, experince, online, income, ccavg, personal_loan)\n",
    "probability = BBNmodel.probability([[5, 2, 3, 4, None, None, None, 1]])\n",
    "\n",
    "# Print predictions\n",
    "print(probability)"
   ]
  },
  {
   "cell_type": "code",
   "execution_count": 41,
   "id": "bea20995",
   "metadata": {
    "execution": {
     "iopub.execute_input": "2021-11-29T07:08:43.830977Z",
     "iopub.status.busy": "2021-11-29T07:08:43.828766Z",
     "iopub.status.idle": "2021-11-29T07:08:43.837602Z",
     "shell.execute_reply": "2021-11-29T07:08:43.837087Z",
     "shell.execute_reply.started": "2021-11-29T07:04:50.180252Z"
    },
    "id": "cEg0ZIZTU1ds",
    "outputId": "f065efc4-881f-46b2-8b33-9d7b969b32bd",
    "papermill": {
     "duration": 0.178132,
     "end_time": "2021-11-29T07:08:43.837844",
     "exception": false,
     "start_time": "2021-11-29T07:08:43.659712",
     "status": "completed"
    },
    "tags": []
   },
   "outputs": [
    {
     "name": "stdout",
     "output_type": "stream",
     "text": [
      "Age\n",
      "    1: 0.0000\n",
      "    2: 0.0092\n",
      "    3: 0.1062\n",
      "    4: 0.1311\n",
      "    5: 0.1181\n",
      "    6: 0.1329\n",
      "    7: 0.1241\n",
      "    8: 0.1309\n",
      "    9: 0.1358\n",
      "    10: 0.1046\n",
      "    11: 0.0070\n",
      "Family: 2\n",
      "Education: 3\n",
      "Experince: 4\n",
      "Online\n",
      "    0: 0.5000\n",
      "    1: 0.5000\n",
      "Income\n",
      "    1: 0.1000\n",
      "    2: 0.1000\n",
      "    3: 0.1000\n",
      "    4: 0.1000\n",
      "    5: 0.1000\n",
      "    6: 0.1000\n",
      "    7: 0.1000\n",
      "    8: 0.1000\n",
      "    9: 0.1000\n",
      "    10: 0.1000\n",
      "CCAvg\n",
      "    1: 0.1000\n",
      "    2: 0.1000\n",
      "    3: 0.1000\n",
      "    4: 0.1000\n",
      "    5: 0.1000\n",
      "    6: 0.1000\n",
      "    7: 0.1000\n",
      "    8: 0.1000\n",
      "    9: 0.1000\n",
      "    10: 0.1000\n",
      "Personal Loan: 1\n"
     ]
    }
   ],
   "source": [
    "# Calculate probability that a customer with 4 people in their family, who uses online internet banking facilities, and has a graduate degree took a personal loan\n",
    "predictions = BBNmodel.predict_proba({\n",
    "    \"age\" : \"5\",\n",
    "    \"Education\": \"3\",\n",
    "    \"Family\" : \"2\",\n",
    "    \"Experince\" : \"4\",\n",
    "    \"Personal Loan\" : \"1\"\n",
    "})\n",
    "\n",
    "printPrediction(predictions)"
   ]
  },
  {
   "cell_type": "markdown",
   "id": "6b32c10c",
   "metadata": {
    "id": "RL1oP0uwomjf",
    "papermill": {
     "duration": 0.133175,
     "end_time": "2021-11-29T07:08:44.104539",
     "exception": false,
     "start_time": "2021-11-29T07:08:43.971364",
     "status": "completed"
    },
    "tags": []
   },
   "source": [
    "# Decision Tree Classification Model"
   ]
  },
  {
   "cell_type": "code",
   "execution_count": 42,
   "id": "90eb95ae",
   "metadata": {
    "execution": {
     "iopub.execute_input": "2021-11-29T07:08:44.389438Z",
     "iopub.status.busy": "2021-11-29T07:08:44.388746Z",
     "iopub.status.idle": "2021-11-29T07:08:44.391639Z",
     "shell.execute_reply": "2021-11-29T07:08:44.392348Z",
     "shell.execute_reply.started": "2021-11-29T07:04:53.111547Z"
    },
    "id": "nnUE_9D8SmPZ",
    "outputId": "602405ee-74ae-439d-c332-5325013c0aaf",
    "papermill": {
     "duration": 0.155667,
     "end_time": "2021-11-29T07:08:44.392583",
     "exception": false,
     "start_time": "2021-11-29T07:08:44.236916",
     "status": "completed"
    },
    "tags": []
   },
   "outputs": [
    {
     "data": {
      "text/html": [
       "<div>\n",
       "<style scoped>\n",
       "    .dataframe tbody tr th:only-of-type {\n",
       "        vertical-align: middle;\n",
       "    }\n",
       "\n",
       "    .dataframe tbody tr th {\n",
       "        vertical-align: top;\n",
       "    }\n",
       "\n",
       "    .dataframe thead th {\n",
       "        text-align: right;\n",
       "    }\n",
       "</style>\n",
       "<table border=\"1\" class=\"dataframe\">\n",
       "  <thead>\n",
       "    <tr style=\"text-align: right;\">\n",
       "      <th></th>\n",
       "      <th>Age</th>\n",
       "      <th>Experience</th>\n",
       "      <th>Income</th>\n",
       "      <th>Family</th>\n",
       "      <th>CCAvg</th>\n",
       "      <th>Education</th>\n",
       "      <th>Online</th>\n",
       "    </tr>\n",
       "  </thead>\n",
       "  <tbody>\n",
       "    <tr>\n",
       "      <th>0</th>\n",
       "      <td>25</td>\n",
       "      <td>1</td>\n",
       "      <td>49</td>\n",
       "      <td>4</td>\n",
       "      <td>1.6</td>\n",
       "      <td>1</td>\n",
       "      <td>0</td>\n",
       "    </tr>\n",
       "    <tr>\n",
       "      <th>1</th>\n",
       "      <td>45</td>\n",
       "      <td>19</td>\n",
       "      <td>34</td>\n",
       "      <td>3</td>\n",
       "      <td>1.5</td>\n",
       "      <td>1</td>\n",
       "      <td>0</td>\n",
       "    </tr>\n",
       "    <tr>\n",
       "      <th>2</th>\n",
       "      <td>39</td>\n",
       "      <td>15</td>\n",
       "      <td>11</td>\n",
       "      <td>1</td>\n",
       "      <td>1.0</td>\n",
       "      <td>1</td>\n",
       "      <td>0</td>\n",
       "    </tr>\n",
       "    <tr>\n",
       "      <th>3</th>\n",
       "      <td>35</td>\n",
       "      <td>9</td>\n",
       "      <td>100</td>\n",
       "      <td>1</td>\n",
       "      <td>2.7</td>\n",
       "      <td>2</td>\n",
       "      <td>0</td>\n",
       "    </tr>\n",
       "    <tr>\n",
       "      <th>4</th>\n",
       "      <td>35</td>\n",
       "      <td>8</td>\n",
       "      <td>45</td>\n",
       "      <td>4</td>\n",
       "      <td>1.0</td>\n",
       "      <td>2</td>\n",
       "      <td>0</td>\n",
       "    </tr>\n",
       "  </tbody>\n",
       "</table>\n",
       "</div>"
      ],
      "text/plain": [
       "   Age  Experience  Income  Family  CCAvg  Education  Online\n",
       "0   25           1      49       4    1.6          1       0\n",
       "1   45          19      34       3    1.5          1       0\n",
       "2   39          15      11       1    1.0          1       0\n",
       "3   35           9     100       1    2.7          2       0\n",
       "4   35           8      45       4    1.0          2       0"
      ]
     },
     "execution_count": 42,
     "metadata": {},
     "output_type": "execute_result"
    }
   ],
   "source": [
    "# defining the features and target\n",
    "X = df.drop(['Personal Loan'],axis=1)\n",
    "y = df[['Personal Loan']]\n",
    "X.head(5)"
   ]
  },
  {
   "cell_type": "code",
   "execution_count": 43,
   "id": "a0f56bfc",
   "metadata": {
    "execution": {
     "iopub.execute_input": "2021-11-29T07:08:44.700973Z",
     "iopub.status.busy": "2021-11-29T07:08:44.700345Z",
     "iopub.status.idle": "2021-11-29T07:08:44.711877Z",
     "shell.execute_reply": "2021-11-29T07:08:44.713025Z",
     "shell.execute_reply.started": "2021-11-29T07:04:55.566811Z"
    },
    "id": "MtUd8TbrSx2V",
    "outputId": "de59778b-e3dd-4c79-dd35-1c26d323753b",
    "papermill": {
     "duration": 0.167921,
     "end_time": "2021-11-29T07:08:44.713283",
     "exception": false,
     "start_time": "2021-11-29T07:08:44.545362",
     "status": "completed"
    },
    "tags": []
   },
   "outputs": [
    {
     "name": "stdout",
     "output_type": "stream",
     "text": [
      "The shape of X_train is       (3893, 7)\n",
      "The shape of X_test is        (974, 7)\n",
      "The shape of y_train is       (3893, 1)\n",
      "The shape of y_test is        (974, 1)\n"
     ]
    }
   ],
   "source": [
    "#Train and test split\n",
    "X_train, X_test, y_train, y_test = train_test_split(X,y, test_size = 0.2, random_state = 42)\n",
    "print(\"The shape of X_train is      \", X_train.shape)\n",
    "print(\"The shape of X_test is       \",X_test.shape)\n",
    "print(\"The shape of y_train is      \",y_train.shape)\n",
    "print(\"The shape of y_test is       \",y_test.shape)"
   ]
  },
  {
   "cell_type": "code",
   "execution_count": 44,
   "id": "3c9d6b0e",
   "metadata": {
    "execution": {
     "iopub.execute_input": "2021-11-29T07:08:44.991012Z",
     "iopub.status.busy": "2021-11-29T07:08:44.987981Z",
     "iopub.status.idle": "2021-11-29T07:08:45.002750Z",
     "shell.execute_reply": "2021-11-29T07:08:45.003340Z",
     "shell.execute_reply.started": "2021-11-29T07:04:57.677266Z"
    },
    "id": "xdLddIG8TJ7u",
    "outputId": "a58be971-66bc-42ec-d181-6a3b4d28102c",
    "papermill": {
     "duration": 0.156254,
     "end_time": "2021-11-29T07:08:45.003507",
     "exception": false,
     "start_time": "2021-11-29T07:08:44.847253",
     "status": "completed"
    },
    "tags": []
   },
   "outputs": [
    {
     "data": {
      "text/plain": [
       "<sklearn.tree._tree.Tree at 0x7fca6abe8570>"
      ]
     },
     "execution_count": 44,
     "metadata": {},
     "output_type": "execute_result"
    }
   ],
   "source": [
    "#Create Decision Tree Classification Model\n",
    "dt_model = DecisionTreeClassifier(criterion = \"entropy\", random_state = 42)\n",
    "dt_model.fit(X_train, y_train) \n",
    "  \n",
    "#Predict the value for new, unseen data\n",
    "predict_dt = dt_model.predict(X_test)\n",
    "\n",
    "dt_model.tree_"
   ]
  },
  {
   "cell_type": "code",
   "execution_count": 45,
   "id": "cdd7ac34",
   "metadata": {
    "execution": {
     "iopub.execute_input": "2021-11-29T07:08:45.278490Z",
     "iopub.status.busy": "2021-11-29T07:08:45.277846Z",
     "iopub.status.idle": "2021-11-29T07:08:45.286199Z",
     "shell.execute_reply": "2021-11-29T07:08:45.287058Z",
     "shell.execute_reply.started": "2021-11-29T07:05:00.404012Z"
    },
    "id": "O1j39T-0TQBQ",
    "outputId": "57df653a-9b1d-4a67-f976-177740c3e38c",
    "papermill": {
     "duration": 0.147523,
     "end_time": "2021-11-29T07:08:45.287291",
     "exception": false,
     "start_time": "2021-11-29T07:08:45.139768",
     "status": "completed"
    },
    "tags": []
   },
   "outputs": [
    {
     "name": "stdout",
     "output_type": "stream",
     "text": [
      "              precision    recall  f1-score   support\n",
      "\n",
      "           0       0.99      0.99      0.99       881\n",
      "           1       0.93      0.88      0.91        93\n",
      "\n",
      "    accuracy                           0.98       974\n",
      "   macro avg       0.96      0.94      0.95       974\n",
      "weighted avg       0.98      0.98      0.98       974\n",
      "\n"
     ]
    }
   ],
   "source": [
    "#Getting the complete Classification Report for Decision Tree Classification Model\n",
    "print(classification_report(y_test, predict_dt))"
   ]
  },
  {
   "cell_type": "code",
   "execution_count": 46,
   "id": "e43f019f",
   "metadata": {
    "execution": {
     "iopub.execute_input": "2021-11-29T07:08:45.594093Z",
     "iopub.status.busy": "2021-11-29T07:08:45.587963Z",
     "iopub.status.idle": "2021-11-29T07:08:45.596677Z",
     "shell.execute_reply": "2021-11-29T07:08:45.596146Z",
     "shell.execute_reply.started": "2021-11-29T07:05:02.748507Z"
    },
    "id": "Ejfwh5GQWeGG",
    "papermill": {
     "duration": 0.150652,
     "end_time": "2021-11-29T07:08:45.596831",
     "exception": false,
     "start_time": "2021-11-29T07:08:45.446179",
     "status": "completed"
    },
    "tags": []
   },
   "outputs": [],
   "source": [
    "def get_readable_rules(tree, feature_names, class_names):\n",
    "    tree_ = tree.tree_\n",
    "    feature_name = [\n",
    "        feature_names[i] if i != _tree.TREE_UNDEFINED else \"undefined!\"\n",
    "        for i in tree_.feature\n",
    "    ]\n",
    "\n",
    "    paths = []\n",
    "    path = []\n",
    "    \n",
    "    def recurse(node, path, paths):\n",
    "        \n",
    "        if tree_.feature[node] != _tree.TREE_UNDEFINED:\n",
    "            name = feature_name[node]\n",
    "            threshold = tree_.threshold[node]\n",
    "            p1, p2 = list(path), list(path)\n",
    "            p1 += [f\"({name} <= {np.round(threshold, 3)})\"]\n",
    "            recurse(tree_.children_left[node], p1, paths)\n",
    "            p2 += [f\"({name} > {np.round(threshold, 3)})\"]\n",
    "            recurse(tree_.children_right[node], p2, paths)\n",
    "        else:\n",
    "            path += [(tree_.value[node], tree_.n_node_samples[node])]\n",
    "            paths += [path]\n",
    "            \n",
    "    recurse(0, path, paths)\n",
    "\n",
    "    # sort by samples count\n",
    "    samples_count = [p[-1][1] for p in paths]\n",
    "    ii = list(np.argsort(samples_count))\n",
    "    paths = [paths[i] for i in reversed(ii)]\n",
    "    \n",
    "    rules = []\n",
    "    for path in paths:\n",
    "        rule = \"if \"\n",
    "        \n",
    "        for p in path[:-1]:\n",
    "            if rule != \"if \":\n",
    "                rule += \" and \"\n",
    "            rule += str(p)\n",
    "        rule += \" then \"\n",
    "        if class_names is None:\n",
    "            rule += \"response: \"+str(np.round(path[-1][0][0][0],3))\n",
    "        else:\n",
    "            classes = path[-1][0][0]\n",
    "            l = np.argmax(classes)\n",
    "            rule += f\"class: {class_names[l]} (proba: {np.round(100.0*classes[l]/np.sum(classes),2)}%)\"\n",
    "        rule += f\" | based on {path[-1][1]:,} samples\"\n",
    "        rules += [rule]\n",
    "        \n",
    "    return rules"
   ]
  },
  {
   "cell_type": "code",
   "execution_count": 47,
   "id": "a3582331",
   "metadata": {
    "execution": {
     "iopub.execute_input": "2021-11-29T07:08:45.868119Z",
     "iopub.status.busy": "2021-11-29T07:08:45.867444Z",
     "iopub.status.idle": "2021-11-29T07:08:45.887323Z",
     "shell.execute_reply": "2021-11-29T07:08:45.886344Z",
     "shell.execute_reply.started": "2021-11-29T07:05:05.677943Z"
    },
    "id": "CzLlNI38enk3",
    "outputId": "dad91332-d189-421d-aa29-ce752899a13f",
    "papermill": {
     "duration": 0.156539,
     "end_time": "2021-11-29T07:08:45.887522",
     "exception": false,
     "start_time": "2021-11-29T07:08:45.730983",
     "status": "completed"
    },
    "tags": []
   },
   "outputs": [
    {
     "name": "stdout",
     "output_type": "stream",
     "text": [
      "if (Income <= 98.5) and (CCAvg <= 2.95) then class: 0 (proba: 100.0%) | based on 2,751 samples\n",
      "if (Income > 98.5) and (Education <= 1.5) and (Family <= 2.5) and (Income > 104.5) then class: 0 (proba: 100.0%) | based on 486 samples\n",
      "if (Income > 98.5) and (Education > 1.5) and (Income > 116.5) then class: 1 (proba: 100.0%) | based on 250 samples\n",
      "if (Income > 98.5) and (Education <= 1.5) and (Family > 2.5) and (Income > 113.5) then class: 1 (proba: 100.0%) | based on 60 samples\n",
      "if (Income > 98.5) and (Education > 1.5) and (Income <= 116.5) and (CCAvg <= 2.725) and (Income <= 106.5) then class: 0 (proba: 100.0%) | based on 38 samples\n",
      "if (Income <= 98.5) and (CCAvg > 2.95) and (Income <= 82.5) and (Age > 30.5) and (Experience > 8.5) and (Income <= 74.5) then class: 0 (proba: 100.0%) | based on 37 samples\n",
      "if (Income > 98.5) and (Education <= 1.5) and (Family <= 2.5) and (Income <= 104.5) and (CCAvg <= 3.317) then class: 0 (proba: 100.0%) | based on 20 samples\n",
      "if (Income <= 98.5) and (CCAvg > 2.95) and (Income <= 82.5) and (Age > 30.5) and (Experience > 8.5) and (Income > 74.5) and (CCAvg > 3.75) then class: 0 (proba: 100.0%) | based on 20 samples\n",
      "if (Income <= 98.5) and (CCAvg > 2.95) and (Income > 82.5) and (CCAvg > 4.35) then class: 0 (proba: 100.0%) | based on 16 samples\n",
      "if (Income > 98.5) and (Education > 1.5) and (Income <= 116.5) and (CCAvg > 2.725) and (Experience <= 35.5) and (Family > 2.5) then class: 1 (proba: 100.0%) | based on 15 samples\n",
      "if (Income > 98.5) and (Education <= 1.5) and (Family > 2.5) and (Income <= 113.5) and (Family <= 3.5) and (CCAvg <= 3.25) then class: 0 (proba: 100.0%) | based on 12 samples\n",
      "if (Income > 98.5) and (Education > 1.5) and (Income <= 116.5) and (CCAvg <= 2.725) and (Income > 106.5) and (Age <= 55.5) and (Experience <= 8.0) and (CCAvg <= 2.4) then class: 0 (proba: 100.0%) | based on 12 samples\n",
      "if (Income > 98.5) and (Education > 1.5) and (Income <= 116.5) and (CCAvg <= 2.725) and (Income > 106.5) and (Age > 55.5) then class: 0 (proba: 100.0%) | based on 11 samples\n",
      "if (Income <= 98.5) and (CCAvg > 2.95) and (Income <= 82.5) and (Age > 30.5) and (Experience > 8.5) and (Income > 74.5) and (CCAvg <= 3.75) and (Age <= 43.5) then class: 0 (proba: 100.0%) | based on 10 samples\n",
      "if (Income <= 98.5) and (CCAvg > 2.95) and (Income <= 82.5) and (Age > 30.5) and (Experience > 8.5) and (Income > 74.5) and (CCAvg <= 3.75) and (Age > 43.5) and (Experience > 20.5) and (Income <= 81.5) then class: 0 (proba: 100.0%) | based on 9 samples\n",
      "if (Income <= 98.5) and (CCAvg > 2.95) and (Income > 82.5) and (CCAvg <= 4.35) and (Age <= 64.5) and (CCAvg <= 3.95) and (CCAvg <= 3.85) and (CCAvg > 3.65) and (Family <= 2.5) and (Income > 83.5) then class: 0 (proba: 100.0%) | based on 8 samples\n",
      "if (Income > 98.5) and (Education > 1.5) and (Income <= 116.5) and (CCAvg > 2.725) and (Experience <= 35.5) and (Family <= 2.5) and (Experience > 18.0) and (CCAvg > 4.0) then class: 1 (proba: 100.0%) | based on 7 samples\n",
      "if (Income <= 98.5) and (CCAvg > 2.95) and (Income <= 82.5) and (Age > 30.5) and (Experience <= 8.5) and (Education > 2.5) then class: 0 (proba: 100.0%) | based on 7 samples\n",
      "if (Income > 98.5) and (Education > 1.5) and (Income <= 116.5) and (CCAvg <= 2.725) and (Income > 106.5) and (Age <= 55.5) and (Experience > 8.0) and (Age > 36.5) and (Age <= 41.5) then class: 0 (proba: 100.0%) | based on 7 samples\n",
      "if (Income <= 98.5) and (CCAvg > 2.95) and (Income > 82.5) and (CCAvg <= 4.35) and (Age <= 64.5) and (CCAvg <= 3.95) and (CCAvg <= 3.85) and (CCAvg <= 3.65) and (CCAvg > 3.35) and (Family <= 3.5) then class: 1 (proba: 100.0%) | based on 6 samples\n",
      "if (Income <= 98.5) and (CCAvg > 2.95) and (Income > 82.5) and (CCAvg <= 4.35) and (Age <= 64.5) and (CCAvg > 3.95) and (Age > 33.0) and (CCAvg <= 4.15) then class: 0 (proba: 100.0%) | based on 6 samples\n",
      "if (Income <= 98.5) and (CCAvg > 2.95) and (Income > 82.5) and (CCAvg <= 4.35) and (Age <= 64.5) and (CCAvg <= 3.95) and (CCAvg <= 3.85) and (CCAvg <= 3.65) and (CCAvg <= 3.35) and (Family <= 3.5) and (Age <= 60.0) and (CCAvg <= 3.05) then class: 0 (proba: 100.0%) | based on 6 samples\n",
      "if (Income <= 98.5) and (CCAvg > 2.95) and (Income > 82.5) and (CCAvg <= 4.35) and (Age <= 64.5) and (CCAvg <= 3.95) and (CCAvg <= 3.85) and (CCAvg <= 3.65) and (CCAvg <= 3.35) and (Family <= 3.5) and (Age <= 60.0) and (CCAvg > 3.05) and (Education <= 1.5) and (Experience <= 23.0) then class: 0 (proba: 100.0%) | based on 5 samples\n",
      "if (Income > 98.5) and (Education > 1.5) and (Income <= 116.5) and (CCAvg > 2.725) and (Experience <= 35.5) and (Family <= 2.5) and (Experience <= 18.0) and (Experience > 7.5) then class: 0 (proba: 100.0%) | based on 5 samples\n",
      "if (Income > 98.5) and (Education <= 1.5) and (Family > 2.5) and (Income <= 113.5) and (Family <= 3.5) and (CCAvg > 3.25) and (Experience > 20.5) then class: 0 (proba: 100.0%) | based on 5 samples\n",
      "if (Income > 98.5) and (Education > 1.5) and (Income <= 116.5) and (CCAvg > 2.725) and (Experience > 35.5) and (CCAvg <= 3.65) then class: 0 (proba: 100.0%) | based on 5 samples\n",
      "if (Income > 98.5) and (Education <= 1.5) and (Family <= 2.5) and (Income <= 104.5) and (CCAvg > 3.317) and (CCAvg > 4.5) then class: 0 (proba: 100.0%) | based on 5 samples\n",
      "if (Income <= 98.5) and (CCAvg > 2.95) and (Income > 82.5) and (CCAvg <= 4.35) and (Age <= 64.5) and (CCAvg <= 3.95) and (CCAvg <= 3.85) and (CCAvg <= 3.65) and (CCAvg > 3.35) and (Family > 3.5) and (CCAvg <= 3.5) then class: 0 (proba: 100.0%) | based on 4 samples\n",
      "if (Income > 98.5) and (Education > 1.5) and (Income <= 116.5) and (CCAvg <= 2.725) and (Income > 106.5) and (Age <= 55.5) and (Experience > 8.0) and (Age > 36.5) and (Age > 41.5) and (Income <= 114.5) and (Online <= 0.5) then class: 0 (proba: 100.0%) | based on 4 samples\n",
      "if (Income > 98.5) and (Education <= 1.5) and (Family > 2.5) and (Income <= 113.5) and (Family > 3.5) then class: 1 (proba: 100.0%) | based on 4 samples\n",
      "if (Income <= 98.5) and (CCAvg > 2.95) and (Income > 82.5) and (CCAvg <= 4.35) and (Age <= 64.5) and (CCAvg <= 3.95) and (CCAvg > 3.85) then class: 1 (proba: 100.0%) | based on 3 samples\n",
      "if (Income <= 98.5) and (CCAvg > 2.95) and (Income <= 82.5) and (Age <= 30.5) then class: 1 (proba: 100.0%) | based on 3 samples\n",
      "if (Income <= 98.5) and (CCAvg > 2.95) and (Income > 82.5) and (CCAvg <= 4.35) and (Age > 64.5) then class: 1 (proba: 100.0%) | based on 3 samples\n",
      "if (Income <= 98.5) and (CCAvg > 2.95) and (Income > 82.5) and (CCAvg <= 4.35) and (Age <= 64.5) and (CCAvg > 3.95) and (Age > 33.0) and (CCAvg > 4.15) and (Education <= 1.5) then class: 0 (proba: 100.0%) | based on 3 samples\n",
      "if (Income > 98.5) and (Education > 1.5) and (Income <= 116.5) and (CCAvg <= 2.725) and (Income > 106.5) and (Age <= 55.5) and (Experience > 8.0) and (Age > 36.5) and (Age > 41.5) and (Income <= 114.5) and (Online > 0.5) and (Income <= 113.5) and (Income <= 111.5) and (CCAvg <= 2.15) then class: 1 (proba: 100.0%) | based on 3 samples\n",
      "if (Income > 98.5) and (Education > 1.5) and (Income <= 116.5) and (CCAvg <= 2.725) and (Income > 106.5) and (Age <= 55.5) and (Experience > 8.0) and (Age <= 36.5) then class: 1 (proba: 100.0%) | based on 3 samples\n",
      "if (Income > 98.5) and (Education <= 1.5) and (Family <= 2.5) and (Income <= 104.5) and (CCAvg > 3.317) and (CCAvg <= 4.5) and (Experience > 17.0) then class: 1 (proba: 100.0%) | based on 3 samples\n",
      "if (Income > 98.5) and (Education <= 1.5) and (Family <= 2.5) and (Income <= 104.5) and (CCAvg > 3.317) and (CCAvg <= 4.5) and (Experience <= 17.0) and (Family <= 1.5) then class: 0 (proba: 100.0%) | based on 2 samples\n",
      "if (Income <= 98.5) and (CCAvg > 2.95) and (Income > 82.5) and (CCAvg <= 4.35) and (Age <= 64.5) and (CCAvg <= 3.95) and (CCAvg <= 3.85) and (CCAvg <= 3.65) and (CCAvg <= 3.35) and (Family > 3.5) then class: 1 (proba: 100.0%) | based on 2 samples\n",
      "if (Income > 98.5) and (Education > 1.5) and (Income <= 116.5) and (CCAvg <= 2.725) and (Income > 106.5) and (Age <= 55.5) and (Experience <= 8.0) and (CCAvg > 2.4) and (Family <= 2.5) then class: 0 (proba: 100.0%) | based on 2 samples\n",
      "if (Income <= 98.5) and (CCAvg > 2.95) and (Income > 82.5) and (CCAvg <= 4.35) and (Age <= 64.5) and (CCAvg <= 3.95) and (CCAvg <= 3.85) and (CCAvg <= 3.65) and (CCAvg > 3.35) and (Family > 3.5) and (CCAvg > 3.5) and (Age <= 46.5) then class: 1 (proba: 100.0%) | based on 2 samples\n",
      "if (Income <= 98.5) and (CCAvg > 2.95) and (Income <= 82.5) and (Age > 30.5) and (Experience > 8.5) and (Income > 74.5) and (CCAvg <= 3.75) and (Age > 43.5) and (Experience > 20.5) and (Income > 81.5) and (CCAvg <= 3.55) then class: 0 (proba: 100.0%) | based on 2 samples\n",
      "if (Income > 98.5) and (Education > 1.5) and (Income <= 116.5) and (CCAvg > 2.725) and (Experience <= 35.5) and (Family <= 2.5) and (Experience <= 18.0) and (Experience <= 7.5) and (Family <= 1.5) then class: 0 (proba: 100.0%) | based on 2 samples\n",
      "if (Income > 98.5) and (Education > 1.5) and (Income <= 116.5) and (CCAvg > 2.725) and (Experience <= 35.5) and (Family <= 2.5) and (Experience <= 18.0) and (Experience <= 7.5) and (Family > 1.5) then class: 1 (proba: 100.0%) | based on 2 samples\n",
      "if (Income > 98.5) and (Education > 1.5) and (Income <= 116.5) and (CCAvg <= 2.725) and (Income > 106.5) and (Age <= 55.5) and (Experience > 8.0) and (Age > 36.5) and (Age > 41.5) and (Income <= 114.5) and (Online > 0.5) and (Income <= 113.5) and (Income > 111.5) then class: 0 (proba: 100.0%) | based on 2 samples\n",
      "if (Income > 98.5) and (Education > 1.5) and (Income <= 116.5) and (CCAvg > 2.725) and (Experience <= 35.5) and (Family <= 2.5) and (Experience > 18.0) and (CCAvg <= 4.0) and (Age > 51.5) then class: 1 (proba: 100.0%) | based on 2 samples\n",
      "if (Income > 98.5) and (Education > 1.5) and (Income <= 116.5) and (CCAvg <= 2.725) and (Income > 106.5) and (Age <= 55.5) and (Experience > 8.0) and (Age > 36.5) and (Age > 41.5) and (Income <= 114.5) and (Online > 0.5) and (Income > 113.5) then class: 1 (proba: 100.0%) | based on 2 samples\n",
      "if (Income <= 98.5) and (CCAvg > 2.95) and (Income <= 82.5) and (Age > 30.5) and (Experience <= 8.5) and (Education <= 2.5) then class: 1 (proba: 100.0%) | based on 2 samples\n",
      "if (Income > 98.5) and (Education > 1.5) and (Income <= 116.5) and (CCAvg <= 2.725) and (Income > 106.5) and (Age <= 55.5) and (Experience > 8.0) and (Age > 36.5) and (Age > 41.5) and (Income > 114.5) then class: 1 (proba: 100.0%) | based on 2 samples\n",
      "if (Income > 98.5) and (Education > 1.5) and (Income <= 116.5) and (CCAvg <= 2.725) and (Income > 106.5) and (Age <= 55.5) and (Experience > 8.0) and (Age > 36.5) and (Age > 41.5) and (Income <= 114.5) and (Online > 0.5) and (Income <= 113.5) and (Income <= 111.5) and (CCAvg > 2.15) then class: 0 (proba: 100.0%) | based on 1 samples\n",
      "if (Income <= 98.5) and (CCAvg > 2.95) and (Income <= 82.5) and (Age > 30.5) and (Experience > 8.5) and (Income > 74.5) and (CCAvg <= 3.75) and (Age > 43.5) and (Experience > 20.5) and (Income > 81.5) and (CCAvg > 3.55) then class: 1 (proba: 100.0%) | based on 1 samples\n",
      "if (Income > 98.5) and (Education > 1.5) and (Income <= 116.5) and (CCAvg > 2.725) and (Experience <= 35.5) and (Family <= 2.5) and (Experience > 18.0) and (CCAvg <= 4.0) and (Age <= 51.5) then class: 0 (proba: 100.0%) | based on 1 samples\n",
      "if (Income <= 98.5) and (CCAvg > 2.95) and (Income <= 82.5) and (Age > 30.5) and (Experience > 8.5) and (Income > 74.5) and (CCAvg <= 3.75) and (Age > 43.5) and (Experience <= 20.5) then class: 1 (proba: 100.0%) | based on 1 samples\n",
      "if (Income > 98.5) and (Education > 1.5) and (Income <= 116.5) and (CCAvg > 2.725) and (Experience > 35.5) and (CCAvg > 3.65) then class: 1 (proba: 100.0%) | based on 1 samples\n",
      "if (Income <= 98.5) and (CCAvg > 2.95) and (Income > 82.5) and (CCAvg <= 4.35) and (Age <= 64.5) and (CCAvg <= 3.95) and (CCAvg <= 3.85) and (CCAvg <= 3.65) and (CCAvg <= 3.35) and (Family <= 3.5) and (Age <= 60.0) and (CCAvg > 3.05) and (Education <= 1.5) and (Experience > 23.0) then class: 1 (proba: 100.0%) | based on 1 samples\n",
      "if (Income <= 98.5) and (CCAvg > 2.95) and (Income > 82.5) and (CCAvg <= 4.35) and (Age <= 64.5) and (CCAvg <= 3.95) and (CCAvg <= 3.85) and (CCAvg <= 3.65) and (CCAvg <= 3.35) and (Family <= 3.5) and (Age <= 60.0) and (CCAvg > 3.05) and (Education > 1.5) then class: 1 (proba: 100.0%) | based on 1 samples\n",
      "if (Income > 98.5) and (Education > 1.5) and (Income <= 116.5) and (CCAvg <= 2.725) and (Income > 106.5) and (Age <= 55.5) and (Experience <= 8.0) and (CCAvg > 2.4) and (Family > 2.5) then class: 1 (proba: 100.0%) | based on 1 samples\n",
      "if (Income <= 98.5) and (CCAvg > 2.95) and (Income > 82.5) and (CCAvg <= 4.35) and (Age <= 64.5) and (CCAvg <= 3.95) and (CCAvg <= 3.85) and (CCAvg <= 3.65) and (CCAvg > 3.35) and (Family > 3.5) and (CCAvg > 3.5) and (Age > 46.5) then class: 0 (proba: 100.0%) | based on 1 samples\n",
      "if (Income <= 98.5) and (CCAvg > 2.95) and (Income > 82.5) and (CCAvg <= 4.35) and (Age <= 64.5) and (CCAvg <= 3.95) and (CCAvg <= 3.85) and (CCAvg > 3.65) and (Family <= 2.5) and (Income <= 83.5) and (Age <= 45.5) then class: 0 (proba: 100.0%) | based on 1 samples\n",
      "if (Income <= 98.5) and (CCAvg > 2.95) and (Income > 82.5) and (CCAvg <= 4.35) and (Age <= 64.5) and (CCAvg <= 3.95) and (CCAvg <= 3.85) and (CCAvg > 3.65) and (Family <= 2.5) and (Income <= 83.5) and (Age > 45.5) then class: 1 (proba: 100.0%) | based on 1 samples\n",
      "if (Income <= 98.5) and (CCAvg > 2.95) and (Income > 82.5) and (CCAvg <= 4.35) and (Age <= 64.5) and (CCAvg <= 3.95) and (CCAvg <= 3.85) and (CCAvg > 3.65) and (Family > 2.5) then class: 1 (proba: 100.0%) | based on 1 samples\n",
      "if (Income > 98.5) and (Education <= 1.5) and (Family > 2.5) and (Income <= 113.5) and (Family <= 3.5) and (CCAvg > 3.25) and (Experience <= 20.5) then class: 1 (proba: 100.0%) | based on 1 samples\n",
      "if (Income <= 98.5) and (CCAvg > 2.95) and (Income > 82.5) and (CCAvg <= 4.35) and (Age <= 64.5) and (CCAvg > 3.95) and (Age <= 33.0) then class: 1 (proba: 100.0%) | based on 1 samples\n",
      "if (Income > 98.5) and (Education <= 1.5) and (Family <= 2.5) and (Income <= 104.5) and (CCAvg > 3.317) and (CCAvg <= 4.5) and (Experience <= 17.0) and (Family > 1.5) then class: 1 (proba: 100.0%) | based on 1 samples\n",
      "if (Income <= 98.5) and (CCAvg > 2.95) and (Income > 82.5) and (CCAvg <= 4.35) and (Age <= 64.5) and (CCAvg > 3.95) and (Age > 33.0) and (CCAvg > 4.15) and (Education > 1.5) then class: 1 (proba: 100.0%) | based on 1 samples\n",
      "if (Income <= 98.5) and (CCAvg > 2.95) and (Income > 82.5) and (CCAvg <= 4.35) and (Age <= 64.5) and (CCAvg <= 3.95) and (CCAvg <= 3.85) and (CCAvg <= 3.65) and (CCAvg <= 3.35) and (Family <= 3.5) and (Age > 60.0) then class: 1 (proba: 100.0%) | based on 1 samples\n"
     ]
    }
   ],
   "source": [
    "rules = get_readable_rules(dt_model, list(X_train.columns), ['0','1'])\n",
    "for r in rules:\n",
    "    print(r)"
   ]
  },
  {
   "cell_type": "code",
   "execution_count": 48,
   "id": "b16b149b",
   "metadata": {
    "execution": {
     "iopub.execute_input": "2021-11-29T07:08:46.170728Z",
     "iopub.status.busy": "2021-11-29T07:08:46.169918Z",
     "iopub.status.idle": "2021-11-29T07:08:46.177015Z",
     "shell.execute_reply": "2021-11-29T07:08:46.177544Z",
     "shell.execute_reply.started": "2021-11-29T07:05:09.335645Z"
    },
    "id": "p2xGiVy8arbu",
    "papermill": {
     "duration": 0.153229,
     "end_time": "2021-11-29T07:08:46.177724",
     "exception": false,
     "start_time": "2021-11-29T07:08:46.024495",
     "status": "completed"
    },
    "tags": []
   },
   "outputs": [],
   "source": [
    "def get_prolog_rules(tree, feature_names, class_names):\n",
    "    tree_ = tree.tree_\n",
    "    feature_name = [\n",
    "        feature_names[i] if i != _tree.TREE_UNDEFINED else \"undefined!\"\n",
    "        for i in tree_.feature\n",
    "    ]\n",
    "\n",
    "    paths = []\n",
    "    path = []\n",
    "    \n",
    "    def recurse(node, path, paths):\n",
    "        \n",
    "        if tree_.feature[node] != _tree.TREE_UNDEFINED:\n",
    "            name = feature_name[node]\n",
    "            threshold = tree_.threshold[node]\n",
    "            p1, p2 = list(path), list(path)\n",
    "            p1 += [f\"{name} =< {np.round(threshold, 3)}\"]\n",
    "            recurse(tree_.children_left[node], p1, paths)\n",
    "            p2 += [f\"{name} > {np.round(threshold, 3)}\"]\n",
    "            recurse(tree_.children_right[node], p2, paths)\n",
    "        else:\n",
    "            path += [(tree_.value[node], tree_.n_node_samples[node])]\n",
    "            paths += [path]\n",
    "            \n",
    "    recurse(0, path, paths)\n",
    "\n",
    "    # sort by samples count\n",
    "    samples_count = [p[-1][1] for p in paths]\n",
    "    ii = list(np.argsort(samples_count))\n",
    "    paths = [paths[i] for i in reversed(ii)]\n",
    "    \n",
    "    rules = []\n",
    "    for path in paths:\n",
    "        rule = \":- \"\n",
    "        \n",
    "        for p in path[:-1]:\n",
    "            if rule != \":- \":\n",
    "                rule += \", \"\n",
    "            rule += str(p)\n",
    "        rule += \".\"\n",
    "        if class_names is None:\n",
    "            rule += \"response: \"+str(np.round(path[-1][0][0][0],3))\n",
    "        else:\n",
    "            classes = path[-1][0][0]\n",
    "            l = np.argmax(classes)\n",
    "            rule = \"class(\" + class_names[l] + \", Age, Experience, Income, Family, CCAvg, Education, Online) \" + rule\n",
    "        rules += [rule]\n",
    "        \n",
    "    return rules"
   ]
  },
  {
   "cell_type": "code",
   "execution_count": 49,
   "id": "2546e29f",
   "metadata": {
    "execution": {
     "iopub.execute_input": "2021-11-29T07:08:46.455230Z",
     "iopub.status.busy": "2021-11-29T07:08:46.454546Z",
     "iopub.status.idle": "2021-11-29T07:08:46.469719Z",
     "shell.execute_reply": "2021-11-29T07:08:46.469106Z",
     "shell.execute_reply.started": "2021-11-29T07:05:12.407508Z"
    },
    "id": "J_tdpjqCWlD2",
    "outputId": "e8f5a392-ed65-4504-cdb9-425a7b19b58b",
    "papermill": {
     "duration": 0.155938,
     "end_time": "2021-11-29T07:08:46.469863",
     "exception": false,
     "start_time": "2021-11-29T07:08:46.313925",
     "status": "completed"
    },
    "tags": []
   },
   "outputs": [
    {
     "name": "stdout",
     "output_type": "stream",
     "text": [
      "class(0, Age, Experience, Income, Family, CCAvg, Education, Online) :- Income =< 98.5, CCAvg =< 2.95.\n",
      "class(0, Age, Experience, Income, Family, CCAvg, Education, Online) :- Income > 98.5, Education =< 1.5, Family =< 2.5, Income > 104.5.\n",
      "class(1, Age, Experience, Income, Family, CCAvg, Education, Online) :- Income > 98.5, Education > 1.5, Income > 116.5.\n",
      "class(1, Age, Experience, Income, Family, CCAvg, Education, Online) :- Income > 98.5, Education =< 1.5, Family > 2.5, Income > 113.5.\n",
      "class(0, Age, Experience, Income, Family, CCAvg, Education, Online) :- Income > 98.5, Education > 1.5, Income =< 116.5, CCAvg =< 2.725, Income =< 106.5.\n",
      "class(0, Age, Experience, Income, Family, CCAvg, Education, Online) :- Income =< 98.5, CCAvg > 2.95, Income =< 82.5, Age > 30.5, Experience > 8.5, Income =< 74.5.\n",
      "class(0, Age, Experience, Income, Family, CCAvg, Education, Online) :- Income > 98.5, Education =< 1.5, Family =< 2.5, Income =< 104.5, CCAvg =< 3.317.\n",
      "class(0, Age, Experience, Income, Family, CCAvg, Education, Online) :- Income =< 98.5, CCAvg > 2.95, Income =< 82.5, Age > 30.5, Experience > 8.5, Income > 74.5, CCAvg > 3.75.\n",
      "class(0, Age, Experience, Income, Family, CCAvg, Education, Online) :- Income =< 98.5, CCAvg > 2.95, Income > 82.5, CCAvg > 4.35.\n",
      "class(1, Age, Experience, Income, Family, CCAvg, Education, Online) :- Income > 98.5, Education > 1.5, Income =< 116.5, CCAvg > 2.725, Experience =< 35.5, Family > 2.5.\n",
      "class(0, Age, Experience, Income, Family, CCAvg, Education, Online) :- Income > 98.5, Education =< 1.5, Family > 2.5, Income =< 113.5, Family =< 3.5, CCAvg =< 3.25.\n",
      "class(0, Age, Experience, Income, Family, CCAvg, Education, Online) :- Income > 98.5, Education > 1.5, Income =< 116.5, CCAvg =< 2.725, Income > 106.5, Age =< 55.5, Experience =< 8.0, CCAvg =< 2.4.\n",
      "class(0, Age, Experience, Income, Family, CCAvg, Education, Online) :- Income > 98.5, Education > 1.5, Income =< 116.5, CCAvg =< 2.725, Income > 106.5, Age > 55.5.\n",
      "class(0, Age, Experience, Income, Family, CCAvg, Education, Online) :- Income =< 98.5, CCAvg > 2.95, Income =< 82.5, Age > 30.5, Experience > 8.5, Income > 74.5, CCAvg =< 3.75, Age =< 43.5.\n",
      "class(0, Age, Experience, Income, Family, CCAvg, Education, Online) :- Income =< 98.5, CCAvg > 2.95, Income =< 82.5, Age > 30.5, Experience > 8.5, Income > 74.5, CCAvg =< 3.75, Age > 43.5, Experience > 20.5, Income =< 81.5.\n",
      "class(0, Age, Experience, Income, Family, CCAvg, Education, Online) :- Income =< 98.5, CCAvg > 2.95, Income > 82.5, CCAvg =< 4.35, Age =< 64.5, CCAvg =< 3.95, CCAvg =< 3.85, CCAvg > 3.65, Family =< 2.5, Income > 83.5.\n",
      "class(1, Age, Experience, Income, Family, CCAvg, Education, Online) :- Income > 98.5, Education > 1.5, Income =< 116.5, CCAvg > 2.725, Experience =< 35.5, Family =< 2.5, Experience > 18.0, CCAvg > 4.0.\n",
      "class(0, Age, Experience, Income, Family, CCAvg, Education, Online) :- Income =< 98.5, CCAvg > 2.95, Income =< 82.5, Age > 30.5, Experience =< 8.5, Education > 2.5.\n",
      "class(0, Age, Experience, Income, Family, CCAvg, Education, Online) :- Income > 98.5, Education > 1.5, Income =< 116.5, CCAvg =< 2.725, Income > 106.5, Age =< 55.5, Experience > 8.0, Age > 36.5, Age =< 41.5.\n",
      "class(1, Age, Experience, Income, Family, CCAvg, Education, Online) :- Income =< 98.5, CCAvg > 2.95, Income > 82.5, CCAvg =< 4.35, Age =< 64.5, CCAvg =< 3.95, CCAvg =< 3.85, CCAvg =< 3.65, CCAvg > 3.35, Family =< 3.5.\n",
      "class(0, Age, Experience, Income, Family, CCAvg, Education, Online) :- Income =< 98.5, CCAvg > 2.95, Income > 82.5, CCAvg =< 4.35, Age =< 64.5, CCAvg > 3.95, Age > 33.0, CCAvg =< 4.15.\n",
      "class(0, Age, Experience, Income, Family, CCAvg, Education, Online) :- Income =< 98.5, CCAvg > 2.95, Income > 82.5, CCAvg =< 4.35, Age =< 64.5, CCAvg =< 3.95, CCAvg =< 3.85, CCAvg =< 3.65, CCAvg =< 3.35, Family =< 3.5, Age =< 60.0, CCAvg =< 3.05.\n",
      "class(0, Age, Experience, Income, Family, CCAvg, Education, Online) :- Income =< 98.5, CCAvg > 2.95, Income > 82.5, CCAvg =< 4.35, Age =< 64.5, CCAvg =< 3.95, CCAvg =< 3.85, CCAvg =< 3.65, CCAvg =< 3.35, Family =< 3.5, Age =< 60.0, CCAvg > 3.05, Education =< 1.5, Experience =< 23.0.\n",
      "class(0, Age, Experience, Income, Family, CCAvg, Education, Online) :- Income > 98.5, Education > 1.5, Income =< 116.5, CCAvg > 2.725, Experience =< 35.5, Family =< 2.5, Experience =< 18.0, Experience > 7.5.\n",
      "class(0, Age, Experience, Income, Family, CCAvg, Education, Online) :- Income > 98.5, Education =< 1.5, Family > 2.5, Income =< 113.5, Family =< 3.5, CCAvg > 3.25, Experience > 20.5.\n",
      "class(0, Age, Experience, Income, Family, CCAvg, Education, Online) :- Income > 98.5, Education > 1.5, Income =< 116.5, CCAvg > 2.725, Experience > 35.5, CCAvg =< 3.65.\n",
      "class(0, Age, Experience, Income, Family, CCAvg, Education, Online) :- Income > 98.5, Education =< 1.5, Family =< 2.5, Income =< 104.5, CCAvg > 3.317, CCAvg > 4.5.\n",
      "class(0, Age, Experience, Income, Family, CCAvg, Education, Online) :- Income =< 98.5, CCAvg > 2.95, Income > 82.5, CCAvg =< 4.35, Age =< 64.5, CCAvg =< 3.95, CCAvg =< 3.85, CCAvg =< 3.65, CCAvg > 3.35, Family > 3.5, CCAvg =< 3.5.\n",
      "class(0, Age, Experience, Income, Family, CCAvg, Education, Online) :- Income > 98.5, Education > 1.5, Income =< 116.5, CCAvg =< 2.725, Income > 106.5, Age =< 55.5, Experience > 8.0, Age > 36.5, Age > 41.5, Income =< 114.5, Online =< 0.5.\n",
      "class(1, Age, Experience, Income, Family, CCAvg, Education, Online) :- Income > 98.5, Education =< 1.5, Family > 2.5, Income =< 113.5, Family > 3.5.\n",
      "class(1, Age, Experience, Income, Family, CCAvg, Education, Online) :- Income =< 98.5, CCAvg > 2.95, Income > 82.5, CCAvg =< 4.35, Age =< 64.5, CCAvg =< 3.95, CCAvg > 3.85.\n",
      "class(1, Age, Experience, Income, Family, CCAvg, Education, Online) :- Income =< 98.5, CCAvg > 2.95, Income =< 82.5, Age =< 30.5.\n",
      "class(1, Age, Experience, Income, Family, CCAvg, Education, Online) :- Income =< 98.5, CCAvg > 2.95, Income > 82.5, CCAvg =< 4.35, Age > 64.5.\n",
      "class(0, Age, Experience, Income, Family, CCAvg, Education, Online) :- Income =< 98.5, CCAvg > 2.95, Income > 82.5, CCAvg =< 4.35, Age =< 64.5, CCAvg > 3.95, Age > 33.0, CCAvg > 4.15, Education =< 1.5.\n",
      "class(1, Age, Experience, Income, Family, CCAvg, Education, Online) :- Income > 98.5, Education > 1.5, Income =< 116.5, CCAvg =< 2.725, Income > 106.5, Age =< 55.5, Experience > 8.0, Age > 36.5, Age > 41.5, Income =< 114.5, Online > 0.5, Income =< 113.5, Income =< 111.5, CCAvg =< 2.15.\n",
      "class(1, Age, Experience, Income, Family, CCAvg, Education, Online) :- Income > 98.5, Education > 1.5, Income =< 116.5, CCAvg =< 2.725, Income > 106.5, Age =< 55.5, Experience > 8.0, Age =< 36.5.\n",
      "class(1, Age, Experience, Income, Family, CCAvg, Education, Online) :- Income > 98.5, Education =< 1.5, Family =< 2.5, Income =< 104.5, CCAvg > 3.317, CCAvg =< 4.5, Experience > 17.0.\n",
      "class(0, Age, Experience, Income, Family, CCAvg, Education, Online) :- Income > 98.5, Education =< 1.5, Family =< 2.5, Income =< 104.5, CCAvg > 3.317, CCAvg =< 4.5, Experience =< 17.0, Family =< 1.5.\n",
      "class(1, Age, Experience, Income, Family, CCAvg, Education, Online) :- Income =< 98.5, CCAvg > 2.95, Income > 82.5, CCAvg =< 4.35, Age =< 64.5, CCAvg =< 3.95, CCAvg =< 3.85, CCAvg =< 3.65, CCAvg =< 3.35, Family > 3.5.\n",
      "class(0, Age, Experience, Income, Family, CCAvg, Education, Online) :- Income > 98.5, Education > 1.5, Income =< 116.5, CCAvg =< 2.725, Income > 106.5, Age =< 55.5, Experience =< 8.0, CCAvg > 2.4, Family =< 2.5.\n",
      "class(1, Age, Experience, Income, Family, CCAvg, Education, Online) :- Income =< 98.5, CCAvg > 2.95, Income > 82.5, CCAvg =< 4.35, Age =< 64.5, CCAvg =< 3.95, CCAvg =< 3.85, CCAvg =< 3.65, CCAvg > 3.35, Family > 3.5, CCAvg > 3.5, Age =< 46.5.\n",
      "class(0, Age, Experience, Income, Family, CCAvg, Education, Online) :- Income =< 98.5, CCAvg > 2.95, Income =< 82.5, Age > 30.5, Experience > 8.5, Income > 74.5, CCAvg =< 3.75, Age > 43.5, Experience > 20.5, Income > 81.5, CCAvg =< 3.55.\n",
      "class(0, Age, Experience, Income, Family, CCAvg, Education, Online) :- Income > 98.5, Education > 1.5, Income =< 116.5, CCAvg > 2.725, Experience =< 35.5, Family =< 2.5, Experience =< 18.0, Experience =< 7.5, Family =< 1.5.\n",
      "class(1, Age, Experience, Income, Family, CCAvg, Education, Online) :- Income > 98.5, Education > 1.5, Income =< 116.5, CCAvg > 2.725, Experience =< 35.5, Family =< 2.5, Experience =< 18.0, Experience =< 7.5, Family > 1.5.\n",
      "class(0, Age, Experience, Income, Family, CCAvg, Education, Online) :- Income > 98.5, Education > 1.5, Income =< 116.5, CCAvg =< 2.725, Income > 106.5, Age =< 55.5, Experience > 8.0, Age > 36.5, Age > 41.5, Income =< 114.5, Online > 0.5, Income =< 113.5, Income > 111.5.\n",
      "class(1, Age, Experience, Income, Family, CCAvg, Education, Online) :- Income > 98.5, Education > 1.5, Income =< 116.5, CCAvg > 2.725, Experience =< 35.5, Family =< 2.5, Experience > 18.0, CCAvg =< 4.0, Age > 51.5.\n",
      "class(1, Age, Experience, Income, Family, CCAvg, Education, Online) :- Income > 98.5, Education > 1.5, Income =< 116.5, CCAvg =< 2.725, Income > 106.5, Age =< 55.5, Experience > 8.0, Age > 36.5, Age > 41.5, Income =< 114.5, Online > 0.5, Income > 113.5.\n",
      "class(1, Age, Experience, Income, Family, CCAvg, Education, Online) :- Income =< 98.5, CCAvg > 2.95, Income =< 82.5, Age > 30.5, Experience =< 8.5, Education =< 2.5.\n",
      "class(1, Age, Experience, Income, Family, CCAvg, Education, Online) :- Income > 98.5, Education > 1.5, Income =< 116.5, CCAvg =< 2.725, Income > 106.5, Age =< 55.5, Experience > 8.0, Age > 36.5, Age > 41.5, Income > 114.5.\n",
      "class(0, Age, Experience, Income, Family, CCAvg, Education, Online) :- Income > 98.5, Education > 1.5, Income =< 116.5, CCAvg =< 2.725, Income > 106.5, Age =< 55.5, Experience > 8.0, Age > 36.5, Age > 41.5, Income =< 114.5, Online > 0.5, Income =< 113.5, Income =< 111.5, CCAvg > 2.15.\n",
      "class(1, Age, Experience, Income, Family, CCAvg, Education, Online) :- Income =< 98.5, CCAvg > 2.95, Income =< 82.5, Age > 30.5, Experience > 8.5, Income > 74.5, CCAvg =< 3.75, Age > 43.5, Experience > 20.5, Income > 81.5, CCAvg > 3.55.\n",
      "class(0, Age, Experience, Income, Family, CCAvg, Education, Online) :- Income > 98.5, Education > 1.5, Income =< 116.5, CCAvg > 2.725, Experience =< 35.5, Family =< 2.5, Experience > 18.0, CCAvg =< 4.0, Age =< 51.5.\n",
      "class(1, Age, Experience, Income, Family, CCAvg, Education, Online) :- Income =< 98.5, CCAvg > 2.95, Income =< 82.5, Age > 30.5, Experience > 8.5, Income > 74.5, CCAvg =< 3.75, Age > 43.5, Experience =< 20.5.\n",
      "class(1, Age, Experience, Income, Family, CCAvg, Education, Online) :- Income > 98.5, Education > 1.5, Income =< 116.5, CCAvg > 2.725, Experience > 35.5, CCAvg > 3.65.\n",
      "class(1, Age, Experience, Income, Family, CCAvg, Education, Online) :- Income =< 98.5, CCAvg > 2.95, Income > 82.5, CCAvg =< 4.35, Age =< 64.5, CCAvg =< 3.95, CCAvg =< 3.85, CCAvg =< 3.65, CCAvg =< 3.35, Family =< 3.5, Age =< 60.0, CCAvg > 3.05, Education =< 1.5, Experience > 23.0.\n",
      "class(1, Age, Experience, Income, Family, CCAvg, Education, Online) :- Income =< 98.5, CCAvg > 2.95, Income > 82.5, CCAvg =< 4.35, Age =< 64.5, CCAvg =< 3.95, CCAvg =< 3.85, CCAvg =< 3.65, CCAvg =< 3.35, Family =< 3.5, Age =< 60.0, CCAvg > 3.05, Education > 1.5.\n",
      "class(1, Age, Experience, Income, Family, CCAvg, Education, Online) :- Income > 98.5, Education > 1.5, Income =< 116.5, CCAvg =< 2.725, Income > 106.5, Age =< 55.5, Experience =< 8.0, CCAvg > 2.4, Family > 2.5.\n",
      "class(0, Age, Experience, Income, Family, CCAvg, Education, Online) :- Income =< 98.5, CCAvg > 2.95, Income > 82.5, CCAvg =< 4.35, Age =< 64.5, CCAvg =< 3.95, CCAvg =< 3.85, CCAvg =< 3.65, CCAvg > 3.35, Family > 3.5, CCAvg > 3.5, Age > 46.5.\n",
      "class(0, Age, Experience, Income, Family, CCAvg, Education, Online) :- Income =< 98.5, CCAvg > 2.95, Income > 82.5, CCAvg =< 4.35, Age =< 64.5, CCAvg =< 3.95, CCAvg =< 3.85, CCAvg > 3.65, Family =< 2.5, Income =< 83.5, Age =< 45.5.\n",
      "class(1, Age, Experience, Income, Family, CCAvg, Education, Online) :- Income =< 98.5, CCAvg > 2.95, Income > 82.5, CCAvg =< 4.35, Age =< 64.5, CCAvg =< 3.95, CCAvg =< 3.85, CCAvg > 3.65, Family =< 2.5, Income =< 83.5, Age > 45.5.\n",
      "class(1, Age, Experience, Income, Family, CCAvg, Education, Online) :- Income =< 98.5, CCAvg > 2.95, Income > 82.5, CCAvg =< 4.35, Age =< 64.5, CCAvg =< 3.95, CCAvg =< 3.85, CCAvg > 3.65, Family > 2.5.\n",
      "class(1, Age, Experience, Income, Family, CCAvg, Education, Online) :- Income > 98.5, Education =< 1.5, Family > 2.5, Income =< 113.5, Family =< 3.5, CCAvg > 3.25, Experience =< 20.5.\n",
      "class(1, Age, Experience, Income, Family, CCAvg, Education, Online) :- Income =< 98.5, CCAvg > 2.95, Income > 82.5, CCAvg =< 4.35, Age =< 64.5, CCAvg > 3.95, Age =< 33.0.\n",
      "class(1, Age, Experience, Income, Family, CCAvg, Education, Online) :- Income > 98.5, Education =< 1.5, Family =< 2.5, Income =< 104.5, CCAvg > 3.317, CCAvg =< 4.5, Experience =< 17.0, Family > 1.5.\n",
      "class(1, Age, Experience, Income, Family, CCAvg, Education, Online) :- Income =< 98.5, CCAvg > 2.95, Income > 82.5, CCAvg =< 4.35, Age =< 64.5, CCAvg > 3.95, Age > 33.0, CCAvg > 4.15, Education > 1.5.\n",
      "class(1, Age, Experience, Income, Family, CCAvg, Education, Online) :- Income =< 98.5, CCAvg > 2.95, Income > 82.5, CCAvg =< 4.35, Age =< 64.5, CCAvg =< 3.95, CCAvg =< 3.85, CCAvg =< 3.65, CCAvg =< 3.35, Family =< 3.5, Age > 60.0.\n"
     ]
    }
   ],
   "source": [
    "rules = get_prolog_rules(dt_model, list(X_train.columns), ['0','1'])\n",
    "for r in rules:\n",
    "    print(r)"
   ]
  }
 ],
 "metadata": {
  "kernelspec": {
   "display_name": "Python 3",
   "language": "python",
   "name": "python3"
  },
  "language_info": {
   "codemirror_mode": {
    "name": "ipython",
    "version": 3
   },
   "file_extension": ".py",
   "mimetype": "text/x-python",
   "name": "python",
   "nbconvert_exporter": "python",
   "pygments_lexer": "ipython3",
   "version": "3.7.10"
  },
  "papermill": {
   "default_parameters": {},
   "duration": 88.858035,
   "end_time": "2021-11-29T07:08:47.515327",
   "environment_variables": {},
   "exception": null,
   "input_path": "__notebook__.ipynb",
   "output_path": "__notebook__.ipynb",
   "parameters": {},
   "start_time": "2021-11-29T07:07:18.657292",
   "version": "2.3.3"
  }
 },
 "nbformat": 4,
 "nbformat_minor": 5
}
