{
 "cells": [
  {
   "cell_type": "markdown",
   "id": "11cc46f9",
   "metadata": {},
   "source": [
    "# <font color='blue'> Naive Bayes\n",
    "- https://pgmpy.org/models/naive.html"
   ]
  },
  {
   "cell_type": "code",
   "execution_count": 1,
   "id": "0dc4d5fc",
   "metadata": {},
   "outputs": [],
   "source": [
    "from IPython.core.interactiveshell import InteractiveShell # 모든 명령어 출력\n",
    "InteractiveShell.ast_node_interactivity = 'all'\n",
    "import warnings\n",
    "warnings.filterwarnings('ignore')\n",
    "\n",
    "import numpy as np\n",
    "import pandas as pd\n",
    "import matplotlib.pyplot as plt\n",
    "import seaborn as sns"
   ]
  },
  {
   "cell_type": "code",
   "execution_count": 2,
   "id": "da4d1ae5",
   "metadata": {},
   "outputs": [],
   "source": [
    "# Importing Library\n",
    "from pgmpy.models import BayesianNetwork\n",
    "from pgmpy.inference import VariableElimination"
   ]
  },
  {
   "cell_type": "markdown",
   "id": "8925f118",
   "metadata": {},
   "source": [
    "<img src='http://norvig.com/ipython/burglary2.jpg'>"
   ]
  },
  {
   "cell_type": "code",
   "execution_count": 3,
   "id": "fc18333c",
   "metadata": {},
   "outputs": [],
   "source": [
    "# Defining network structure\n",
    "\n",
    "alarm_model = BayesianNetwork(\n",
    "    [\n",
    "        (\"Burglary\", \"Alarm\"),\n",
    "        (\"Earthquake\", \"Alarm\"),\n",
    "        (\"Alarm\", \"JohnCalls\"),\n",
    "        (\"Alarm\", \"MaryCalls\"),\n",
    "    ]\n",
    ")"
   ]
  },
  {
   "cell_type": "code",
   "execution_count": 4,
   "id": "0f66bc8e",
   "metadata": {},
   "outputs": [],
   "source": [
    "# Defining the parameters using CPT\n",
    "from pgmpy.factors.discrete import TabularCPD\n",
    "\n",
    "cpd_burglary = TabularCPD(\n",
    "    variable=\"Burglary\", variable_card=2, values=[[0.999], [0.001]]\n",
    ")\n",
    "cpd_earthquake = TabularCPD(\n",
    "    variable=\"Earthquake\", variable_card=2, values=[[0.998], [0.002]]\n",
    ")\n",
    "cpd_alarm = TabularCPD(\n",
    "    variable=\"Alarm\",\n",
    "    variable_card=2,\n",
    "    values=[[0.999, 0.71, 0.06, 0.05], [0.001, 0.29, 0.94, 0.95]],\n",
    "    evidence=[\"Burglary\", \"Earthquake\"],\n",
    "    evidence_card=[2, 2],\n",
    ")\n",
    "cpd_johncalls = TabularCPD(\n",
    "    variable=\"JohnCalls\",\n",
    "    variable_card=2,\n",
    "    values=[[0.95, 0.1], [0.05, 0.9]],\n",
    "    evidence=[\"Alarm\"],\n",
    "    evidence_card=[2],\n",
    ")\n",
    "cpd_marycalls = TabularCPD(\n",
    "    variable=\"MaryCalls\",\n",
    "    variable_card=2,\n",
    "    values=[[0.1, 0.7], [0.9, 0.3]],\n",
    "    evidence=[\"Alarm\"],\n",
    "    evidence_card=[2],\n",
    ")"
   ]
  },
  {
   "cell_type": "code",
   "execution_count": 6,
   "id": "76cb6d7d",
   "metadata": {},
   "outputs": [],
   "source": [
    "# Associating the parameters with the model structure\n",
    "alarm_model.add_cpds(\n",
    "    cpd_burglary, cpd_earthquake, cpd_alarm, cpd_johncalls, cpd_marycalls\n",
    ")"
   ]
  },
  {
   "cell_type": "code",
   "execution_count": 8,
   "id": "c72a984e",
   "metadata": {},
   "outputs": [
    {
     "data": {
      "text/plain": [
       "True"
      ]
     },
     "execution_count": 8,
     "metadata": {},
     "output_type": "execute_result"
    }
   ],
   "source": [
    "# Checking if the cpds are valid for the model\n",
    "alarm_model.check_model()"
   ]
  },
  {
   "cell_type": "code",
   "execution_count": 9,
   "id": "24cce4e7",
   "metadata": {},
   "outputs": [
    {
     "data": {
      "text/plain": [
       "NodeView(('Burglary', 'Alarm', 'Earthquake', 'JohnCalls', 'MaryCalls'))"
      ]
     },
     "execution_count": 9,
     "metadata": {},
     "output_type": "execute_result"
    }
   ],
   "source": [
    "# Viewing nodes of the model\n",
    "alarm_model.nodes()"
   ]
  },
  {
   "cell_type": "code",
   "execution_count": 10,
   "id": "74ec45fe",
   "metadata": {},
   "outputs": [
    {
     "data": {
      "text/plain": [
       "OutEdgeView([('Burglary', 'Alarm'), ('Alarm', 'JohnCalls'), ('Alarm', 'MaryCalls'), ('Earthquake', 'Alarm')])"
      ]
     },
     "execution_count": 10,
     "metadata": {},
     "output_type": "execute_result"
    }
   ],
   "source": [
    "# Viewing edges of the model\n",
    "alarm_model.edges()"
   ]
  },
  {
   "cell_type": "code",
   "execution_count": 11,
   "id": "9e5e8373",
   "metadata": {},
   "outputs": [
    {
     "data": {
      "text/plain": [
       "(Burglary ⟂ Earthquake)"
      ]
     },
     "execution_count": 11,
     "metadata": {},
     "output_type": "execute_result"
    }
   ],
   "source": [
    "# Checking independcies of a node\n",
    "alarm_model.local_independencies(\"Burglary\")"
   ]
  },
  {
   "cell_type": "code",
   "execution_count": 12,
   "id": "fbcbe517",
   "metadata": {},
   "outputs": [
    {
     "data": {
      "text/plain": [
       "(JohnCalls ⟂ MaryCalls, Earthquake, Burglary | Alarm)\n",
       "(JohnCalls ⟂ Earthquake, Burglary | MaryCalls, Alarm)\n",
       "(JohnCalls ⟂ MaryCalls, Earthquake | Alarm, Burglary)\n",
       "(JohnCalls ⟂ MaryCalls, Burglary | Alarm, Earthquake)\n",
       "(JohnCalls ⟂ Earthquake | MaryCalls, Alarm, Burglary)\n",
       "(JohnCalls ⟂ Burglary | MaryCalls, Alarm, Earthquake)\n",
       "(JohnCalls ⟂ MaryCalls | Earthquake, Alarm, Burglary)\n",
       "(Burglary ⟂ Earthquake)\n",
       "(Burglary ⟂ MaryCalls, JohnCalls | Alarm)\n",
       "(Burglary ⟂ JohnCalls | MaryCalls, Alarm)\n",
       "(Burglary ⟂ MaryCalls | JohnCalls, Alarm)\n",
       "(Burglary ⟂ MaryCalls, JohnCalls | Alarm, Earthquake)\n",
       "(Burglary ⟂ JohnCalls | MaryCalls, Alarm, Earthquake)\n",
       "(Burglary ⟂ MaryCalls | JohnCalls, Alarm, Earthquake)\n",
       "(MaryCalls ⟂ JohnCalls, Earthquake, Burglary | Alarm)\n",
       "(MaryCalls ⟂ JohnCalls, Earthquake | Alarm, Burglary)\n",
       "(MaryCalls ⟂ Earthquake, Burglary | JohnCalls, Alarm)\n",
       "(MaryCalls ⟂ JohnCalls, Burglary | Alarm, Earthquake)\n",
       "(MaryCalls ⟂ Earthquake | JohnCalls, Alarm, Burglary)\n",
       "(MaryCalls ⟂ JohnCalls | Earthquake, Alarm, Burglary)\n",
       "(MaryCalls ⟂ Burglary | JohnCalls, Alarm, Earthquake)\n",
       "(Earthquake ⟂ Burglary)\n",
       "(Earthquake ⟂ MaryCalls, JohnCalls | Alarm)\n",
       "(Earthquake ⟂ JohnCalls | MaryCalls, Alarm)\n",
       "(Earthquake ⟂ MaryCalls | JohnCalls, Alarm)\n",
       "(Earthquake ⟂ MaryCalls, JohnCalls | Alarm, Burglary)\n",
       "(Earthquake ⟂ JohnCalls | MaryCalls, Alarm, Burglary)\n",
       "(Earthquake ⟂ MaryCalls | JohnCalls, Alarm, Burglary)"
      ]
     },
     "execution_count": 12,
     "metadata": {},
     "output_type": "execute_result"
    }
   ],
   "source": [
    "# Listing all Independencies\n",
    "alarm_model.get_independencies()"
   ]
  },
  {
   "cell_type": "markdown",
   "id": "d82bf610",
   "metadata": {},
   "source": [
    "# End"
   ]
  }
 ],
 "metadata": {
  "kernelspec": {
   "display_name": "Python 3",
   "language": "python",
   "name": "python3"
  },
  "language_info": {
   "codemirror_mode": {
    "name": "ipython",
    "version": 3
   },
   "file_extension": ".py",
   "mimetype": "text/x-python",
   "name": "python",
   "nbconvert_exporter": "python",
   "pygments_lexer": "ipython3",
   "version": "3.8.8"
  }
 },
 "nbformat": 4,
 "nbformat_minor": 5
}
