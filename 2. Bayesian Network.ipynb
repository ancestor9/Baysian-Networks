{
 "cells": [
  {
   "cell_type": "markdown",
   "id": "11cc46f9",
   "metadata": {},
   "source": [
    "# <font color='blue'> Bayesian Networks Tutorials\n",
    "https://pgmpy.org/detailed_notebooks/2.%20Bayesian%20Networks.html"
   ]
  },
  {
   "cell_type": "code",
   "execution_count": 1,
   "id": "0dc4d5fc",
   "metadata": {},
   "outputs": [],
   "source": [
    "import numpy as np\n",
    "import pandas as pd\n",
    "import matplotlib.pyplot as plt\n",
    "import seaborn as sns\n",
    "\n",
    "from IPython.core.interactiveshell import InteractiveShell # 모든 명령어 출력\n",
    "InteractiveShell.ast_node_interactivity = 'all'\n",
    "import warnings\n",
    "warnings.filterwarnings('ignore')"
   ]
  },
  {
   "cell_type": "markdown",
   "id": "9018b66f",
   "metadata": {},
   "source": [
    "# 2. Bayesian Network\n",
    "## 2.1. Bayesian Models\n",
    "- 1. What are Bayesian Models\n",
    "- 2. Independencies in Bayesian Networks\n",
    "- 3. How is Bayesian Model encoding the Joint Distribution\n",
    "- 4. How we do inference from Bayesian models\n",
    "- 5. Types of methods for inference"
   ]
  },
  {
   "cell_type": "markdown",
   "id": "294d7653",
   "metadata": {},
   "source": [
    "## 2.1.1. 1. What are Bayesian Models\n",
    "A Bayesian network, Bayes network, belief network, Bayes(ian) model or probabilistic directed acyclic graphical model is a probabilistic graphical model (a type of statistical model) that represents a set of random variables and their conditional dependencies via a directed acyclic graph (DAG). Bayesian networks are mostly used when we want to represent causal relationship between the random variables. Bayesian Networks are parameterized using Conditional Probability Distributions (CPD). Each node in the network is parameterized using P(node | Pa(node)) where Pa(node) represents the parents of node in the network.\n",
    "\n",
    "<img src='https://pgmpy.org/_images/detailed_notebooks_2._Bayesian_Networks_4_0.png'>"
   ]
  },
  {
   "cell_type": "code",
   "execution_count": 2,
   "id": "0826c133",
   "metadata": {},
   "outputs": [],
   "source": [
    "# ! pip install pgmpy"
   ]
  },
  {
   "cell_type": "markdown",
   "id": "a34cd5d5",
   "metadata": {},
   "source": [
    "### The representation of CPD in pgmpy is a bit different than the CPD shown in the above picture. \n",
    "In pgmpy\n",
    "### the colums are the evidences \n",
    "### the rows are the states of the variable. \n",
    "\n",
    "### 그림의 Grade(G) 행렬을 Transpose하면 됨"
   ]
  },
  {
   "cell_type": "code",
   "execution_count": 3,
   "id": "c354377b",
   "metadata": {},
   "outputs": [
    {
     "data": {
      "text/plain": [
       "True"
      ]
     },
     "execution_count": 3,
     "metadata": {},
     "output_type": "execute_result"
    }
   ],
   "source": [
    "from pgmpy.models import BayesianModel\n",
    "from pgmpy.factors.discrete import TabularCPD\n",
    "\n",
    "# Defining the model structure. We can define the network by just passing a list of edges.\n",
    "model = BayesianModel([('D', 'G'), ('I', 'G'), ('G', 'L'), ('I', 'S')])\n",
    "\n",
    "# Defining individual CPDs.\n",
    "cpd_d = TabularCPD(variable='D', variable_card=2, values=[[0.6], [0.4]])\n",
    "cpd_i = TabularCPD(variable='I', variable_card=2, values=[[0.7], [0.3]])\n",
    "\n",
    "# The representation of CPD in pgmpy is a bit different than the CPD shown in the above picture. In pgmpy the colums\n",
    "# are the evidences and rows are the states of the variable. So the grade CPD is represented like this:\n",
    "#\n",
    "#    +---------+---------+---------+---------+---------+\n",
    "#    | diff    | intel_0 | intel_0 | intel_1 | intel_1 |\n",
    "#    +---------+---------+---------+---------+---------+\n",
    "#    | intel   | diff_0  | diff_1  | diff_0  | diff_1  |\n",
    "#    +---------+---------+---------+---------+---------+\n",
    "#    | grade_0 | 0.3     | 0.05    | 0.9     | 0.5     |\n",
    "#    +---------+---------+---------+---------+---------+\n",
    "#    | grade_1 | 0.4     | 0.25    | 0.08    | 0.3     |\n",
    "#    +---------+---------+---------+---------+---------+\n",
    "#    | grade_2 | 0.3     | 0.7     | 0.02    | 0.2     |\n",
    "#    +---------+---------+---------+---------+---------+\n",
    "\n",
    "cpd_g = TabularCPD(variable='G', variable_card=3,\n",
    "                   values=[[0.3, 0.05, 0.9,  0.5],\n",
    "                           [0.4, 0.25, 0.08, 0.3],\n",
    "                           [0.3, 0.7,  0.02, 0.2]],\n",
    "                  evidence=['I', 'D'],\n",
    "                  evidence_card=[2, 2])\n",
    "\n",
    "cpd_l = TabularCPD(variable='L', variable_card=2,\n",
    "                   values=[[0.1, 0.4, 0.99],\n",
    "                           [0.9, 0.6, 0.01]],\n",
    "                   evidence=['G'],\n",
    "                   evidence_card=[3])\n",
    "\n",
    "cpd_s = TabularCPD(variable='S', variable_card=2,\n",
    "                   values=[[0.95, 0.2],\n",
    "                           [0.05, 0.8]],\n",
    "                   evidence=['I'],\n",
    "                   evidence_card=[2])\n",
    "\n",
    "# Associating the CPDs with the network\n",
    "model.add_cpds(cpd_d, cpd_i, cpd_g, cpd_l, cpd_s)\n",
    "\n",
    "# check_model checks for the network structure and CPDs and verifies that the CPDs are correctly\n",
    "# defined and sum to 1.\n",
    "model.check_model()"
   ]
  },
  {
   "cell_type": "code",
   "execution_count": 4,
   "id": "ba495a70",
   "metadata": {},
   "outputs": [
    {
     "data": {
      "text/plain": [
       "True"
      ]
     },
     "execution_count": 4,
     "metadata": {},
     "output_type": "execute_result"
    }
   ],
   "source": [
    "# CPDs can also be defined using the state names of the variables. If the state names are not provided\n",
    "# like in the previous example, pgmpy will automatically assign names as: 0, 1, 2, ....\n",
    "\n",
    "cpd_d_sn = TabularCPD(variable='D', variable_card=2, values=[[0.6], [0.4]], state_names={'D': ['Easy', 'Hard']})\n",
    "cpd_i_sn = TabularCPD(variable='I', variable_card=2, values=[[0.7], [0.3]], state_names={'I': ['Dumb', 'Intelligent']})\n",
    "cpd_g_sn = TabularCPD(variable='G', variable_card=3,\n",
    "                      values=[[0.3, 0.05, 0.9,  0.5],\n",
    "                              [0.4, 0.25, 0.08, 0.3],\n",
    "                              [0.3, 0.7,  0.02, 0.2]],\n",
    "                      evidence=['I', 'D'],\n",
    "                      evidence_card=[2, 2],\n",
    "                      state_names={'G': ['A', 'B', 'C'],\n",
    "                                   'I': ['Dumb', 'Intelligent'],\n",
    "                                   'D': ['Easy', 'Hard']})\n",
    "\n",
    "cpd_l_sn = TabularCPD(variable='L', variable_card=2,\n",
    "                      values=[[0.1, 0.4, 0.99],\n",
    "                              [0.9, 0.6, 0.01]],\n",
    "                      evidence=['G'],\n",
    "                      evidence_card=[3],\n",
    "                      state_names={'L': ['Bad', 'Good'],\n",
    "                                   'G': ['A', 'B', 'C']})\n",
    "\n",
    "cpd_s_sn = TabularCPD(variable='S', variable_card=2,\n",
    "                      values=[[0.95, 0.2],\n",
    "                              [0.05, 0.8]],\n",
    "                      evidence=['I'],\n",
    "                      evidence_card=[2],\n",
    "                      state_names={'S': ['Bad', 'Good'],\n",
    "                                   'I': ['Dumb', 'Intelligent']})\n",
    "\n",
    "# These defined CPDs can be added to the model. Since, the model already has CPDs associated to variables, it will\n",
    "# show warning that pmgpy is now replacing those CPDs with the new ones.\n",
    "model.add_cpds(cpd_d_sn, cpd_i_sn, cpd_g_sn, cpd_l_sn, cpd_s_sn)\n",
    "model.check_model()"
   ]
  },
  {
   "cell_type": "code",
   "execution_count": 5,
   "id": "f5109f6d",
   "metadata": {},
   "outputs": [
    {
     "data": {
      "text/plain": [
       "[<TabularCPD representing P(D:2) at 0x1ecdb388fa0>,\n",
       " <TabularCPD representing P(I:2) at 0x1ecdb388f40>,\n",
       " <TabularCPD representing P(G:3 | I:2, D:2) at 0x1ecdb388fd0>,\n",
       " <TabularCPD representing P(L:2 | G:3) at 0x1ecdb388f70>,\n",
       " <TabularCPD representing P(S:2 | I:2) at 0x1ecdb388df0>]"
      ]
     },
     "execution_count": 5,
     "metadata": {},
     "output_type": "execute_result"
    }
   ],
   "source": [
    "# We can now call some methods on the BayesianModel object.\n",
    "model.get_cpds()"
   ]
  },
  {
   "cell_type": "code",
   "execution_count": 6,
   "id": "a2b8f60b",
   "metadata": {},
   "outputs": [
    {
     "name": "stdout",
     "output_type": "stream",
     "text": [
      "+------+------+------+------+------+\n",
      "| I    | I(0) | I(0) | I(1) | I(1) |\n",
      "+------+------+------+------+------+\n",
      "| D    | D(0) | D(1) | D(0) | D(1) |\n",
      "+------+------+------+------+------+\n",
      "| G(0) | 0.3  | 0.05 | 0.9  | 0.5  |\n",
      "+------+------+------+------+------+\n",
      "| G(1) | 0.4  | 0.25 | 0.08 | 0.3  |\n",
      "+------+------+------+------+------+\n",
      "| G(2) | 0.3  | 0.7  | 0.02 | 0.2  |\n",
      "+------+------+------+------+------+\n"
     ]
    }
   ],
   "source": [
    "# Printing a CPD which doesn't have state names defined.\n",
    "print(cpd_g)"
   ]
  },
  {
   "cell_type": "code",
   "execution_count": 7,
   "id": "aec121d2",
   "metadata": {},
   "outputs": [
    {
     "name": "stdout",
     "output_type": "stream",
     "text": [
      "+------+---------+---------+----------------+----------------+\n",
      "| I    | I(Dumb) | I(Dumb) | I(Intelligent) | I(Intelligent) |\n",
      "+------+---------+---------+----------------+----------------+\n",
      "| D    | D(Easy) | D(Hard) | D(Easy)        | D(Hard)        |\n",
      "+------+---------+---------+----------------+----------------+\n",
      "| G(A) | 0.3     | 0.05    | 0.9            | 0.5            |\n",
      "+------+---------+---------+----------------+----------------+\n",
      "| G(B) | 0.4     | 0.25    | 0.08           | 0.3            |\n",
      "+------+---------+---------+----------------+----------------+\n",
      "| G(C) | 0.3     | 0.7     | 0.02           | 0.2            |\n",
      "+------+---------+---------+----------------+----------------+\n"
     ]
    }
   ],
   "source": [
    "# Printing a CPD with it's state names defined.\n",
    "print(model.get_cpds('G'))"
   ]
  },
  {
   "cell_type": "code",
   "execution_count": 8,
   "id": "b4e8485f",
   "metadata": {},
   "outputs": [
    {
     "data": {
      "text/plain": [
       "3"
      ]
     },
     "execution_count": 8,
     "metadata": {},
     "output_type": "execute_result"
    }
   ],
   "source": [
    "model.get_cardinality('G')"
   ]
  },
  {
   "cell_type": "markdown",
   "id": "d3dcbc8f",
   "metadata": {},
   "source": [
    "## 2.1.2. 2. Independencies in Bayesian Networks"
   ]
  },
  {
   "cell_type": "code",
   "execution_count": 9,
   "id": "2163060a",
   "metadata": {},
   "outputs": [
    {
     "name": "stdout",
     "output_type": "stream",
     "text": [
      "The local independencies of a D : (D ⟂ S, I)\n",
      "The local independencies of a I : (I ⟂ D)\n",
      "The local independencies of a G : (G ⟂ S | D, I)\n",
      "The local independencies of a S : (S ⟂ D, G, L | I)\n",
      "The local independencies of a L : (L ⟂ D, S, I | G)\n"
     ]
    }
   ],
   "source": [
    "# Getting the local independencies of a variable.\n",
    "for var in ['D', 'I', 'G', 'S', 'L']:\n",
    "    print(f'The local independencies of a {var} : {model.local_independencies(var)}')"
   ]
  },
  {
   "cell_type": "code",
   "execution_count": 10,
   "id": "ceb99fdc",
   "metadata": {},
   "outputs": [
    {
     "data": {
      "text/plain": [
       "(D ⟂ S, I)\n",
       "(I ⟂ D)\n",
       "(S ⟂ D, G, L | I)\n",
       "(G ⟂ S | D, I)\n",
       "(L ⟂ D, S, I | G)"
      ]
     },
     "execution_count": 10,
     "metadata": {},
     "output_type": "execute_result"
    }
   ],
   "source": [
    "# Getting all the local independencies in the network.\n",
    "model.local_independencies(['D', 'I', 'S', 'G', 'L'])"
   ]
  },
  {
   "cell_type": "markdown",
   "id": "545c99bd",
   "metadata": {},
   "source": [
    "## Active trail: \n",
    "- For any two variables A and B in a network if any change in A influences the values of B then we say that there is an active trail between A and B.\n",
    "- In pgmpy active_trail_nodes gives a set of nodes which are affected (i.e. correlated) by any change in the node passed in the argument."
   ]
  },
  {
   "cell_type": "code",
   "execution_count": 11,
   "id": "69819477",
   "metadata": {},
   "outputs": [
    {
     "data": {
      "text/plain": [
       "{'D': {'D', 'G', 'L'}}"
      ]
     },
     "execution_count": 11,
     "metadata": {},
     "output_type": "execute_result"
    }
   ],
   "source": [
    "model.active_trail_nodes('D')"
   ]
  },
  {
   "cell_type": "code",
   "execution_count": 12,
   "id": "2e0e0cd6",
   "metadata": {},
   "outputs": [
    {
     "data": {
      "text/plain": [
       "{'D': {'D', 'I', 'S'}}"
      ]
     },
     "execution_count": 12,
     "metadata": {},
     "output_type": "execute_result"
    }
   ],
   "source": [
    "model.active_trail_nodes('D', observed='G')"
   ]
  },
  {
   "cell_type": "markdown",
   "id": "fd373905",
   "metadata": {},
   "source": [
    "## 2.1.4. 4. Inference in Bayesian Models\n",
    "### 2.1.4.1. Variable Elimination"
   ]
  },
  {
   "cell_type": "code",
   "execution_count": 13,
   "id": "d91e9351",
   "metadata": {},
   "outputs": [
    {
     "name": "stdout",
     "output_type": "stream",
     "text": [
      "+------+----------+\n",
      "| G    |   phi(G) |\n",
      "+======+==========+\n",
      "| G(A) |   0.3620 |\n",
      "+------+----------+\n",
      "| G(B) |   0.2884 |\n",
      "+------+----------+\n",
      "| G(C) |   0.3496 |\n",
      "+------+----------+\n"
     ]
    }
   ],
   "source": [
    "from pgmpy.inference import VariableElimination\n",
    "infer = VariableElimination(model)\n",
    "g_dist = infer.query(['G'])\n",
    "print(g_dist)"
   ]
  },
  {
   "cell_type": "code",
   "execution_count": 14,
   "id": "bca4ccf0",
   "metadata": {},
   "outputs": [
    {
     "name": "stdout",
     "output_type": "stream",
     "text": [
      "+------+------+------+------+------+\n",
      "| I    | I(0) | I(0) | I(1) | I(1) |\n",
      "+------+------+------+------+------+\n",
      "| D    | D(0) | D(1) | D(0) | D(1) |\n",
      "+------+------+------+------+------+\n",
      "| G(0) | 0.3  | 0.05 | 0.9  | 0.5  |\n",
      "+------+------+------+------+------+\n",
      "| G(1) | 0.4  | 0.25 | 0.08 | 0.3  |\n",
      "+------+------+------+------+------+\n",
      "| G(2) | 0.3  | 0.7  | 0.02 | 0.2  |\n",
      "+------+------+------+------+------+\n"
     ]
    }
   ],
   "source": [
    "print(cpd_g)"
   ]
  },
  {
   "cell_type": "code",
   "execution_count": 15,
   "id": "3bc603d4",
   "metadata": {},
   "outputs": [
    {
     "data": {
      "image/png": "[encoded data removed]",
      "text/plain": [
       "<IPython.core.display.Image object>"
      ]
     },
     "execution_count": 15,
     "metadata": {
      "image/png": {
       "height": 1000,
       "width": 1000
      }
     },
     "output_type": "execute_result"
    }
   ],
   "source": [
    "from IPython.display import Image\n",
    "width=1000; height=1000\n",
    "dir_path = r'D:\\Baysian model\\img'\n",
    "Image(filename=dir_path + '/variational inference.png', width=width, height=height)"
   ]
  },
  {
   "cell_type": "markdown",
   "id": "4f3798e7",
   "metadata": {},
   "source": [
    "## 2.1.4.2. Predicting values from new data points"
   ]
  },
  {
   "cell_type": "code",
   "execution_count": 16,
   "id": "0750d3b5",
   "metadata": {},
   "outputs": [
    {
     "name": "stdout",
     "output_type": "stream",
     "text": [
      "+------+----------+\n",
      "| G    |   phi(G) |\n",
      "+======+==========+\n",
      "| G(A) |   0.9000 |\n",
      "+------+----------+\n",
      "| G(B) |   0.0800 |\n",
      "+------+----------+\n",
      "| G(C) |   0.0200 |\n",
      "+------+----------+\n"
     ]
    }
   ],
   "source": [
    "print(infer.query(['G'], evidence={'D': 'Easy', 'I': 'Intelligent'}))"
   ]
  },
  {
   "cell_type": "code",
   "execution_count": 17,
   "id": "5541af86",
   "metadata": {},
   "outputs": [
    {
     "data": {
      "application/vnd.jupyter.widget-view+json": {
       "model_id": "72ce61f29a3444ae96a1eee54db5a504",
       "version_major": 2,
       "version_minor": 0
      },
      "text/plain": [
       "  0%|          | 0/2 [00:00<?, ?it/s]"
      ]
     },
     "metadata": {},
     "output_type": "display_data"
    },
    {
     "data": {
      "application/vnd.jupyter.widget-view+json": {
       "model_id": "5ca93c80c5264bd5a422ba1914c65dd0",
       "version_major": 2,
       "version_minor": 0
      },
      "text/plain": [
       "  0%|          | 0/2 [00:00<?, ?it/s]"
      ]
     },
     "metadata": {},
     "output_type": "display_data"
    },
    {
     "data": {
      "text/plain": [
       "{'G': 'A'}"
      ]
     },
     "execution_count": 17,
     "metadata": {},
     "output_type": "execute_result"
    }
   ],
   "source": [
    "infer.map_query(['G'])"
   ]
  },
  {
   "cell_type": "code",
   "execution_count": 18,
   "id": "c8d94f2a",
   "metadata": {},
   "outputs": [
    {
     "data": {
      "application/vnd.jupyter.widget-view+json": {
       "model_id": "7e2955c45e264b6e9955f81d3739a88a",
       "version_major": 2,
       "version_minor": 0
      },
      "text/plain": [
       "0it [00:00, ?it/s]"
      ]
     },
     "metadata": {},
     "output_type": "display_data"
    },
    {
     "data": {
      "application/vnd.jupyter.widget-view+json": {
       "model_id": "27ccff13711a4e01b17ee778510c90f4",
       "version_major": 2,
       "version_minor": 0
      },
      "text/plain": [
       "0it [00:00, ?it/s]"
      ]
     },
     "metadata": {},
     "output_type": "display_data"
    },
    {
     "data": {
      "text/plain": [
       "{'G': 'A'}"
      ]
     },
     "execution_count": 18,
     "metadata": {},
     "output_type": "execute_result"
    }
   ],
   "source": [
    "infer.map_query(['G'], evidence={'D': 'Easy', 'I': 'Intelligent'})"
   ]
  },
  {
   "cell_type": "code",
   "execution_count": 19,
   "id": "422af600",
   "metadata": {},
   "outputs": [
    {
     "data": {
      "application/vnd.jupyter.widget-view+json": {
       "model_id": "f6ecedb142404e9996c348ff99444950",
       "version_major": 2,
       "version_minor": 0
      },
      "text/plain": [
       "0it [00:00, ?it/s]"
      ]
     },
     "metadata": {},
     "output_type": "display_data"
    },
    {
     "data": {
      "application/vnd.jupyter.widget-view+json": {
       "model_id": "c146b4505f4e495ea70d240f2507a3d0",
       "version_major": 2,
       "version_minor": 0
      },
      "text/plain": [
       "0it [00:00, ?it/s]"
      ]
     },
     "metadata": {},
     "output_type": "display_data"
    },
    {
     "data": {
      "text/plain": [
       "{'G': 'B'}"
      ]
     },
     "execution_count": 19,
     "metadata": {},
     "output_type": "execute_result"
    }
   ],
   "source": [
    "infer.map_query(['G'], evidence={'D': 'Easy', 'I': 'Dumb'})"
   ]
  },
  {
   "cell_type": "code",
   "execution_count": 20,
   "id": "187a9152",
   "metadata": {},
   "outputs": [
    {
     "data": {
      "application/vnd.jupyter.widget-view+json": {
       "model_id": "c6616762254046bb911c57c69539634a",
       "version_major": 2,
       "version_minor": 0
      },
      "text/plain": [
       "0it [00:00, ?it/s]"
      ]
     },
     "metadata": {},
     "output_type": "display_data"
    },
    {
     "data": {
      "application/vnd.jupyter.widget-view+json": {
       "model_id": "b9e91bdd7742441f86eb7713c48c55cc",
       "version_major": 2,
       "version_minor": 0
      },
      "text/plain": [
       "0it [00:00, ?it/s]"
      ]
     },
     "metadata": {},
     "output_type": "display_data"
    },
    {
     "data": {
      "text/plain": [
       "{'G': 'A'}"
      ]
     },
     "execution_count": 20,
     "metadata": {},
     "output_type": "execute_result"
    }
   ],
   "source": [
    "infer.map_query(['G'], evidence={'D': 'Hard', 'I': 'Intelligent'})"
   ]
  },
  {
   "cell_type": "code",
   "execution_count": 21,
   "id": "aca073bb",
   "metadata": {},
   "outputs": [
    {
     "data": {
      "application/vnd.jupyter.widget-view+json": {
       "model_id": "a314675b8e08483bbb26649c6687bff1",
       "version_major": 2,
       "version_minor": 0
      },
      "text/plain": [
       "0it [00:00, ?it/s]"
      ]
     },
     "metadata": {},
     "output_type": "display_data"
    },
    {
     "data": {
      "application/vnd.jupyter.widget-view+json": {
       "model_id": "b81943a1894a439887ff721ddb89d981",
       "version_major": 2,
       "version_minor": 0
      },
      "text/plain": [
       "0it [00:00, ?it/s]"
      ]
     },
     "metadata": {},
     "output_type": "display_data"
    },
    {
     "data": {
      "text/plain": [
       "{'G': 'C'}"
      ]
     },
     "execution_count": 21,
     "metadata": {},
     "output_type": "execute_result"
    }
   ],
   "source": [
    "infer.map_query(['G'], evidence={'D': 'Hard', 'I': 'Dumb'})"
   ]
  },
  {
   "cell_type": "code",
   "execution_count": 22,
   "id": "64be587c",
   "metadata": {},
   "outputs": [
    {
     "data": {
      "application/vnd.jupyter.widget-view+json": {
       "model_id": "f5501e25a1aa4217b865537385e5a48f",
       "version_major": 2,
       "version_minor": 0
      },
      "text/plain": [
       "0it [00:00, ?it/s]"
      ]
     },
     "metadata": {},
     "output_type": "display_data"
    },
    {
     "data": {
      "application/vnd.jupyter.widget-view+json": {
       "model_id": "c8ff445bee264da7a9b7267fa07cc1d5",
       "version_major": 2,
       "version_minor": 0
      },
      "text/plain": [
       "0it [00:00, ?it/s]"
      ]
     },
     "metadata": {},
     "output_type": "display_data"
    },
    {
     "data": {
      "text/plain": [
       "{'G': 'A'}"
      ]
     },
     "execution_count": 22,
     "metadata": {},
     "output_type": "execute_result"
    }
   ],
   "source": [
    "infer.map_query(['G'], evidence={'D': 'Easy', 'I': 'Intelligent', 'L': 'Good', 'S': 'Good'})"
   ]
  },
  {
   "cell_type": "markdown",
   "id": "d82bf610",
   "metadata": {},
   "source": [
    "# End"
   ]
  }
 ],
 "metadata": {
  "kernelspec": {
   "display_name": "Python 3",
   "language": "python",
   "name": "python3"
  },
  "language_info": {
   "codemirror_mode": {
    "name": "ipython",
    "version": 3
   },
   "file_extension": ".py",
   "mimetype": "text/x-python",
   "name": "python",
   "nbconvert_exporter": "python",
   "pygments_lexer": "ipython3",
   "version": "3.8.8"
  }
 },
 "nbformat": 4,
 "nbformat_minor": 5
}
